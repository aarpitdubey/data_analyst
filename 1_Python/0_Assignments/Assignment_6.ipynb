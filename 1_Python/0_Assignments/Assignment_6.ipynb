{
 "cells": [
  {
   "cell_type": "markdown",
   "id": "c99853fe",
   "metadata": {},
   "source": [
    "<center><h1>Assignment 6 </h1></center>\n",
    "\n",
    "\n",
    "\n",
    "## PANDAS \n",
    "\n",
    "\n",
    "### Q1- Create a Pandas Data frame from the given data and create a new column “Voter” based on voter age, i.e., if age >18 then voter column should be “Yes” otherwise if age <18 then voter column should be “No”\n",
    "\n",
    "```python\n",
    "raw_Data = {'Voter_name': ['Geek1', 'Geek2', 'Geek3', 'Geek4',\n",
    "'Geek5', 'Geek6', 'Geek7', 'Geek8'],\n",
    "'Voter_age': [15, 23, 25, 9, 67, 54, 42, np.NaN]}\n",
    "```"
   ]
  },
  {
   "cell_type": "markdown",
   "id": "bfc644ea",
   "metadata": {},
   "source": [
    "#### Import Libraries"
   ]
  },
  {
   "cell_type": "code",
   "execution_count": 1,
   "id": "9a26f55e",
   "metadata": {},
   "outputs": [],
   "source": [
    "import pandas as pd\n",
    "import numpy as np\n",
    "import warnings\n",
    "warnings.filterwarnings(\"ignore\") # To ignore unnecessary warnings"
   ]
  },
  {
   "cell_type": "code",
   "execution_count": 2,
   "id": "57ce5ae3",
   "metadata": {},
   "outputs": [
    {
     "data": {
      "text/html": [
       "<div>\n",
       "<style scoped>\n",
       "    .dataframe tbody tr th:only-of-type {\n",
       "        vertical-align: middle;\n",
       "    }\n",
       "\n",
       "    .dataframe tbody tr th {\n",
       "        vertical-align: top;\n",
       "    }\n",
       "\n",
       "    .dataframe thead th {\n",
       "        text-align: right;\n",
       "    }\n",
       "</style>\n",
       "<table border=\"1\" class=\"dataframe\">\n",
       "  <thead>\n",
       "    <tr style=\"text-align: right;\">\n",
       "      <th></th>\n",
       "      <th>Voter_name</th>\n",
       "      <th>Voter_age</th>\n",
       "    </tr>\n",
       "  </thead>\n",
       "  <tbody>\n",
       "    <tr>\n",
       "      <th>0</th>\n",
       "      <td>Geek1</td>\n",
       "      <td>15.0</td>\n",
       "    </tr>\n",
       "    <tr>\n",
       "      <th>1</th>\n",
       "      <td>Geek2</td>\n",
       "      <td>23.0</td>\n",
       "    </tr>\n",
       "    <tr>\n",
       "      <th>2</th>\n",
       "      <td>Geek3</td>\n",
       "      <td>25.0</td>\n",
       "    </tr>\n",
       "    <tr>\n",
       "      <th>3</th>\n",
       "      <td>Geek4</td>\n",
       "      <td>9.0</td>\n",
       "    </tr>\n",
       "    <tr>\n",
       "      <th>4</th>\n",
       "      <td>Geek5</td>\n",
       "      <td>67.0</td>\n",
       "    </tr>\n",
       "    <tr>\n",
       "      <th>5</th>\n",
       "      <td>Geek6</td>\n",
       "      <td>54.0</td>\n",
       "    </tr>\n",
       "    <tr>\n",
       "      <th>6</th>\n",
       "      <td>Geek7</td>\n",
       "      <td>42.0</td>\n",
       "    </tr>\n",
       "    <tr>\n",
       "      <th>7</th>\n",
       "      <td>Geek8</td>\n",
       "      <td>NaN</td>\n",
       "    </tr>\n",
       "  </tbody>\n",
       "</table>\n",
       "</div>"
      ],
      "text/plain": [
       "  Voter_name  Voter_age\n",
       "0      Geek1       15.0\n",
       "1      Geek2       23.0\n",
       "2      Geek3       25.0\n",
       "3      Geek4        9.0\n",
       "4      Geek5       67.0\n",
       "5      Geek6       54.0\n",
       "6      Geek7       42.0\n",
       "7      Geek8        NaN"
      ]
     },
     "execution_count": 2,
     "metadata": {},
     "output_type": "execute_result"
    }
   ],
   "source": [
    "raw_Data = {'Voter_name': ['Geek1', 'Geek2', 'Geek3', 'Geek4',\n",
    "'Geek5', 'Geek6', 'Geek7', 'Geek8'],\n",
    "'Voter_age': [15, 23, 25, 9, 67, 54, 42, np.NaN]}\n",
    "\n",
    "df = pd.DataFrame(raw_Data) # convert dictionary raw_Data into a Data Frame.\n",
    "\n",
    "df"
   ]
  },
  {
   "cell_type": "markdown",
   "id": "ab185541",
   "metadata": {},
   "source": [
    "#### Handling Missing Values"
   ]
  },
  {
   "cell_type": "code",
   "execution_count": 3,
   "id": "e7c3e63a",
   "metadata": {},
   "outputs": [
    {
     "name": "stdout",
     "output_type": "stream",
     "text": [
      "<class 'pandas.core.frame.DataFrame'>\n",
      "RangeIndex: 8 entries, 0 to 7\n",
      "Data columns (total 2 columns):\n",
      " #   Column      Non-Null Count  Dtype  \n",
      "---  ------      --------------  -----  \n",
      " 0   Voter_name  8 non-null      object \n",
      " 1   Voter_age   7 non-null      float64\n",
      "dtypes: float64(1), object(1)\n",
      "memory usage: 260.0+ bytes\n"
     ]
    }
   ],
   "source": [
    "df.info() # Check count of not-null values"
   ]
  },
  {
   "cell_type": "code",
   "execution_count": 4,
   "id": "af7db996",
   "metadata": {},
   "outputs": [
    {
     "data": {
      "text/html": [
       "<div>\n",
       "<style scoped>\n",
       "    .dataframe tbody tr th:only-of-type {\n",
       "        vertical-align: middle;\n",
       "    }\n",
       "\n",
       "    .dataframe tbody tr th {\n",
       "        vertical-align: top;\n",
       "    }\n",
       "\n",
       "    .dataframe thead th {\n",
       "        text-align: right;\n",
       "    }\n",
       "</style>\n",
       "<table border=\"1\" class=\"dataframe\">\n",
       "  <thead>\n",
       "    <tr style=\"text-align: right;\">\n",
       "      <th></th>\n",
       "      <th>Voter_name</th>\n",
       "      <th>Voter_age</th>\n",
       "    </tr>\n",
       "  </thead>\n",
       "  <tbody>\n",
       "    <tr>\n",
       "      <th>7</th>\n",
       "      <td>Geek8</td>\n",
       "      <td>NaN</td>\n",
       "    </tr>\n",
       "  </tbody>\n",
       "</table>\n",
       "</div>"
      ],
      "text/plain": [
       "  Voter_name  Voter_age\n",
       "7      Geek8        NaN"
      ]
     },
     "execution_count": 4,
     "metadata": {},
     "output_type": "execute_result"
    }
   ],
   "source": [
    "row_with_NaN = df[df['Voter_age'].isnull()] # finding the row with null values\n",
    "row_with_NaN"
   ]
  },
  {
   "cell_type": "markdown",
   "id": "07b53594",
   "metadata": {},
   "source": [
    "#### 1. DROP MISSING VALUE (or) NAN"
   ]
  },
  {
   "cell_type": "code",
   "execution_count": 5,
   "id": "620f6c35",
   "metadata": {},
   "outputs": [
    {
     "data": {
      "text/html": [
       "<div>\n",
       "<style scoped>\n",
       "    .dataframe tbody tr th:only-of-type {\n",
       "        vertical-align: middle;\n",
       "    }\n",
       "\n",
       "    .dataframe tbody tr th {\n",
       "        vertical-align: top;\n",
       "    }\n",
       "\n",
       "    .dataframe thead th {\n",
       "        text-align: right;\n",
       "    }\n",
       "</style>\n",
       "<table border=\"1\" class=\"dataframe\">\n",
       "  <thead>\n",
       "    <tr style=\"text-align: right;\">\n",
       "      <th></th>\n",
       "      <th>Voter_name</th>\n",
       "      <th>Voter_age</th>\n",
       "    </tr>\n",
       "  </thead>\n",
       "  <tbody>\n",
       "    <tr>\n",
       "      <th>0</th>\n",
       "      <td>Geek1</td>\n",
       "      <td>15.0</td>\n",
       "    </tr>\n",
       "    <tr>\n",
       "      <th>1</th>\n",
       "      <td>Geek2</td>\n",
       "      <td>23.0</td>\n",
       "    </tr>\n",
       "    <tr>\n",
       "      <th>2</th>\n",
       "      <td>Geek3</td>\n",
       "      <td>25.0</td>\n",
       "    </tr>\n",
       "    <tr>\n",
       "      <th>3</th>\n",
       "      <td>Geek4</td>\n",
       "      <td>9.0</td>\n",
       "    </tr>\n",
       "    <tr>\n",
       "      <th>4</th>\n",
       "      <td>Geek5</td>\n",
       "      <td>67.0</td>\n",
       "    </tr>\n",
       "    <tr>\n",
       "      <th>5</th>\n",
       "      <td>Geek6</td>\n",
       "      <td>54.0</td>\n",
       "    </tr>\n",
       "    <tr>\n",
       "      <th>6</th>\n",
       "      <td>Geek7</td>\n",
       "      <td>42.0</td>\n",
       "    </tr>\n",
       "  </tbody>\n",
       "</table>\n",
       "</div>"
      ],
      "text/plain": [
       "  Voter_name  Voter_age\n",
       "0      Geek1       15.0\n",
       "1      Geek2       23.0\n",
       "2      Geek3       25.0\n",
       "3      Geek4        9.0\n",
       "4      Geek5       67.0\n",
       "5      Geek6       54.0\n",
       "6      Geek7       42.0"
      ]
     },
     "execution_count": 5,
     "metadata": {},
     "output_type": "execute_result"
    }
   ],
   "source": [
    "df_droppedValue = df.dropna() # save the Data Frame after droping null values\n",
    "df_droppedValue"
   ]
  },
  {
   "cell_type": "code",
   "execution_count": 6,
   "id": "c016e9d2",
   "metadata": {},
   "outputs": [],
   "source": [
    "# Create a function for checking out the Voting_age is above 18 or below\n",
    "\n",
    "def voting_age(age):\n",
    "    if age > 18:\n",
    "        return 'Yes'\n",
    "    else:\n",
    "        return 'No'"
   ]
  },
  {
   "cell_type": "code",
   "execution_count": 7,
   "id": "3d9563b7",
   "metadata": {},
   "outputs": [
    {
     "data": {
      "text/html": [
       "<div>\n",
       "<style scoped>\n",
       "    .dataframe tbody tr th:only-of-type {\n",
       "        vertical-align: middle;\n",
       "    }\n",
       "\n",
       "    .dataframe tbody tr th {\n",
       "        vertical-align: top;\n",
       "    }\n",
       "\n",
       "    .dataframe thead th {\n",
       "        text-align: right;\n",
       "    }\n",
       "</style>\n",
       "<table border=\"1\" class=\"dataframe\">\n",
       "  <thead>\n",
       "    <tr style=\"text-align: right;\">\n",
       "      <th></th>\n",
       "      <th>Voter_name</th>\n",
       "      <th>Voter_age</th>\n",
       "      <th>Voter</th>\n",
       "    </tr>\n",
       "  </thead>\n",
       "  <tbody>\n",
       "    <tr>\n",
       "      <th>0</th>\n",
       "      <td>Geek1</td>\n",
       "      <td>15.0</td>\n",
       "      <td>No</td>\n",
       "    </tr>\n",
       "    <tr>\n",
       "      <th>1</th>\n",
       "      <td>Geek2</td>\n",
       "      <td>23.0</td>\n",
       "      <td>Yes</td>\n",
       "    </tr>\n",
       "    <tr>\n",
       "      <th>2</th>\n",
       "      <td>Geek3</td>\n",
       "      <td>25.0</td>\n",
       "      <td>Yes</td>\n",
       "    </tr>\n",
       "    <tr>\n",
       "      <th>3</th>\n",
       "      <td>Geek4</td>\n",
       "      <td>9.0</td>\n",
       "      <td>No</td>\n",
       "    </tr>\n",
       "    <tr>\n",
       "      <th>4</th>\n",
       "      <td>Geek5</td>\n",
       "      <td>67.0</td>\n",
       "      <td>Yes</td>\n",
       "    </tr>\n",
       "    <tr>\n",
       "      <th>5</th>\n",
       "      <td>Geek6</td>\n",
       "      <td>54.0</td>\n",
       "      <td>Yes</td>\n",
       "    </tr>\n",
       "    <tr>\n",
       "      <th>6</th>\n",
       "      <td>Geek7</td>\n",
       "      <td>42.0</td>\n",
       "      <td>Yes</td>\n",
       "    </tr>\n",
       "  </tbody>\n",
       "</table>\n",
       "</div>"
      ],
      "text/plain": [
       "  Voter_name  Voter_age Voter\n",
       "0      Geek1       15.0    No\n",
       "1      Geek2       23.0   Yes\n",
       "2      Geek3       25.0   Yes\n",
       "3      Geek4        9.0    No\n",
       "4      Geek5       67.0   Yes\n",
       "5      Geek6       54.0   Yes\n",
       "6      Geek7       42.0   Yes"
      ]
     },
     "execution_count": 7,
     "metadata": {},
     "output_type": "execute_result"
    }
   ],
   "source": [
    "# Creating another column 'Voter' to save Yes or No according to their age\n",
    "df_droppedValue['Voter'] = df_droppedValue['Voter_age'].apply(voting_age)\n",
    "df_droppedValue"
   ]
  },
  {
   "cell_type": "markdown",
   "id": "738e63df",
   "metadata": {},
   "source": [
    "#### 2. Impute Missing Value (or) NaN with the mean()"
   ]
  },
  {
   "cell_type": "code",
   "execution_count": 8,
   "id": "6204ecb2",
   "metadata": {},
   "outputs": [
    {
     "data": {
      "text/html": [
       "<div>\n",
       "<style scoped>\n",
       "    .dataframe tbody tr th:only-of-type {\n",
       "        vertical-align: middle;\n",
       "    }\n",
       "\n",
       "    .dataframe tbody tr th {\n",
       "        vertical-align: top;\n",
       "    }\n",
       "\n",
       "    .dataframe thead th {\n",
       "        text-align: right;\n",
       "    }\n",
       "</style>\n",
       "<table border=\"1\" class=\"dataframe\">\n",
       "  <thead>\n",
       "    <tr style=\"text-align: right;\">\n",
       "      <th></th>\n",
       "      <th>Voter_name</th>\n",
       "      <th>Voter_age</th>\n",
       "      <th>Voter</th>\n",
       "    </tr>\n",
       "  </thead>\n",
       "  <tbody>\n",
       "    <tr>\n",
       "      <th>0</th>\n",
       "      <td>Geek1</td>\n",
       "      <td>15.000000</td>\n",
       "      <td>No</td>\n",
       "    </tr>\n",
       "    <tr>\n",
       "      <th>1</th>\n",
       "      <td>Geek2</td>\n",
       "      <td>23.000000</td>\n",
       "      <td>Yes</td>\n",
       "    </tr>\n",
       "    <tr>\n",
       "      <th>2</th>\n",
       "      <td>Geek3</td>\n",
       "      <td>25.000000</td>\n",
       "      <td>Yes</td>\n",
       "    </tr>\n",
       "    <tr>\n",
       "      <th>3</th>\n",
       "      <td>Geek4</td>\n",
       "      <td>9.000000</td>\n",
       "      <td>No</td>\n",
       "    </tr>\n",
       "    <tr>\n",
       "      <th>4</th>\n",
       "      <td>Geek5</td>\n",
       "      <td>67.000000</td>\n",
       "      <td>Yes</td>\n",
       "    </tr>\n",
       "    <tr>\n",
       "      <th>5</th>\n",
       "      <td>Geek6</td>\n",
       "      <td>54.000000</td>\n",
       "      <td>Yes</td>\n",
       "    </tr>\n",
       "    <tr>\n",
       "      <th>6</th>\n",
       "      <td>Geek7</td>\n",
       "      <td>42.000000</td>\n",
       "      <td>Yes</td>\n",
       "    </tr>\n",
       "    <tr>\n",
       "      <th>7</th>\n",
       "      <td>Geek8</td>\n",
       "      <td>33.571429</td>\n",
       "      <td>Yes</td>\n",
       "    </tr>\n",
       "  </tbody>\n",
       "</table>\n",
       "</div>"
      ],
      "text/plain": [
       "  Voter_name  Voter_age Voter\n",
       "0      Geek1  15.000000    No\n",
       "1      Geek2  23.000000   Yes\n",
       "2      Geek3  25.000000   Yes\n",
       "3      Geek4   9.000000    No\n",
       "4      Geek5  67.000000   Yes\n",
       "5      Geek6  54.000000   Yes\n",
       "6      Geek7  42.000000   Yes\n",
       "7      Geek8  33.571429   Yes"
      ]
     },
     "execution_count": 8,
     "metadata": {},
     "output_type": "execute_result"
    }
   ],
   "source": [
    "# coping the data frame in other variable df_mean for experimentation impute with mean() \n",
    "df_mean = df\n",
    "mean_age = df_mean['Voter_age'].mean()\n",
    "\n",
    "# fill the null value (or) missing value with the median value\n",
    "df_mean['Voter_age'] = df_mean['Voter_age'].fillna(mean_age)\n",
    "\n",
    "# Creating another column 'Voter' to save Yes or No according to their age\n",
    "df_mean['Voter'] = df_mean['Voter_age'].apply(voting_age)\n",
    "df_mean"
   ]
  },
  {
   "cell_type": "markdown",
   "id": "349369ad",
   "metadata": {},
   "source": [
    "#### 3. Impute Missing Value (or) NaN with median()"
   ]
  },
  {
   "cell_type": "code",
   "execution_count": 9,
   "id": "2e6c259d",
   "metadata": {},
   "outputs": [
    {
     "data": {
      "text/html": [
       "<div>\n",
       "<style scoped>\n",
       "    .dataframe tbody tr th:only-of-type {\n",
       "        vertical-align: middle;\n",
       "    }\n",
       "\n",
       "    .dataframe tbody tr th {\n",
       "        vertical-align: top;\n",
       "    }\n",
       "\n",
       "    .dataframe thead th {\n",
       "        text-align: right;\n",
       "    }\n",
       "</style>\n",
       "<table border=\"1\" class=\"dataframe\">\n",
       "  <thead>\n",
       "    <tr style=\"text-align: right;\">\n",
       "      <th></th>\n",
       "      <th>Voter_name</th>\n",
       "      <th>Voter_age</th>\n",
       "      <th>Voter</th>\n",
       "    </tr>\n",
       "  </thead>\n",
       "  <tbody>\n",
       "    <tr>\n",
       "      <th>0</th>\n",
       "      <td>Geek1</td>\n",
       "      <td>15.000000</td>\n",
       "      <td>No</td>\n",
       "    </tr>\n",
       "    <tr>\n",
       "      <th>1</th>\n",
       "      <td>Geek2</td>\n",
       "      <td>23.000000</td>\n",
       "      <td>Yes</td>\n",
       "    </tr>\n",
       "    <tr>\n",
       "      <th>2</th>\n",
       "      <td>Geek3</td>\n",
       "      <td>25.000000</td>\n",
       "      <td>Yes</td>\n",
       "    </tr>\n",
       "    <tr>\n",
       "      <th>3</th>\n",
       "      <td>Geek4</td>\n",
       "      <td>9.000000</td>\n",
       "      <td>No</td>\n",
       "    </tr>\n",
       "    <tr>\n",
       "      <th>4</th>\n",
       "      <td>Geek5</td>\n",
       "      <td>67.000000</td>\n",
       "      <td>Yes</td>\n",
       "    </tr>\n",
       "    <tr>\n",
       "      <th>5</th>\n",
       "      <td>Geek6</td>\n",
       "      <td>54.000000</td>\n",
       "      <td>Yes</td>\n",
       "    </tr>\n",
       "    <tr>\n",
       "      <th>6</th>\n",
       "      <td>Geek7</td>\n",
       "      <td>42.000000</td>\n",
       "      <td>Yes</td>\n",
       "    </tr>\n",
       "    <tr>\n",
       "      <th>7</th>\n",
       "      <td>Geek8</td>\n",
       "      <td>33.571429</td>\n",
       "      <td>Yes</td>\n",
       "    </tr>\n",
       "  </tbody>\n",
       "</table>\n",
       "</div>"
      ],
      "text/plain": [
       "  Voter_name  Voter_age Voter\n",
       "0      Geek1  15.000000    No\n",
       "1      Geek2  23.000000   Yes\n",
       "2      Geek3  25.000000   Yes\n",
       "3      Geek4   9.000000    No\n",
       "4      Geek5  67.000000   Yes\n",
       "5      Geek6  54.000000   Yes\n",
       "6      Geek7  42.000000   Yes\n",
       "7      Geek8  33.571429   Yes"
      ]
     },
     "execution_count": 9,
     "metadata": {},
     "output_type": "execute_result"
    }
   ],
   "source": [
    "# coping the data frame in other variable df_median for experimentation impute with median() \n",
    "df_median = df\n",
    "median_age = df_median['Voter_age'].median()\n",
    "\n",
    "# fill the null value (or) missing value with the median value\n",
    "df_median['Voter_age'] = df_median['Voter_age'].fillna(median_age)\n",
    "\n",
    "# Creating another column 'Voter' to save Yes or No according to their age\n",
    "df_median['Voter'] = df_median['Voter_age'].apply(voting_age)\n",
    "df_median"
   ]
  },
  {
   "cell_type": "markdown",
   "id": "e9f2380e",
   "metadata": {},
   "source": [
    "### Q2 – Create a Pandas Data frame from the given data and collapse First and Last column into one column as Full Name, so the output contains Full Name and Age, then convert column age to index\n",
    "\n",
    "```python\n",
    "raw_Data = {'First': ['Manan ', 'Raghav ', 'Sunny '],\n",
    "'Last': ['Goel', 'Sharma', 'Chawla'],\n",
    "'Age' : [12, 24, 56]}\n",
    "```"
   ]
  },
  {
   "cell_type": "markdown",
   "id": "ca1ffd99",
   "metadata": {},
   "source": [
    "#### Step 1: Creating DataFrame()"
   ]
  },
  {
   "cell_type": "code",
   "execution_count": 10,
   "id": "1f849d89",
   "metadata": {},
   "outputs": [
    {
     "data": {
      "text/html": [
       "<div>\n",
       "<style scoped>\n",
       "    .dataframe tbody tr th:only-of-type {\n",
       "        vertical-align: middle;\n",
       "    }\n",
       "\n",
       "    .dataframe tbody tr th {\n",
       "        vertical-align: top;\n",
       "    }\n",
       "\n",
       "    .dataframe thead th {\n",
       "        text-align: right;\n",
       "    }\n",
       "</style>\n",
       "<table border=\"1\" class=\"dataframe\">\n",
       "  <thead>\n",
       "    <tr style=\"text-align: right;\">\n",
       "      <th></th>\n",
       "      <th>First</th>\n",
       "      <th>Last</th>\n",
       "      <th>Age</th>\n",
       "    </tr>\n",
       "  </thead>\n",
       "  <tbody>\n",
       "    <tr>\n",
       "      <th>0</th>\n",
       "      <td>Manan</td>\n",
       "      <td>Goel</td>\n",
       "      <td>12</td>\n",
       "    </tr>\n",
       "    <tr>\n",
       "      <th>1</th>\n",
       "      <td>Raghav</td>\n",
       "      <td>Sharma</td>\n",
       "      <td>24</td>\n",
       "    </tr>\n",
       "    <tr>\n",
       "      <th>2</th>\n",
       "      <td>Sunny</td>\n",
       "      <td>Chawla</td>\n",
       "      <td>56</td>\n",
       "    </tr>\n",
       "  </tbody>\n",
       "</table>\n",
       "</div>"
      ],
      "text/plain": [
       "     First    Last  Age\n",
       "0   Manan     Goel   12\n",
       "1  Raghav   Sharma   24\n",
       "2   Sunny   Chawla   56"
      ]
     },
     "execution_count": 10,
     "metadata": {},
     "output_type": "execute_result"
    }
   ],
   "source": [
    "raw_Data = {'First': ['Manan ', 'Raghav ', 'Sunny '],\n",
    "'Last': ['Goel', 'Sharma', 'Chawla'],\n",
    "'Age' : [12, 24, 56]}\n",
    "\n",
    "df = pd.DataFrame(raw_Data)\n",
    "\n",
    "df"
   ]
  },
  {
   "cell_type": "markdown",
   "id": "9a1d968f",
   "metadata": {},
   "source": [
    "#### Step 2: Checking Null values (or) Missing values"
   ]
  },
  {
   "cell_type": "code",
   "execution_count": 11,
   "id": "2f8ea428",
   "metadata": {},
   "outputs": [
    {
     "name": "stdout",
     "output_type": "stream",
     "text": [
      "<class 'pandas.core.frame.DataFrame'>\n",
      "RangeIndex: 3 entries, 0 to 2\n",
      "Data columns (total 3 columns):\n",
      " #   Column  Non-Null Count  Dtype \n",
      "---  ------  --------------  ----- \n",
      " 0   First   3 non-null      object\n",
      " 1   Last    3 non-null      object\n",
      " 2   Age     3 non-null      int64 \n",
      "dtypes: int64(1), object(2)\n",
      "memory usage: 204.0+ bytes\n"
     ]
    }
   ],
   "source": [
    "df.info()"
   ]
  },
  {
   "cell_type": "code",
   "execution_count": 12,
   "id": "a2a85a76",
   "metadata": {},
   "outputs": [
    {
     "data": {
      "text/plain": [
       "First    0\n",
       "Last     0\n",
       "Age      0\n",
       "dtype: int64"
      ]
     },
     "execution_count": 12,
     "metadata": {},
     "output_type": "execute_result"
    }
   ],
   "source": [
    "df.isnull().sum()"
   ]
  },
  {
   "cell_type": "markdown",
   "id": "8866b2a7",
   "metadata": {},
   "source": [
    "#### Step 3: Collapse columns 'First' and 'Last' into new column 'Full Name'"
   ]
  },
  {
   "cell_type": "code",
   "execution_count": 13,
   "id": "1233de35",
   "metadata": {},
   "outputs": [
    {
     "data": {
      "text/html": [
       "<div>\n",
       "<style scoped>\n",
       "    .dataframe tbody tr th:only-of-type {\n",
       "        vertical-align: middle;\n",
       "    }\n",
       "\n",
       "    .dataframe tbody tr th {\n",
       "        vertical-align: top;\n",
       "    }\n",
       "\n",
       "    .dataframe thead th {\n",
       "        text-align: right;\n",
       "    }\n",
       "</style>\n",
       "<table border=\"1\" class=\"dataframe\">\n",
       "  <thead>\n",
       "    <tr style=\"text-align: right;\">\n",
       "      <th></th>\n",
       "      <th>First</th>\n",
       "      <th>Last</th>\n",
       "      <th>Age</th>\n",
       "      <th>Full Name</th>\n",
       "    </tr>\n",
       "  </thead>\n",
       "  <tbody>\n",
       "    <tr>\n",
       "      <th>0</th>\n",
       "      <td>Manan</td>\n",
       "      <td>Goel</td>\n",
       "      <td>12</td>\n",
       "      <td>Manan  Goel</td>\n",
       "    </tr>\n",
       "    <tr>\n",
       "      <th>1</th>\n",
       "      <td>Raghav</td>\n",
       "      <td>Sharma</td>\n",
       "      <td>24</td>\n",
       "      <td>Raghav  Sharma</td>\n",
       "    </tr>\n",
       "    <tr>\n",
       "      <th>2</th>\n",
       "      <td>Sunny</td>\n",
       "      <td>Chawla</td>\n",
       "      <td>56</td>\n",
       "      <td>Sunny  Chawla</td>\n",
       "    </tr>\n",
       "  </tbody>\n",
       "</table>\n",
       "</div>"
      ],
      "text/plain": [
       "     First    Last  Age       Full Name\n",
       "0   Manan     Goel   12     Manan  Goel\n",
       "1  Raghav   Sharma   24  Raghav  Sharma\n",
       "2   Sunny   Chawla   56   Sunny  Chawla"
      ]
     },
     "execution_count": 13,
     "metadata": {},
     "output_type": "execute_result"
    }
   ],
   "source": [
    "df['Full Name'] = df['First'] + ' ' + df['Last']\n",
    "\n",
    "df"
   ]
  },
  {
   "cell_type": "markdown",
   "id": "7a4a7673",
   "metadata": {},
   "source": [
    "#### Step 4: Drop the columns 'First' and 'Last' (they are of no use)"
   ]
  },
  {
   "cell_type": "code",
   "execution_count": 14,
   "id": "56dc6cc1",
   "metadata": {},
   "outputs": [
    {
     "data": {
      "text/html": [
       "<div>\n",
       "<style scoped>\n",
       "    .dataframe tbody tr th:only-of-type {\n",
       "        vertical-align: middle;\n",
       "    }\n",
       "\n",
       "    .dataframe tbody tr th {\n",
       "        vertical-align: top;\n",
       "    }\n",
       "\n",
       "    .dataframe thead th {\n",
       "        text-align: right;\n",
       "    }\n",
       "</style>\n",
       "<table border=\"1\" class=\"dataframe\">\n",
       "  <thead>\n",
       "    <tr style=\"text-align: right;\">\n",
       "      <th></th>\n",
       "      <th>Age</th>\n",
       "      <th>Full Name</th>\n",
       "    </tr>\n",
       "  </thead>\n",
       "  <tbody>\n",
       "    <tr>\n",
       "      <th>0</th>\n",
       "      <td>12</td>\n",
       "      <td>Manan  Goel</td>\n",
       "    </tr>\n",
       "    <tr>\n",
       "      <th>1</th>\n",
       "      <td>24</td>\n",
       "      <td>Raghav  Sharma</td>\n",
       "    </tr>\n",
       "    <tr>\n",
       "      <th>2</th>\n",
       "      <td>56</td>\n",
       "      <td>Sunny  Chawla</td>\n",
       "    </tr>\n",
       "  </tbody>\n",
       "</table>\n",
       "</div>"
      ],
      "text/plain": [
       "   Age       Full Name\n",
       "0   12     Manan  Goel\n",
       "1   24  Raghav  Sharma\n",
       "2   56   Sunny  Chawla"
      ]
     },
     "execution_count": 14,
     "metadata": {},
     "output_type": "execute_result"
    }
   ],
   "source": [
    "df.drop(['First', 'Last'], axis=1, inplace=True)\n",
    "df"
   ]
  },
  {
   "cell_type": "markdown",
   "id": "75d85d5f",
   "metadata": {},
   "source": [
    "#### Step 5: Set column 'Age' as index"
   ]
  },
  {
   "cell_type": "code",
   "execution_count": 15,
   "id": "f9b9610b",
   "metadata": {},
   "outputs": [],
   "source": [
    "df.set_index('Age', inplace=True)"
   ]
  },
  {
   "cell_type": "code",
   "execution_count": 16,
   "id": "30999581",
   "metadata": {},
   "outputs": [
    {
     "data": {
      "text/html": [
       "<div>\n",
       "<style scoped>\n",
       "    .dataframe tbody tr th:only-of-type {\n",
       "        vertical-align: middle;\n",
       "    }\n",
       "\n",
       "    .dataframe tbody tr th {\n",
       "        vertical-align: top;\n",
       "    }\n",
       "\n",
       "    .dataframe thead th {\n",
       "        text-align: right;\n",
       "    }\n",
       "</style>\n",
       "<table border=\"1\" class=\"dataframe\">\n",
       "  <thead>\n",
       "    <tr style=\"text-align: right;\">\n",
       "      <th></th>\n",
       "      <th>Full Name</th>\n",
       "    </tr>\n",
       "    <tr>\n",
       "      <th>Age</th>\n",
       "      <th></th>\n",
       "    </tr>\n",
       "  </thead>\n",
       "  <tbody>\n",
       "    <tr>\n",
       "      <th>12</th>\n",
       "      <td>Manan  Goel</td>\n",
       "    </tr>\n",
       "    <tr>\n",
       "      <th>24</th>\n",
       "      <td>Raghav  Sharma</td>\n",
       "    </tr>\n",
       "    <tr>\n",
       "      <th>56</th>\n",
       "      <td>Sunny  Chawla</td>\n",
       "    </tr>\n",
       "  </tbody>\n",
       "</table>\n",
       "</div>"
      ],
      "text/plain": [
       "          Full Name\n",
       "Age                \n",
       "12      Manan  Goel\n",
       "24   Raghav  Sharma\n",
       "56    Sunny  Chawla"
      ]
     },
     "execution_count": 16,
     "metadata": {},
     "output_type": "execute_result"
    }
   ],
   "source": [
    "df"
   ]
  },
  {
   "cell_type": "markdown",
   "id": "fce0de3a",
   "metadata": {},
   "source": [
    "### Q3- Create a Pandas Data frame from the given data -\n",
    "\n",
    "```python\n",
    "raw_Data = {'Date':['10/2/2011', '11/2/2011', '12/2/2011', '13/2/2011'],\n",
    "'Product':['Umbrella', 'Matress', 'Badminton','Shuttle'],\n",
    "'Price':[1250, 1450, 1550, 400],\n",
    "'Expense': [ 21525220.653, 31125840.875, 23135428.768, 56245263.942]}\n",
    "```"
   ]
  },
  {
   "cell_type": "code",
   "execution_count": 17,
   "id": "75188e4a",
   "metadata": {},
   "outputs": [
    {
     "data": {
      "text/html": [
       "<div>\n",
       "<style scoped>\n",
       "    .dataframe tbody tr th:only-of-type {\n",
       "        vertical-align: middle;\n",
       "    }\n",
       "\n",
       "    .dataframe tbody tr th {\n",
       "        vertical-align: top;\n",
       "    }\n",
       "\n",
       "    .dataframe thead th {\n",
       "        text-align: right;\n",
       "    }\n",
       "</style>\n",
       "<table border=\"1\" class=\"dataframe\">\n",
       "  <thead>\n",
       "    <tr style=\"text-align: right;\">\n",
       "      <th></th>\n",
       "      <th>Date</th>\n",
       "      <th>Product</th>\n",
       "      <th>Price</th>\n",
       "      <th>Expense</th>\n",
       "    </tr>\n",
       "  </thead>\n",
       "  <tbody>\n",
       "    <tr>\n",
       "      <th>0</th>\n",
       "      <td>10/2/2011</td>\n",
       "      <td>Umbrella</td>\n",
       "      <td>1250</td>\n",
       "      <td>2.152522e+07</td>\n",
       "    </tr>\n",
       "    <tr>\n",
       "      <th>1</th>\n",
       "      <td>11/2/2011</td>\n",
       "      <td>Matress</td>\n",
       "      <td>1450</td>\n",
       "      <td>3.112584e+07</td>\n",
       "    </tr>\n",
       "    <tr>\n",
       "      <th>2</th>\n",
       "      <td>12/2/2011</td>\n",
       "      <td>Badminton</td>\n",
       "      <td>1550</td>\n",
       "      <td>2.313543e+07</td>\n",
       "    </tr>\n",
       "    <tr>\n",
       "      <th>3</th>\n",
       "      <td>13/2/2011</td>\n",
       "      <td>Shuttle</td>\n",
       "      <td>400</td>\n",
       "      <td>5.624526e+07</td>\n",
       "    </tr>\n",
       "  </tbody>\n",
       "</table>\n",
       "</div>"
      ],
      "text/plain": [
       "        Date    Product  Price       Expense\n",
       "0  10/2/2011   Umbrella   1250  2.152522e+07\n",
       "1  11/2/2011    Matress   1450  3.112584e+07\n",
       "2  12/2/2011  Badminton   1550  2.313543e+07\n",
       "3  13/2/2011    Shuttle    400  5.624526e+07"
      ]
     },
     "execution_count": 17,
     "metadata": {},
     "output_type": "execute_result"
    }
   ],
   "source": [
    "raw_Data = {'Date':['10/2/2011', '11/2/2011', '12/2/2011', '13/2/2011'],\n",
    "'Product':['Umbrella', 'Matress', 'Badminton','Shuttle'],\n",
    "'Price':[1250, 1450, 1550, 400],\n",
    "'Expense': [ 21525220.653, 31125840.875, 23135428.768, 56245263.942]}\n",
    "\n",
    "df = pd.DataFrame(raw_Data)\n",
    "\n",
    "df"
   ]
  },
  {
   "cell_type": "markdown",
   "id": "34ad35c2",
   "metadata": {},
   "source": [
    "#### a)  Add Index as Item1, Item2, Item3, Item4"
   ]
  },
  {
   "cell_type": "code",
   "execution_count": 18,
   "id": "eb902236",
   "metadata": {},
   "outputs": [
    {
     "data": {
      "text/html": [
       "<div>\n",
       "<style scoped>\n",
       "    .dataframe tbody tr th:only-of-type {\n",
       "        vertical-align: middle;\n",
       "    }\n",
       "\n",
       "    .dataframe tbody tr th {\n",
       "        vertical-align: top;\n",
       "    }\n",
       "\n",
       "    .dataframe thead th {\n",
       "        text-align: right;\n",
       "    }\n",
       "</style>\n",
       "<table border=\"1\" class=\"dataframe\">\n",
       "  <thead>\n",
       "    <tr style=\"text-align: right;\">\n",
       "      <th></th>\n",
       "      <th>Date</th>\n",
       "      <th>Product</th>\n",
       "      <th>Price</th>\n",
       "      <th>Expense</th>\n",
       "    </tr>\n",
       "  </thead>\n",
       "  <tbody>\n",
       "    <tr>\n",
       "      <th>Item1</th>\n",
       "      <td>10/2/2011</td>\n",
       "      <td>Umbrella</td>\n",
       "      <td>1250</td>\n",
       "      <td>2.152522e+07</td>\n",
       "    </tr>\n",
       "    <tr>\n",
       "      <th>Item2</th>\n",
       "      <td>11/2/2011</td>\n",
       "      <td>Matress</td>\n",
       "      <td>1450</td>\n",
       "      <td>3.112584e+07</td>\n",
       "    </tr>\n",
       "    <tr>\n",
       "      <th>Item3</th>\n",
       "      <td>12/2/2011</td>\n",
       "      <td>Badminton</td>\n",
       "      <td>1550</td>\n",
       "      <td>2.313543e+07</td>\n",
       "    </tr>\n",
       "    <tr>\n",
       "      <th>Item4</th>\n",
       "      <td>13/2/2011</td>\n",
       "      <td>Shuttle</td>\n",
       "      <td>400</td>\n",
       "      <td>5.624526e+07</td>\n",
       "    </tr>\n",
       "  </tbody>\n",
       "</table>\n",
       "</div>"
      ],
      "text/plain": [
       "            Date    Product  Price       Expense\n",
       "Item1  10/2/2011   Umbrella   1250  2.152522e+07\n",
       "Item2  11/2/2011    Matress   1450  3.112584e+07\n",
       "Item3  12/2/2011  Badminton   1550  2.313543e+07\n",
       "Item4  13/2/2011    Shuttle    400  5.624526e+07"
      ]
     },
     "execution_count": 18,
     "metadata": {},
     "output_type": "execute_result"
    }
   ],
   "source": [
    "# Add Index as Item1, Item2, Item3, Item4\n",
    "df.index = ['Item1', 'Item2', 'Item3', 'Item4']\n",
    "df"
   ]
  },
  {
   "cell_type": "markdown",
   "id": "53f91ffb",
   "metadata": {},
   "source": [
    "#### b)  Find the index labels of all items whose ‘Price’ is greater than 1000."
   ]
  },
  {
   "cell_type": "code",
   "execution_count": 19,
   "id": "c17b31cf",
   "metadata": {},
   "outputs": [
    {
     "data": {
      "text/plain": [
       "Index(['Item1', 'Item2', 'Item3'], dtype='object')"
      ]
     },
     "execution_count": 19,
     "metadata": {},
     "output_type": "execute_result"
    }
   ],
   "source": [
    "# Index labels of items whose ‘Price’ is greater than 1000\n",
    "high_price_items = df[df['Price'] > 1000].index\n",
    "\n",
    "high_price_items"
   ]
  },
  {
   "cell_type": "markdown",
   "id": "0a248bef",
   "metadata": {},
   "source": [
    "#### c) Replace products using Map() with respective codes- Umbrella : ‘U’, Matress : 'M', Badminton : 'B', Shuttle: 'S'"
   ]
  },
  {
   "cell_type": "code",
   "execution_count": 20,
   "id": "33f791a2",
   "metadata": {},
   "outputs": [
    {
     "data": {
      "text/html": [
       "<div>\n",
       "<style scoped>\n",
       "    .dataframe tbody tr th:only-of-type {\n",
       "        vertical-align: middle;\n",
       "    }\n",
       "\n",
       "    .dataframe tbody tr th {\n",
       "        vertical-align: top;\n",
       "    }\n",
       "\n",
       "    .dataframe thead th {\n",
       "        text-align: right;\n",
       "    }\n",
       "</style>\n",
       "<table border=\"1\" class=\"dataframe\">\n",
       "  <thead>\n",
       "    <tr style=\"text-align: right;\">\n",
       "      <th></th>\n",
       "      <th>Date</th>\n",
       "      <th>Product</th>\n",
       "      <th>Price</th>\n",
       "      <th>Expense</th>\n",
       "    </tr>\n",
       "  </thead>\n",
       "  <tbody>\n",
       "    <tr>\n",
       "      <th>Item1</th>\n",
       "      <td>10/2/2011</td>\n",
       "      <td>U</td>\n",
       "      <td>1250</td>\n",
       "      <td>2.152522e+07</td>\n",
       "    </tr>\n",
       "    <tr>\n",
       "      <th>Item2</th>\n",
       "      <td>11/2/2011</td>\n",
       "      <td>M</td>\n",
       "      <td>1450</td>\n",
       "      <td>3.112584e+07</td>\n",
       "    </tr>\n",
       "    <tr>\n",
       "      <th>Item3</th>\n",
       "      <td>12/2/2011</td>\n",
       "      <td>B</td>\n",
       "      <td>1550</td>\n",
       "      <td>2.313543e+07</td>\n",
       "    </tr>\n",
       "    <tr>\n",
       "      <th>Item4</th>\n",
       "      <td>13/2/2011</td>\n",
       "      <td>S</td>\n",
       "      <td>400</td>\n",
       "      <td>5.624526e+07</td>\n",
       "    </tr>\n",
       "  </tbody>\n",
       "</table>\n",
       "</div>"
      ],
      "text/plain": [
       "            Date Product  Price       Expense\n",
       "Item1  10/2/2011       U   1250  2.152522e+07\n",
       "Item2  11/2/2011       M   1450  3.112584e+07\n",
       "Item3  12/2/2011       B   1550  2.313543e+07\n",
       "Item4  13/2/2011       S    400  5.624526e+07"
      ]
     },
     "execution_count": 20,
     "metadata": {},
     "output_type": "execute_result"
    }
   ],
   "source": [
    "# Replace products using Map() with respective codes\n",
    "product_map = {'Umbrella': 'U', 'Matress': 'M', 'Badminton': 'B', 'Shuttle': 'S'}\n",
    "df['Product'] = df['Product'].map(product_map)\n",
    "df"
   ]
  },
  {
   "cell_type": "markdown",
   "id": "05245e8a",
   "metadata": {},
   "source": [
    "#### d) Round off the Expense column values to two decimal places."
   ]
  },
  {
   "cell_type": "code",
   "execution_count": 21,
   "id": "946ddd1b",
   "metadata": {},
   "outputs": [
    {
     "data": {
      "text/html": [
       "<div>\n",
       "<style scoped>\n",
       "    .dataframe tbody tr th:only-of-type {\n",
       "        vertical-align: middle;\n",
       "    }\n",
       "\n",
       "    .dataframe tbody tr th {\n",
       "        vertical-align: top;\n",
       "    }\n",
       "\n",
       "    .dataframe thead th {\n",
       "        text-align: right;\n",
       "    }\n",
       "</style>\n",
       "<table border=\"1\" class=\"dataframe\">\n",
       "  <thead>\n",
       "    <tr style=\"text-align: right;\">\n",
       "      <th></th>\n",
       "      <th>Date</th>\n",
       "      <th>Product</th>\n",
       "      <th>Price</th>\n",
       "      <th>Expense</th>\n",
       "    </tr>\n",
       "  </thead>\n",
       "  <tbody>\n",
       "    <tr>\n",
       "      <th>Item1</th>\n",
       "      <td>10/2/2011</td>\n",
       "      <td>U</td>\n",
       "      <td>1250</td>\n",
       "      <td>21525220.65</td>\n",
       "    </tr>\n",
       "    <tr>\n",
       "      <th>Item2</th>\n",
       "      <td>11/2/2011</td>\n",
       "      <td>M</td>\n",
       "      <td>1450</td>\n",
       "      <td>31125840.88</td>\n",
       "    </tr>\n",
       "    <tr>\n",
       "      <th>Item3</th>\n",
       "      <td>12/2/2011</td>\n",
       "      <td>B</td>\n",
       "      <td>1550</td>\n",
       "      <td>23135428.77</td>\n",
       "    </tr>\n",
       "    <tr>\n",
       "      <th>Item4</th>\n",
       "      <td>13/2/2011</td>\n",
       "      <td>S</td>\n",
       "      <td>400</td>\n",
       "      <td>56245263.94</td>\n",
       "    </tr>\n",
       "  </tbody>\n",
       "</table>\n",
       "</div>"
      ],
      "text/plain": [
       "            Date Product  Price      Expense\n",
       "Item1  10/2/2011       U   1250  21525220.65\n",
       "Item2  11/2/2011       M   1450  31125840.88\n",
       "Item3  12/2/2011       B   1550  23135428.77\n",
       "Item4  13/2/2011       S    400  56245263.94"
      ]
     },
     "execution_count": 21,
     "metadata": {},
     "output_type": "execute_result"
    }
   ],
   "source": [
    "# Round off the Expense column values to two decimal places\n",
    "df['Expense'] = df['Expense'].round(2)\n",
    "df"
   ]
  },
  {
   "cell_type": "markdown",
   "id": "754eef37",
   "metadata": {},
   "source": [
    "#### e) Create a new column called ‘Discounted_Price’ after applying a 10% discount on the existing‘price’ column. (try using lambda function)\n"
   ]
  },
  {
   "cell_type": "code",
   "execution_count": 22,
   "id": "27a9c834",
   "metadata": {},
   "outputs": [
    {
     "data": {
      "text/html": [
       "<div>\n",
       "<style scoped>\n",
       "    .dataframe tbody tr th:only-of-type {\n",
       "        vertical-align: middle;\n",
       "    }\n",
       "\n",
       "    .dataframe tbody tr th {\n",
       "        vertical-align: top;\n",
       "    }\n",
       "\n",
       "    .dataframe thead th {\n",
       "        text-align: right;\n",
       "    }\n",
       "</style>\n",
       "<table border=\"1\" class=\"dataframe\">\n",
       "  <thead>\n",
       "    <tr style=\"text-align: right;\">\n",
       "      <th></th>\n",
       "      <th>Date</th>\n",
       "      <th>Product</th>\n",
       "      <th>Price</th>\n",
       "      <th>Expense</th>\n",
       "      <th>Discounted_Price</th>\n",
       "    </tr>\n",
       "  </thead>\n",
       "  <tbody>\n",
       "    <tr>\n",
       "      <th>Item1</th>\n",
       "      <td>10/2/2011</td>\n",
       "      <td>U</td>\n",
       "      <td>1250</td>\n",
       "      <td>21525220.65</td>\n",
       "      <td>1125.0</td>\n",
       "    </tr>\n",
       "    <tr>\n",
       "      <th>Item2</th>\n",
       "      <td>11/2/2011</td>\n",
       "      <td>M</td>\n",
       "      <td>1450</td>\n",
       "      <td>31125840.88</td>\n",
       "      <td>1305.0</td>\n",
       "    </tr>\n",
       "    <tr>\n",
       "      <th>Item3</th>\n",
       "      <td>12/2/2011</td>\n",
       "      <td>B</td>\n",
       "      <td>1550</td>\n",
       "      <td>23135428.77</td>\n",
       "      <td>1395.0</td>\n",
       "    </tr>\n",
       "    <tr>\n",
       "      <th>Item4</th>\n",
       "      <td>13/2/2011</td>\n",
       "      <td>S</td>\n",
       "      <td>400</td>\n",
       "      <td>56245263.94</td>\n",
       "      <td>360.0</td>\n",
       "    </tr>\n",
       "  </tbody>\n",
       "</table>\n",
       "</div>"
      ],
      "text/plain": [
       "            Date Product  Price      Expense  Discounted_Price\n",
       "Item1  10/2/2011       U   1250  21525220.65            1125.0\n",
       "Item2  11/2/2011       M   1450  31125840.88            1305.0\n",
       "Item3  12/2/2011       B   1550  23135428.77            1395.0\n",
       "Item4  13/2/2011       S    400  56245263.94             360.0"
      ]
     },
     "execution_count": 22,
     "metadata": {},
     "output_type": "execute_result"
    }
   ],
   "source": [
    "# Create a new column called ‘Discounted_Price’ after applying a 10% discount\n",
    "df['Discounted_Price'] = df['Price'].apply(lambda x: x * 0.9)\n",
    "df"
   ]
  },
  {
   "cell_type": "markdown",
   "id": "735325fe",
   "metadata": {},
   "source": [
    "#### f) Convert the column type of “Date” to datetime format"
   ]
  },
  {
   "cell_type": "code",
   "execution_count": 23,
   "id": "600369e4",
   "metadata": {},
   "outputs": [
    {
     "data": {
      "text/html": [
       "<div>\n",
       "<style scoped>\n",
       "    .dataframe tbody tr th:only-of-type {\n",
       "        vertical-align: middle;\n",
       "    }\n",
       "\n",
       "    .dataframe tbody tr th {\n",
       "        vertical-align: top;\n",
       "    }\n",
       "\n",
       "    .dataframe thead th {\n",
       "        text-align: right;\n",
       "    }\n",
       "</style>\n",
       "<table border=\"1\" class=\"dataframe\">\n",
       "  <thead>\n",
       "    <tr style=\"text-align: right;\">\n",
       "      <th></th>\n",
       "      <th>Date</th>\n",
       "      <th>Product</th>\n",
       "      <th>Price</th>\n",
       "      <th>Expense</th>\n",
       "      <th>Discounted_Price</th>\n",
       "    </tr>\n",
       "  </thead>\n",
       "  <tbody>\n",
       "    <tr>\n",
       "      <th>Item1</th>\n",
       "      <td>2011-10-02</td>\n",
       "      <td>U</td>\n",
       "      <td>1250</td>\n",
       "      <td>21525220.65</td>\n",
       "      <td>1125.0</td>\n",
       "    </tr>\n",
       "    <tr>\n",
       "      <th>Item2</th>\n",
       "      <td>2011-11-02</td>\n",
       "      <td>M</td>\n",
       "      <td>1450</td>\n",
       "      <td>31125840.88</td>\n",
       "      <td>1305.0</td>\n",
       "    </tr>\n",
       "    <tr>\n",
       "      <th>Item3</th>\n",
       "      <td>2011-12-02</td>\n",
       "      <td>B</td>\n",
       "      <td>1550</td>\n",
       "      <td>23135428.77</td>\n",
       "      <td>1395.0</td>\n",
       "    </tr>\n",
       "    <tr>\n",
       "      <th>Item4</th>\n",
       "      <td>2011-02-13</td>\n",
       "      <td>S</td>\n",
       "      <td>400</td>\n",
       "      <td>56245263.94</td>\n",
       "      <td>360.0</td>\n",
       "    </tr>\n",
       "  </tbody>\n",
       "</table>\n",
       "</div>"
      ],
      "text/plain": [
       "            Date Product  Price      Expense  Discounted_Price\n",
       "Item1 2011-10-02       U   1250  21525220.65            1125.0\n",
       "Item2 2011-11-02       M   1450  31125840.88            1305.0\n",
       "Item3 2011-12-02       B   1550  23135428.77            1395.0\n",
       "Item4 2011-02-13       S    400  56245263.94             360.0"
      ]
     },
     "execution_count": 23,
     "metadata": {},
     "output_type": "execute_result"
    }
   ],
   "source": [
    "# Convert the column type of “Date” to datetime format\n",
    "df['Date'] = pd.to_datetime(df['Date'])\n",
    "df"
   ]
  },
  {
   "cell_type": "markdown",
   "id": "53e37b8a",
   "metadata": {},
   "source": [
    "#### g) Create a column rank which ranks the products based on the price (one with the highest price will be rank 1)."
   ]
  },
  {
   "cell_type": "code",
   "execution_count": 24,
   "id": "e1fac8b1",
   "metadata": {},
   "outputs": [
    {
     "data": {
      "text/html": [
       "<div>\n",
       "<style scoped>\n",
       "    .dataframe tbody tr th:only-of-type {\n",
       "        vertical-align: middle;\n",
       "    }\n",
       "\n",
       "    .dataframe tbody tr th {\n",
       "        vertical-align: top;\n",
       "    }\n",
       "\n",
       "    .dataframe thead th {\n",
       "        text-align: right;\n",
       "    }\n",
       "</style>\n",
       "<table border=\"1\" class=\"dataframe\">\n",
       "  <thead>\n",
       "    <tr style=\"text-align: right;\">\n",
       "      <th></th>\n",
       "      <th>Date</th>\n",
       "      <th>Product</th>\n",
       "      <th>Price</th>\n",
       "      <th>Expense</th>\n",
       "      <th>Discounted_Price</th>\n",
       "      <th>Rank</th>\n",
       "    </tr>\n",
       "  </thead>\n",
       "  <tbody>\n",
       "    <tr>\n",
       "      <th>Item1</th>\n",
       "      <td>2011-10-02</td>\n",
       "      <td>U</td>\n",
       "      <td>1250</td>\n",
       "      <td>21525220.65</td>\n",
       "      <td>1125.0</td>\n",
       "      <td>3</td>\n",
       "    </tr>\n",
       "    <tr>\n",
       "      <th>Item2</th>\n",
       "      <td>2011-11-02</td>\n",
       "      <td>M</td>\n",
       "      <td>1450</td>\n",
       "      <td>31125840.88</td>\n",
       "      <td>1305.0</td>\n",
       "      <td>2</td>\n",
       "    </tr>\n",
       "    <tr>\n",
       "      <th>Item3</th>\n",
       "      <td>2011-12-02</td>\n",
       "      <td>B</td>\n",
       "      <td>1550</td>\n",
       "      <td>23135428.77</td>\n",
       "      <td>1395.0</td>\n",
       "      <td>1</td>\n",
       "    </tr>\n",
       "    <tr>\n",
       "      <th>Item4</th>\n",
       "      <td>2011-02-13</td>\n",
       "      <td>S</td>\n",
       "      <td>400</td>\n",
       "      <td>56245263.94</td>\n",
       "      <td>360.0</td>\n",
       "      <td>4</td>\n",
       "    </tr>\n",
       "  </tbody>\n",
       "</table>\n",
       "</div>"
      ],
      "text/plain": [
       "            Date Product  Price      Expense  Discounted_Price  Rank\n",
       "Item1 2011-10-02       U   1250  21525220.65            1125.0     3\n",
       "Item2 2011-11-02       M   1450  31125840.88            1305.0     2\n",
       "Item3 2011-12-02       B   1550  23135428.77            1395.0     1\n",
       "Item4 2011-02-13       S    400  56245263.94             360.0     4"
      ]
     },
     "execution_count": 24,
     "metadata": {},
     "output_type": "execute_result"
    }
   ],
   "source": [
    "# Create a column rank which ranks the products based on the price\n",
    "df['Rank'] = df['Price'].rank(ascending=False).astype(int)\n",
    "df"
   ]
  },
  {
   "cell_type": "markdown",
   "id": "afc6f263",
   "metadata": {},
   "source": [
    "# Assignment: Exploring NBA Player Data\n",
    "\n",
    "Download the nba.csv file containing NBA player data Complete the following tasks using\n",
    "Python, Pandas, and data visualization libraries:\n",
    "\n",
    "#### 1. Load Data:\n",
    "    ● Load the nba.csv data into a Pandas DataFrame.\n",
    "    ● Display basic information about the DataFrame.\n",
    "#### 2. Data Cleaning:\n",
    "    ● Handle missing values by either removing or imputing them.\n",
    "    ● Remove duplicate rows.\n",
    "#### 3. Data Transformation:\n",
    "    ● Create a new column 'BMI' (Body Mass Index) using the formula: BMI = (weight in pounds / (height in inches)^2) * 703.(Assuming a fixed height value of 70 inches (5 feet 10 inches)\n",
    "#### 4. Exploratory Data Analysis (EDA):\n",
    "    ● Display summary statistics of the 'age', 'weight', and 'salary' columns.\n",
    "    ● Calculate the average age, weight, and salary of players in each 'position' category.\n",
    "#### 5. Data Visualization:\n",
    "    ● Create a histogram of player ages.\n",
    "    ● Create a boxplot of player salaries for each 'position'.\n",
    "    ● Plot a scatter plot of 'age' vs. 'salary' with a different color for each 'position'.\n",
    "#### 6. Top Players:\n",
    "    ● Display the top 10 players with the highest salaries.\n",
    "#### 7. College Analysis:\n",
    "    ● Determine the top 5 colleges with the most represented players.\n",
    "#### 8. Position Distribution:\n",
    "    ● Plot a pie chart to show the distribution of players across different 'positions'.\n",
    "#### 9. Team Analysis:\n",
    "    ● Display the average salary of players for each 'team'.\n",
    "    ● Plot a bar chart to visualize the average salary of players for each 'team'.\n",
    "    \n",
    "#### 10. Extras\n",
    "    ● Get the index at which the minimum weight value is present.\n",
    "    ● Sort values based on name in alphabetical order for the rows (the original Dataframe sorting should not change)\n",
    "    ● Create a series from given dataframe on “name” column and display top and last 10"
   ]
  },
  {
   "cell_type": "code",
   "execution_count": 25,
   "id": "79ab0d71",
   "metadata": {},
   "outputs": [],
   "source": [
    "# Import Libraries\n",
    "\n",
    "import pandas as pd\n",
    "import numpy as np\n",
    "import matplotlib.pyplot as plt\n",
    "import seaborn as sns\n",
    "import warnings\n",
    "warnings.filterwarnings(\"ignore\") # To ignore unnecessary warnings"
   ]
  },
  {
   "cell_type": "markdown",
   "id": "10e89881",
   "metadata": {},
   "source": [
    "#### 1. Load Data:\n",
    "\n",
    "● Load the nba.csv data into a Pandas DataFrame."
   ]
  },
  {
   "cell_type": "code",
   "execution_count": 26,
   "id": "6c094120",
   "metadata": {
    "scrolled": true
   },
   "outputs": [
    {
     "data": {
      "text/html": [
       "<div>\n",
       "<style scoped>\n",
       "    .dataframe tbody tr th:only-of-type {\n",
       "        vertical-align: middle;\n",
       "    }\n",
       "\n",
       "    .dataframe tbody tr th {\n",
       "        vertical-align: top;\n",
       "    }\n",
       "\n",
       "    .dataframe thead th {\n",
       "        text-align: right;\n",
       "    }\n",
       "</style>\n",
       "<table border=\"1\" class=\"dataframe\">\n",
       "  <thead>\n",
       "    <tr style=\"text-align: right;\">\n",
       "      <th></th>\n",
       "      <th>Name</th>\n",
       "      <th>Team</th>\n",
       "      <th>Number</th>\n",
       "      <th>Position</th>\n",
       "      <th>Age</th>\n",
       "      <th>Weight</th>\n",
       "      <th>College</th>\n",
       "      <th>Salary</th>\n",
       "    </tr>\n",
       "  </thead>\n",
       "  <tbody>\n",
       "    <tr>\n",
       "      <th>0</th>\n",
       "      <td>Avery Bradley</td>\n",
       "      <td>Boston Celtics</td>\n",
       "      <td>0</td>\n",
       "      <td>PG</td>\n",
       "      <td>25</td>\n",
       "      <td>180</td>\n",
       "      <td>Texas</td>\n",
       "      <td>7730337.0</td>\n",
       "    </tr>\n",
       "    <tr>\n",
       "      <th>1</th>\n",
       "      <td>Jae Crowder</td>\n",
       "      <td>Boston Celtics</td>\n",
       "      <td>99</td>\n",
       "      <td>SF</td>\n",
       "      <td>25</td>\n",
       "      <td>235</td>\n",
       "      <td>Marquette</td>\n",
       "      <td>6796117.0</td>\n",
       "    </tr>\n",
       "    <tr>\n",
       "      <th>2</th>\n",
       "      <td>John Holland</td>\n",
       "      <td>Boston Celtics</td>\n",
       "      <td>30</td>\n",
       "      <td>SG</td>\n",
       "      <td>27</td>\n",
       "      <td>205</td>\n",
       "      <td>Boston University</td>\n",
       "      <td>NaN</td>\n",
       "    </tr>\n",
       "    <tr>\n",
       "      <th>3</th>\n",
       "      <td>R.J. Hunter</td>\n",
       "      <td>Boston Celtics</td>\n",
       "      <td>28</td>\n",
       "      <td>SG</td>\n",
       "      <td>22</td>\n",
       "      <td>185</td>\n",
       "      <td>Georgia State</td>\n",
       "      <td>1148640.0</td>\n",
       "    </tr>\n",
       "    <tr>\n",
       "      <th>4</th>\n",
       "      <td>Jonas Jerebko</td>\n",
       "      <td>Boston Celtics</td>\n",
       "      <td>8</td>\n",
       "      <td>PF</td>\n",
       "      <td>29</td>\n",
       "      <td>231</td>\n",
       "      <td>NaN</td>\n",
       "      <td>5000000.0</td>\n",
       "    </tr>\n",
       "  </tbody>\n",
       "</table>\n",
       "</div>"
      ],
      "text/plain": [
       "            Name            Team  Number Position  Age  Weight  \\\n",
       "0  Avery Bradley  Boston Celtics       0       PG   25     180   \n",
       "1    Jae Crowder  Boston Celtics      99       SF   25     235   \n",
       "2   John Holland  Boston Celtics      30       SG   27     205   \n",
       "3    R.J. Hunter  Boston Celtics      28       SG   22     185   \n",
       "4  Jonas Jerebko  Boston Celtics       8       PF   29     231   \n",
       "\n",
       "             College     Salary  \n",
       "0              Texas  7730337.0  \n",
       "1          Marquette  6796117.0  \n",
       "2  Boston University        NaN  \n",
       "3      Georgia State  1148640.0  \n",
       "4                NaN  5000000.0  "
      ]
     },
     "execution_count": 26,
     "metadata": {},
     "output_type": "execute_result"
    }
   ],
   "source": [
    "df = pd.read_csv('dataset/nba.csv')\n",
    "df.head()"
   ]
  },
  {
   "cell_type": "markdown",
   "id": "b5fd6bf3",
   "metadata": {},
   "source": [
    "● Display basic information about the DataFrame."
   ]
  },
  {
   "cell_type": "code",
   "execution_count": 27,
   "id": "58fb8923",
   "metadata": {},
   "outputs": [
    {
     "name": "stdout",
     "output_type": "stream",
     "text": [
      "<class 'pandas.core.frame.DataFrame'>\n",
      "RangeIndex: 457 entries, 0 to 456\n",
      "Data columns (total 8 columns):\n",
      " #   Column    Non-Null Count  Dtype  \n",
      "---  ------    --------------  -----  \n",
      " 0   Name      457 non-null    object \n",
      " 1   Team      457 non-null    object \n",
      " 2   Number    457 non-null    int64  \n",
      " 3   Position  457 non-null    object \n",
      " 4   Age       457 non-null    int64  \n",
      " 5   Weight    457 non-null    int64  \n",
      " 6   College   373 non-null    object \n",
      " 7   Salary    446 non-null    float64\n",
      "dtypes: float64(1), int64(3), object(4)\n",
      "memory usage: 28.7+ KB\n"
     ]
    }
   ],
   "source": [
    "df.info()"
   ]
  },
  {
   "cell_type": "markdown",
   "id": "0857b1d0",
   "metadata": {},
   "source": [
    "#### Observations:\n",
    "\n",
    "1. The dataset contains 457 entries and 8 columns, including 'Name', 'Team', 'Number', 'Position', 'Age', 'Weight', 'College', and 'Salary'.\n",
    "<br>\n",
    "\n",
    "2. Some entries have missing values, particularly in the 'College' and 'Salary' columns. There are 373 non-null values in the 'College' column and 446 non-null values in the 'Salary' column.\n",
    "<br>\n",
    "\n",
    "3. The data types differ across the columns, with 'Name', 'Team', 'Position', and 'College' being of the object data type, 'Number', 'Age', and 'Weight' being of the int64 data type, and 'Salary' being of the float64 data type.\n",
    "<br>\n",
    "\n",
    "4. The dataset presents information related to player attributes such as age, weight, and position, as well as their respective salaries.\n",
    "<br>\n",
    "\n",
    "5. The 'Age' and 'Weight' columns are complete, containing 457 non-null entries, indicating that there are no missing values in these columns.\n",
    "<br>\n",
    "\n",
    "6. The 'Number' column seems to represent the jersey number of the players in the dataset.\n",
    "<br>\n",
    "\n",
    "7. The 'Salary' column has numeric values, indicating the players' salaries, while the 'College' column represents the college where the players attended."
   ]
  },
  {
   "cell_type": "markdown",
   "id": "484a455d",
   "metadata": {},
   "source": [
    "#### 2. Data Cleaning:\n",
    "\n",
    "● Handle missing values by either removing or imputing them."
   ]
  },
  {
   "cell_type": "code",
   "execution_count": 28,
   "id": "50d0b8c8",
   "metadata": {},
   "outputs": [
    {
     "data": {
      "text/plain": [
       "Name         0\n",
       "Team         0\n",
       "Number       0\n",
       "Position     0\n",
       "Age          0\n",
       "Weight       0\n",
       "College     84\n",
       "Salary      11\n",
       "dtype: int64"
      ]
     },
     "execution_count": 28,
     "metadata": {},
     "output_type": "execute_result"
    }
   ],
   "source": [
    "df.isna().sum()"
   ]
  },
  {
   "cell_type": "code",
   "execution_count": 29,
   "id": "17c14618-7666-46e6-9098-a3b21258bf74",
   "metadata": {
    "tags": []
   },
   "outputs": [
    {
     "data": {
      "text/html": [
       "<div>\n",
       "<style scoped>\n",
       "    .dataframe tbody tr th:only-of-type {\n",
       "        vertical-align: middle;\n",
       "    }\n",
       "\n",
       "    .dataframe tbody tr th {\n",
       "        vertical-align: top;\n",
       "    }\n",
       "\n",
       "    .dataframe thead th {\n",
       "        text-align: right;\n",
       "    }\n",
       "</style>\n",
       "<table border=\"1\" class=\"dataframe\">\n",
       "  <thead>\n",
       "    <tr style=\"text-align: right;\">\n",
       "      <th></th>\n",
       "      <th>Name</th>\n",
       "      <th>Team</th>\n",
       "      <th>Number</th>\n",
       "      <th>Position</th>\n",
       "      <th>Age</th>\n",
       "      <th>Weight</th>\n",
       "      <th>College</th>\n",
       "      <th>Salary</th>\n",
       "    </tr>\n",
       "  </thead>\n",
       "  <tbody>\n",
       "    <tr>\n",
       "      <th>4</th>\n",
       "      <td>Jonas Jerebko</td>\n",
       "      <td>Boston Celtics</td>\n",
       "      <td>8</td>\n",
       "      <td>PF</td>\n",
       "      <td>29</td>\n",
       "      <td>231</td>\n",
       "      <td>NaN</td>\n",
       "      <td>5000000.0</td>\n",
       "    </tr>\n",
       "    <tr>\n",
       "      <th>5</th>\n",
       "      <td>Amir Johnson</td>\n",
       "      <td>Boston Celtics</td>\n",
       "      <td>90</td>\n",
       "      <td>PF</td>\n",
       "      <td>29</td>\n",
       "      <td>240</td>\n",
       "      <td>NaN</td>\n",
       "      <td>12000000.0</td>\n",
       "    </tr>\n",
       "    <tr>\n",
       "      <th>15</th>\n",
       "      <td>Bojan Bogdanovic</td>\n",
       "      <td>Brooklyn Nets</td>\n",
       "      <td>44</td>\n",
       "      <td>SG</td>\n",
       "      <td>27</td>\n",
       "      <td>216</td>\n",
       "      <td>NaN</td>\n",
       "      <td>3425510.0</td>\n",
       "    </tr>\n",
       "    <tr>\n",
       "      <th>20</th>\n",
       "      <td>Sergey Karasev</td>\n",
       "      <td>Brooklyn Nets</td>\n",
       "      <td>10</td>\n",
       "      <td>SG</td>\n",
       "      <td>22</td>\n",
       "      <td>208</td>\n",
       "      <td>NaN</td>\n",
       "      <td>1599840.0</td>\n",
       "    </tr>\n",
       "    <tr>\n",
       "      <th>32</th>\n",
       "      <td>Thanasis Antetokounmpo</td>\n",
       "      <td>New York Knicks</td>\n",
       "      <td>43</td>\n",
       "      <td>SF</td>\n",
       "      <td>23</td>\n",
       "      <td>205</td>\n",
       "      <td>NaN</td>\n",
       "      <td>30888.0</td>\n",
       "    </tr>\n",
       "    <tr>\n",
       "      <th>...</th>\n",
       "      <td>...</td>\n",
       "      <td>...</td>\n",
       "      <td>...</td>\n",
       "      <td>...</td>\n",
       "      <td>...</td>\n",
       "      <td>...</td>\n",
       "      <td>...</td>\n",
       "      <td>...</td>\n",
       "    </tr>\n",
       "    <tr>\n",
       "      <th>445</th>\n",
       "      <td>Dante Exum</td>\n",
       "      <td>Utah Jazz</td>\n",
       "      <td>11</td>\n",
       "      <td>PG</td>\n",
       "      <td>20</td>\n",
       "      <td>190</td>\n",
       "      <td>NaN</td>\n",
       "      <td>3777720.0</td>\n",
       "    </tr>\n",
       "    <tr>\n",
       "      <th>447</th>\n",
       "      <td>Rudy Gobert</td>\n",
       "      <td>Utah Jazz</td>\n",
       "      <td>27</td>\n",
       "      <td>C</td>\n",
       "      <td>23</td>\n",
       "      <td>245</td>\n",
       "      <td>NaN</td>\n",
       "      <td>1175880.0</td>\n",
       "    </tr>\n",
       "    <tr>\n",
       "      <th>450</th>\n",
       "      <td>Joe Ingles</td>\n",
       "      <td>Utah Jazz</td>\n",
       "      <td>2</td>\n",
       "      <td>SF</td>\n",
       "      <td>28</td>\n",
       "      <td>226</td>\n",
       "      <td>NaN</td>\n",
       "      <td>2050000.0</td>\n",
       "    </tr>\n",
       "    <tr>\n",
       "      <th>454</th>\n",
       "      <td>Raul Neto</td>\n",
       "      <td>Utah Jazz</td>\n",
       "      <td>25</td>\n",
       "      <td>PG</td>\n",
       "      <td>24</td>\n",
       "      <td>179</td>\n",
       "      <td>NaN</td>\n",
       "      <td>900000.0</td>\n",
       "    </tr>\n",
       "    <tr>\n",
       "      <th>455</th>\n",
       "      <td>Tibor Pleiss</td>\n",
       "      <td>Utah Jazz</td>\n",
       "      <td>21</td>\n",
       "      <td>C</td>\n",
       "      <td>26</td>\n",
       "      <td>256</td>\n",
       "      <td>NaN</td>\n",
       "      <td>2900000.0</td>\n",
       "    </tr>\n",
       "  </tbody>\n",
       "</table>\n",
       "<p>84 rows × 8 columns</p>\n",
       "</div>"
      ],
      "text/plain": [
       "                       Name             Team  Number Position  Age  Weight  \\\n",
       "4             Jonas Jerebko   Boston Celtics       8       PF   29     231   \n",
       "5              Amir Johnson   Boston Celtics      90       PF   29     240   \n",
       "15         Bojan Bogdanovic    Brooklyn Nets      44       SG   27     216   \n",
       "20           Sergey Karasev    Brooklyn Nets      10       SG   22     208   \n",
       "32   Thanasis Antetokounmpo  New York Knicks      43       SF   23     205   \n",
       "..                      ...              ...     ...      ...  ...     ...   \n",
       "445              Dante Exum        Utah Jazz      11       PG   20     190   \n",
       "447             Rudy Gobert        Utah Jazz      27        C   23     245   \n",
       "450              Joe Ingles        Utah Jazz       2       SF   28     226   \n",
       "454               Raul Neto        Utah Jazz      25       PG   24     179   \n",
       "455            Tibor Pleiss        Utah Jazz      21        C   26     256   \n",
       "\n",
       "    College      Salary  \n",
       "4       NaN   5000000.0  \n",
       "5       NaN  12000000.0  \n",
       "15      NaN   3425510.0  \n",
       "20      NaN   1599840.0  \n",
       "32      NaN     30888.0  \n",
       "..      ...         ...  \n",
       "445     NaN   3777720.0  \n",
       "447     NaN   1175880.0  \n",
       "450     NaN   2050000.0  \n",
       "454     NaN    900000.0  \n",
       "455     NaN   2900000.0  \n",
       "\n",
       "[84 rows x 8 columns]"
      ]
     },
     "execution_count": 29,
     "metadata": {},
     "output_type": "execute_result"
    }
   ],
   "source": [
    "df[df['College'].isnull()] "
   ]
  },
  {
   "cell_type": "code",
   "execution_count": 30,
   "id": "32fe369f-6a3b-4bfd-a3eb-2664cc8baa47",
   "metadata": {
    "tags": []
   },
   "outputs": [
    {
     "data": {
      "text/html": [
       "<div>\n",
       "<style scoped>\n",
       "    .dataframe tbody tr th:only-of-type {\n",
       "        vertical-align: middle;\n",
       "    }\n",
       "\n",
       "    .dataframe tbody tr th {\n",
       "        vertical-align: top;\n",
       "    }\n",
       "\n",
       "    .dataframe thead th {\n",
       "        text-align: right;\n",
       "    }\n",
       "</style>\n",
       "<table border=\"1\" class=\"dataframe\">\n",
       "  <thead>\n",
       "    <tr style=\"text-align: right;\">\n",
       "      <th></th>\n",
       "      <th>Name</th>\n",
       "      <th>Team</th>\n",
       "      <th>Number</th>\n",
       "      <th>Position</th>\n",
       "      <th>Age</th>\n",
       "      <th>Weight</th>\n",
       "      <th>College</th>\n",
       "      <th>Salary</th>\n",
       "    </tr>\n",
       "  </thead>\n",
       "  <tbody>\n",
       "    <tr>\n",
       "      <th>2</th>\n",
       "      <td>John Holland</td>\n",
       "      <td>Boston Celtics</td>\n",
       "      <td>30</td>\n",
       "      <td>SG</td>\n",
       "      <td>27</td>\n",
       "      <td>205</td>\n",
       "      <td>Boston University</td>\n",
       "      <td>NaN</td>\n",
       "    </tr>\n",
       "    <tr>\n",
       "      <th>46</th>\n",
       "      <td>Elton Brand</td>\n",
       "      <td>Philadelphia 76ers</td>\n",
       "      <td>42</td>\n",
       "      <td>PF</td>\n",
       "      <td>37</td>\n",
       "      <td>254</td>\n",
       "      <td>Duke</td>\n",
       "      <td>NaN</td>\n",
       "    </tr>\n",
       "    <tr>\n",
       "      <th>171</th>\n",
       "      <td>Dahntay Jones</td>\n",
       "      <td>Cleveland Cavaliers</td>\n",
       "      <td>30</td>\n",
       "      <td>SG</td>\n",
       "      <td>35</td>\n",
       "      <td>225</td>\n",
       "      <td>Duke</td>\n",
       "      <td>NaN</td>\n",
       "    </tr>\n",
       "    <tr>\n",
       "      <th>264</th>\n",
       "      <td>Jordan Farmar</td>\n",
       "      <td>Memphis Grizzlies</td>\n",
       "      <td>4</td>\n",
       "      <td>PG</td>\n",
       "      <td>29</td>\n",
       "      <td>180</td>\n",
       "      <td>UCLA</td>\n",
       "      <td>NaN</td>\n",
       "    </tr>\n",
       "    <tr>\n",
       "      <th>269</th>\n",
       "      <td>Ray McCallum</td>\n",
       "      <td>Memphis Grizzlies</td>\n",
       "      <td>5</td>\n",
       "      <td>PG</td>\n",
       "      <td>24</td>\n",
       "      <td>190</td>\n",
       "      <td>Detroit</td>\n",
       "      <td>NaN</td>\n",
       "    </tr>\n",
       "    <tr>\n",
       "      <th>270</th>\n",
       "      <td>Xavier Munford</td>\n",
       "      <td>Memphis Grizzlies</td>\n",
       "      <td>14</td>\n",
       "      <td>PG</td>\n",
       "      <td>24</td>\n",
       "      <td>180</td>\n",
       "      <td>Rhode Island</td>\n",
       "      <td>NaN</td>\n",
       "    </tr>\n",
       "    <tr>\n",
       "      <th>273</th>\n",
       "      <td>Alex Stepheson</td>\n",
       "      <td>Memphis Grizzlies</td>\n",
       "      <td>35</td>\n",
       "      <td>PF</td>\n",
       "      <td>28</td>\n",
       "      <td>270</td>\n",
       "      <td>USC</td>\n",
       "      <td>NaN</td>\n",
       "    </tr>\n",
       "    <tr>\n",
       "      <th>350</th>\n",
       "      <td>Briante Weber</td>\n",
       "      <td>Miami Heat</td>\n",
       "      <td>12</td>\n",
       "      <td>PG</td>\n",
       "      <td>23</td>\n",
       "      <td>165</td>\n",
       "      <td>Virginia Commonwealth</td>\n",
       "      <td>NaN</td>\n",
       "    </tr>\n",
       "    <tr>\n",
       "      <th>353</th>\n",
       "      <td>Dorell Wright</td>\n",
       "      <td>Miami Heat</td>\n",
       "      <td>11</td>\n",
       "      <td>SF</td>\n",
       "      <td>30</td>\n",
       "      <td>205</td>\n",
       "      <td>NaN</td>\n",
       "      <td>NaN</td>\n",
       "    </tr>\n",
       "    <tr>\n",
       "      <th>397</th>\n",
       "      <td>Axel Toupane</td>\n",
       "      <td>Denver Nuggets</td>\n",
       "      <td>6</td>\n",
       "      <td>SG</td>\n",
       "      <td>23</td>\n",
       "      <td>210</td>\n",
       "      <td>NaN</td>\n",
       "      <td>NaN</td>\n",
       "    </tr>\n",
       "    <tr>\n",
       "      <th>409</th>\n",
       "      <td>Greg Smith</td>\n",
       "      <td>Minnesota Timberwolves</td>\n",
       "      <td>4</td>\n",
       "      <td>PF</td>\n",
       "      <td>25</td>\n",
       "      <td>250</td>\n",
       "      <td>Fresno State</td>\n",
       "      <td>NaN</td>\n",
       "    </tr>\n",
       "  </tbody>\n",
       "</table>\n",
       "</div>"
      ],
      "text/plain": [
       "               Name                    Team  Number Position  Age  Weight  \\\n",
       "2      John Holland          Boston Celtics      30       SG   27     205   \n",
       "46      Elton Brand      Philadelphia 76ers      42       PF   37     254   \n",
       "171   Dahntay Jones     Cleveland Cavaliers      30       SG   35     225   \n",
       "264   Jordan Farmar       Memphis Grizzlies       4       PG   29     180   \n",
       "269    Ray McCallum       Memphis Grizzlies       5       PG   24     190   \n",
       "270  Xavier Munford       Memphis Grizzlies      14       PG   24     180   \n",
       "273  Alex Stepheson       Memphis Grizzlies      35       PF   28     270   \n",
       "350   Briante Weber              Miami Heat      12       PG   23     165   \n",
       "353   Dorell Wright              Miami Heat      11       SF   30     205   \n",
       "397    Axel Toupane          Denver Nuggets       6       SG   23     210   \n",
       "409      Greg Smith  Minnesota Timberwolves       4       PF   25     250   \n",
       "\n",
       "                   College  Salary  \n",
       "2        Boston University     NaN  \n",
       "46                    Duke     NaN  \n",
       "171                   Duke     NaN  \n",
       "264                   UCLA     NaN  \n",
       "269                Detroit     NaN  \n",
       "270           Rhode Island     NaN  \n",
       "273                    USC     NaN  \n",
       "350  Virginia Commonwealth     NaN  \n",
       "353                    NaN     NaN  \n",
       "397                    NaN     NaN  \n",
       "409           Fresno State     NaN  "
      ]
     },
     "execution_count": 30,
     "metadata": {},
     "output_type": "execute_result"
    }
   ],
   "source": [
    "df[df['Salary'].isnull()] "
   ]
  },
  {
   "cell_type": "markdown",
   "id": "5f270382-6483-4bb6-b243-178c984ee985",
   "metadata": {},
   "source": [
    "- High Percentage of Missing Values: The 'College' column has a large number of missing values (NaNs) and removing a substantial portion of the rows with missing 'College' data may lead to a loss of valuable information.\n",
    "\n",
    "- **Irrelevance:** In the context of this dataset, the college from which a player graduated may not significantly impact the analysis of player performance, salaries, or other key features.\n",
    "\n",
    "- **Imputation Challenge:** Given the categorical nature of the 'College' column, imputing the missing values with a specific college name may introduce bias and inaccuracies into the analysis."
   ]
  },
  {
   "cell_type": "code",
   "execution_count": 31,
   "id": "22dcada7-a049-4ed6-8412-8582a996eeba",
   "metadata": {
    "tags": []
   },
   "outputs": [],
   "source": [
    "df.dropna(subset = ['College'], inplace=True)"
   ]
  },
  {
   "cell_type": "code",
   "execution_count": 32,
   "id": "bff29650-3bfe-4843-995e-a6af2b0ca80b",
   "metadata": {
    "tags": []
   },
   "outputs": [
    {
     "data": {
      "text/plain": [
       "<Figure size 1000x600 with 0 Axes>"
      ]
     },
     "metadata": {},
     "output_type": "display_data"
    },
    {
     "data": {
      "image/png": "[encoded data removed]",
      "text/plain": [
       "<Figure size 640x480 with 1 Axes>"
      ]
     },
     "metadata": {},
     "output_type": "display_data"
    }
   ],
   "source": [
    "plt.figure(figsize=(10, 6))\n",
    "boxplot = df.boxplot(column='Salary', by='Position', grid=False)\n",
    "plt.title('Player Salaries by Position')\n",
    "plt.xlabel('Position')\n",
    "plt.ylabel('Salary')\n",
    "plt.show()"
   ]
  },
  {
   "cell_type": "markdown",
   "id": "cae45b93-4a4a-462d-927b-cbc92f508e92",
   "metadata": {},
   "source": [
    "- In Salary columns we can see many outliers are there so if we want to imput the NaN values we should have to go with median istead of mean"
   ]
  },
  {
   "cell_type": "code",
   "execution_count": 33,
   "id": "c08a30b4-9951-482e-bd20-60a07225f361",
   "metadata": {
    "tags": []
   },
   "outputs": [],
   "source": [
    "df.fillna(df.median(), inplace=True)"
   ]
  },
  {
   "cell_type": "code",
   "execution_count": 34,
   "id": "665052f4-11e1-4bf7-b0aa-bf35ca453d71",
   "metadata": {
    "tags": []
   },
   "outputs": [
    {
     "data": {
      "text/plain": [
       "Name        0\n",
       "Team        0\n",
       "Number      0\n",
       "Position    0\n",
       "Age         0\n",
       "Weight      0\n",
       "College     0\n",
       "Salary      0\n",
       "dtype: int64"
      ]
     },
     "execution_count": 34,
     "metadata": {},
     "output_type": "execute_result"
    }
   ],
   "source": [
    "df.isnull().sum()"
   ]
  },
  {
   "cell_type": "markdown",
   "id": "e5774d6f",
   "metadata": {},
   "source": [
    "● Remove duplicate rows"
   ]
  },
  {
   "cell_type": "code",
   "execution_count": 35,
   "id": "37e3b69b",
   "metadata": {
    "tags": []
   },
   "outputs": [],
   "source": [
    "df.drop_duplicates(inplace=True)"
   ]
  },
  {
   "cell_type": "markdown",
   "id": "6a512bb6-6d69-432c-b21d-da921a5aa5fe",
   "metadata": {
    "tags": []
   },
   "source": [
    "#### 3. Data Transformation:\n",
    "\n",
    "- Create a new column 'BMI' (Body Mass Index) using the formula:\n",
    "\n",
    "<center><code>BMI = (weight in pounds / (height in inches)^2) * 703`.</code></center>\n",
    " (Assuming a fixed height value of 70 inches (5 feet 10 inches)"
   ]
  },
  {
   "cell_type": "code",
   "execution_count": 36,
   "id": "a2800a6b-2a70-44af-8f6f-65bffffe3c8f",
   "metadata": {
    "tags": []
   },
   "outputs": [],
   "source": [
    "df['BMI'] = (df['Weight'] / (70 ** 2)) * 703"
   ]
  },
  {
   "cell_type": "code",
   "execution_count": 37,
   "id": "b0670951-94ae-4f57-963f-4442a0379ffa",
   "metadata": {
    "tags": []
   },
   "outputs": [
    {
     "data": {
      "text/html": [
       "<div>\n",
       "<style scoped>\n",
       "    .dataframe tbody tr th:only-of-type {\n",
       "        vertical-align: middle;\n",
       "    }\n",
       "\n",
       "    .dataframe tbody tr th {\n",
       "        vertical-align: top;\n",
       "    }\n",
       "\n",
       "    .dataframe thead th {\n",
       "        text-align: right;\n",
       "    }\n",
       "</style>\n",
       "<table border=\"1\" class=\"dataframe\">\n",
       "  <thead>\n",
       "    <tr style=\"text-align: right;\">\n",
       "      <th></th>\n",
       "      <th>Name</th>\n",
       "      <th>Team</th>\n",
       "      <th>Number</th>\n",
       "      <th>Position</th>\n",
       "      <th>Age</th>\n",
       "      <th>Weight</th>\n",
       "      <th>College</th>\n",
       "      <th>Salary</th>\n",
       "      <th>BMI</th>\n",
       "    </tr>\n",
       "  </thead>\n",
       "  <tbody>\n",
       "    <tr>\n",
       "      <th>0</th>\n",
       "      <td>Avery Bradley</td>\n",
       "      <td>Boston Celtics</td>\n",
       "      <td>0</td>\n",
       "      <td>PG</td>\n",
       "      <td>25</td>\n",
       "      <td>180</td>\n",
       "      <td>Texas</td>\n",
       "      <td>7730337.0</td>\n",
       "      <td>25.824490</td>\n",
       "    </tr>\n",
       "    <tr>\n",
       "      <th>1</th>\n",
       "      <td>Jae Crowder</td>\n",
       "      <td>Boston Celtics</td>\n",
       "      <td>99</td>\n",
       "      <td>SF</td>\n",
       "      <td>25</td>\n",
       "      <td>235</td>\n",
       "      <td>Marquette</td>\n",
       "      <td>6796117.0</td>\n",
       "      <td>33.715306</td>\n",
       "    </tr>\n",
       "    <tr>\n",
       "      <th>2</th>\n",
       "      <td>John Holland</td>\n",
       "      <td>Boston Celtics</td>\n",
       "      <td>30</td>\n",
       "      <td>SG</td>\n",
       "      <td>27</td>\n",
       "      <td>205</td>\n",
       "      <td>Boston University</td>\n",
       "      <td>2515440.0</td>\n",
       "      <td>29.411224</td>\n",
       "    </tr>\n",
       "    <tr>\n",
       "      <th>3</th>\n",
       "      <td>R.J. Hunter</td>\n",
       "      <td>Boston Celtics</td>\n",
       "      <td>28</td>\n",
       "      <td>SG</td>\n",
       "      <td>22</td>\n",
       "      <td>185</td>\n",
       "      <td>Georgia State</td>\n",
       "      <td>1148640.0</td>\n",
       "      <td>26.541837</td>\n",
       "    </tr>\n",
       "    <tr>\n",
       "      <th>6</th>\n",
       "      <td>Jordan Mickey</td>\n",
       "      <td>Boston Celtics</td>\n",
       "      <td>55</td>\n",
       "      <td>PF</td>\n",
       "      <td>21</td>\n",
       "      <td>235</td>\n",
       "      <td>LSU</td>\n",
       "      <td>1170960.0</td>\n",
       "      <td>33.715306</td>\n",
       "    </tr>\n",
       "    <tr>\n",
       "      <th>...</th>\n",
       "      <td>...</td>\n",
       "      <td>...</td>\n",
       "      <td>...</td>\n",
       "      <td>...</td>\n",
       "      <td>...</td>\n",
       "      <td>...</td>\n",
       "      <td>...</td>\n",
       "      <td>...</td>\n",
       "      <td>...</td>\n",
       "    </tr>\n",
       "    <tr>\n",
       "      <th>449</th>\n",
       "      <td>Rodney Hood</td>\n",
       "      <td>Utah Jazz</td>\n",
       "      <td>5</td>\n",
       "      <td>SG</td>\n",
       "      <td>23</td>\n",
       "      <td>206</td>\n",
       "      <td>Duke</td>\n",
       "      <td>1348440.0</td>\n",
       "      <td>29.554694</td>\n",
       "    </tr>\n",
       "    <tr>\n",
       "      <th>451</th>\n",
       "      <td>Chris Johnson</td>\n",
       "      <td>Utah Jazz</td>\n",
       "      <td>23</td>\n",
       "      <td>SF</td>\n",
       "      <td>26</td>\n",
       "      <td>206</td>\n",
       "      <td>Dayton</td>\n",
       "      <td>981348.0</td>\n",
       "      <td>29.554694</td>\n",
       "    </tr>\n",
       "    <tr>\n",
       "      <th>452</th>\n",
       "      <td>Trey Lyles</td>\n",
       "      <td>Utah Jazz</td>\n",
       "      <td>41</td>\n",
       "      <td>PF</td>\n",
       "      <td>20</td>\n",
       "      <td>234</td>\n",
       "      <td>Kentucky</td>\n",
       "      <td>2239800.0</td>\n",
       "      <td>33.571837</td>\n",
       "    </tr>\n",
       "    <tr>\n",
       "      <th>453</th>\n",
       "      <td>Shelvin Mack</td>\n",
       "      <td>Utah Jazz</td>\n",
       "      <td>8</td>\n",
       "      <td>PG</td>\n",
       "      <td>26</td>\n",
       "      <td>203</td>\n",
       "      <td>Butler</td>\n",
       "      <td>2433333.0</td>\n",
       "      <td>29.124286</td>\n",
       "    </tr>\n",
       "    <tr>\n",
       "      <th>456</th>\n",
       "      <td>Jeff Withey</td>\n",
       "      <td>Utah Jazz</td>\n",
       "      <td>24</td>\n",
       "      <td>C</td>\n",
       "      <td>26</td>\n",
       "      <td>231</td>\n",
       "      <td>Kansas</td>\n",
       "      <td>947276.0</td>\n",
       "      <td>33.141429</td>\n",
       "    </tr>\n",
       "  </tbody>\n",
       "</table>\n",
       "<p>373 rows × 9 columns</p>\n",
       "</div>"
      ],
      "text/plain": [
       "              Name            Team  Number Position  Age  Weight  \\\n",
       "0    Avery Bradley  Boston Celtics       0       PG   25     180   \n",
       "1      Jae Crowder  Boston Celtics      99       SF   25     235   \n",
       "2     John Holland  Boston Celtics      30       SG   27     205   \n",
       "3      R.J. Hunter  Boston Celtics      28       SG   22     185   \n",
       "6    Jordan Mickey  Boston Celtics      55       PF   21     235   \n",
       "..             ...             ...     ...      ...  ...     ...   \n",
       "449    Rodney Hood       Utah Jazz       5       SG   23     206   \n",
       "451  Chris Johnson       Utah Jazz      23       SF   26     206   \n",
       "452     Trey Lyles       Utah Jazz      41       PF   20     234   \n",
       "453   Shelvin Mack       Utah Jazz       8       PG   26     203   \n",
       "456    Jeff Withey       Utah Jazz      24        C   26     231   \n",
       "\n",
       "               College     Salary        BMI  \n",
       "0                Texas  7730337.0  25.824490  \n",
       "1            Marquette  6796117.0  33.715306  \n",
       "2    Boston University  2515440.0  29.411224  \n",
       "3        Georgia State  1148640.0  26.541837  \n",
       "6                  LSU  1170960.0  33.715306  \n",
       "..                 ...        ...        ...  \n",
       "449               Duke  1348440.0  29.554694  \n",
       "451             Dayton   981348.0  29.554694  \n",
       "452           Kentucky  2239800.0  33.571837  \n",
       "453             Butler  2433333.0  29.124286  \n",
       "456             Kansas   947276.0  33.141429  \n",
       "\n",
       "[373 rows x 9 columns]"
      ]
     },
     "execution_count": 37,
     "metadata": {},
     "output_type": "execute_result"
    }
   ],
   "source": [
    "df"
   ]
  },
  {
   "cell_type": "markdown",
   "id": "34d3560d-c01c-4fe7-a2c8-8c6d9f7de519",
   "metadata": {},
   "source": [
    "#### 4. Exploratory Data Analysis (EDA)\n",
    "\n",
    "- Display summary statistics of the 'age', 'weight', and 'salary' columns."
   ]
  },
  {
   "cell_type": "code",
   "execution_count": 38,
   "id": "3f3a96af",
   "metadata": {
    "scrolled": true
   },
   "outputs": [
    {
     "data": {
      "text/html": [
       "<div>\n",
       "<style scoped>\n",
       "    .dataframe tbody tr th:only-of-type {\n",
       "        vertical-align: middle;\n",
       "    }\n",
       "\n",
       "    .dataframe tbody tr th {\n",
       "        vertical-align: top;\n",
       "    }\n",
       "\n",
       "    .dataframe thead th {\n",
       "        text-align: right;\n",
       "    }\n",
       "</style>\n",
       "<table border=\"1\" class=\"dataframe\">\n",
       "  <thead>\n",
       "    <tr style=\"text-align: right;\">\n",
       "      <th></th>\n",
       "      <th>Age</th>\n",
       "      <th>Weight</th>\n",
       "      <th>Salary</th>\n",
       "    </tr>\n",
       "  </thead>\n",
       "  <tbody>\n",
       "    <tr>\n",
       "      <th>count</th>\n",
       "      <td>373</td>\n",
       "      <td>373</td>\n",
       "      <td>373</td>\n",
       "    </tr>\n",
       "    <tr>\n",
       "      <th>mean</th>\n",
       "      <td>26</td>\n",
       "      <td>219</td>\n",
       "      <td>4569523</td>\n",
       "    </tr>\n",
       "    <tr>\n",
       "      <th>std</th>\n",
       "      <td>4</td>\n",
       "      <td>25</td>\n",
       "      <td>5067735</td>\n",
       "    </tr>\n",
       "    <tr>\n",
       "      <th>min</th>\n",
       "      <td>19</td>\n",
       "      <td>161</td>\n",
       "      <td>55722</td>\n",
       "    </tr>\n",
       "    <tr>\n",
       "      <th>25%</th>\n",
       "      <td>24</td>\n",
       "      <td>200</td>\n",
       "      <td>1007026</td>\n",
       "    </tr>\n",
       "    <tr>\n",
       "      <th>50%</th>\n",
       "      <td>26</td>\n",
       "      <td>220</td>\n",
       "      <td>2515440</td>\n",
       "    </tr>\n",
       "    <tr>\n",
       "      <th>75%</th>\n",
       "      <td>29</td>\n",
       "      <td>240</td>\n",
       "      <td>5758680</td>\n",
       "    </tr>\n",
       "    <tr>\n",
       "      <th>max</th>\n",
       "      <td>40</td>\n",
       "      <td>279</td>\n",
       "      <td>22875000</td>\n",
       "    </tr>\n",
       "  </tbody>\n",
       "</table>\n",
       "</div>"
      ],
      "text/plain": [
       "       Age  Weight    Salary\n",
       "count  373     373       373\n",
       "mean    26     219   4569523\n",
       "std      4      25   5067735\n",
       "min     19     161     55722\n",
       "25%     24     200   1007026\n",
       "50%     26     220   2515440\n",
       "75%     29     240   5758680\n",
       "max     40     279  22875000"
      ]
     },
     "execution_count": 38,
     "metadata": {},
     "output_type": "execute_result"
    }
   ],
   "source": [
    "summary_statistics = df[['Age', 'Weight', 'Salary']].describe()\n",
    "\n",
    "summary_statistics.astype(int)"
   ]
  },
  {
   "cell_type": "markdown",
   "id": "79a2e2ed",
   "metadata": {},
   "source": [
    "- Calculate the average age, weight, and salary of players in each 'position' category."
   ]
  },
  {
   "cell_type": "code",
   "execution_count": 39,
   "id": "0f2c295f",
   "metadata": {},
   "outputs": [
    {
     "data": {
      "text/html": [
       "<div>\n",
       "<style scoped>\n",
       "    .dataframe tbody tr th:only-of-type {\n",
       "        vertical-align: middle;\n",
       "    }\n",
       "\n",
       "    .dataframe tbody tr th {\n",
       "        vertical-align: top;\n",
       "    }\n",
       "\n",
       "    .dataframe thead th {\n",
       "        text-align: right;\n",
       "    }\n",
       "</style>\n",
       "<table border=\"1\" class=\"dataframe\">\n",
       "  <thead>\n",
       "    <tr style=\"text-align: right;\">\n",
       "      <th></th>\n",
       "      <th>Age</th>\n",
       "      <th>Weight</th>\n",
       "      <th>Salary</th>\n",
       "    </tr>\n",
       "    <tr>\n",
       "      <th>Position</th>\n",
       "      <th></th>\n",
       "      <th></th>\n",
       "      <th></th>\n",
       "    </tr>\n",
       "  </thead>\n",
       "  <tbody>\n",
       "    <tr>\n",
       "      <th>C</th>\n",
       "      <td>26</td>\n",
       "      <td>252</td>\n",
       "      <td>5763866</td>\n",
       "    </tr>\n",
       "    <tr>\n",
       "      <th>PF</th>\n",
       "      <td>26</td>\n",
       "      <td>240</td>\n",
       "      <td>4390539</td>\n",
       "    </tr>\n",
       "    <tr>\n",
       "      <th>PG</th>\n",
       "      <td>26</td>\n",
       "      <td>189</td>\n",
       "      <td>4796037</td>\n",
       "    </tr>\n",
       "    <tr>\n",
       "      <th>SF</th>\n",
       "      <td>26</td>\n",
       "      <td>221</td>\n",
       "      <td>4595907</td>\n",
       "    </tr>\n",
       "    <tr>\n",
       "      <th>SG</th>\n",
       "      <td>26</td>\n",
       "      <td>207</td>\n",
       "      <td>3856235</td>\n",
       "    </tr>\n",
       "  </tbody>\n",
       "</table>\n",
       "</div>"
      ],
      "text/plain": [
       "          Age  Weight   Salary\n",
       "Position                      \n",
       "C          26     252  5763866\n",
       "PF         26     240  4390539\n",
       "PG         26     189  4796037\n",
       "SF         26     221  4595907\n",
       "SG         26     207  3856235"
      ]
     },
     "execution_count": 39,
     "metadata": {},
     "output_type": "execute_result"
    }
   ],
   "source": [
    "Average_statistic_by_position = df.groupby('Position')[['Age', 'Weight', 'Salary']].mean()\n",
    "\n",
    "Average_statistic_by_position.astype(int)"
   ]
  },
  {
   "cell_type": "markdown",
   "id": "f4702372",
   "metadata": {},
   "source": [
    "#### Observations:\n",
    "\n",
    "**1. Age Distribution:** The majority of players (50th percentile) have an age of 26, with a fairly narrow interquartile range (25th to 75th percentile) of 24 to 29. The range extends from 19 to 40, showcasing a wide age range among players.\n",
    "\n",
    "**2. Weight Variation:** The weight distribution shows players with a median weight of 220 pounds, and an interquartile range from 200 to 240 pounds. The weight varies between 161 and 279 pounds, with relatively low standard deviation, indicating less variability.\n",
    "\n",
    "**3. Salary Spread:** The salary distribution is notable, with a mean salary of 4,569,523 and considerable variability, as evidenced by the wide standard deviation of 5,067,735. The 25th percentile reflects a relatively low value of 1,007,026, while the 75th percentile displays a substantial figure of 5,758,680, indicating significant diversity in players' salaries.\n",
    "\n",
    "**4. Position-based Averages:** The average age of players is consistent across different positions, with each position exhibiting an average age of 26. However, the weights of centers (C) are notably higher compared to other positions, with power forwards (PF) following closely. The salaries of centers and power forwards are also notably higher on average compared to point guards, shooting guards, and small forwards."
   ]
  },
  {
   "cell_type": "markdown",
   "id": "6d80349c",
   "metadata": {},
   "source": [
    "#### 5. Data Visualization:\n",
    "- Create a histogram of player ages."
   ]
  },
  {
   "cell_type": "code",
   "execution_count": 40,
   "id": "1e5490eb",
   "metadata": {},
   "outputs": [
    {
     "data": {
      "image/png": "[encoded data removed]",
      "text/plain": [
       "<Figure size 640x480 with 1 Axes>"
      ]
     },
     "metadata": {},
     "output_type": "display_data"
    }
   ],
   "source": [
    "plt.hist(df['Age'], bins=30, color='skyblue', edgecolor='black')\n",
    "plt.xlabel('Age')\n",
    "plt.ylabel('Frequency')\n",
    "plt.title('Histogram of Player Ages')\n",
    "plt.show()\n"
   ]
  },
  {
   "cell_type": "markdown",
   "id": "34d9d63e",
   "metadata": {},
   "source": [
    "#### Observation :\n",
    "\n",
    "**1. Youth Representation:** The presence of players as young as 19 reflects the NBA's ability to attract and develop young talent. These young players likely bring agility and potential for long-term growth to their respective teams.\n",
    "\n",
    "**2. Experience and Leadership:** On the other end of the spectrum, the inclusion of players up to 40 years old suggests that experienced veterans continue to have a meaningful impact in the league. Such players bring leadership, experience, and valuable mentorship to younger teammates, contributing to the overall dynamics of their teams.\n",
    "\n",
    "**3. Career Span:** The age range also signifies the extensive career span of basketball players in the NBA, showcasing the potential for a player's professional career to last for several decades if they maintain their physical and skill abilities.\n",
    "\n",
    "**4. Performance and Skills:** The range from 19 to 40 encompasses different stages of physical ability, skill proficiency, and experience, which impacts individual players' on-court performance, playing style, and value to their respective teams."
   ]
  },
  {
   "cell_type": "markdown",
   "id": "f1c8fc7b",
   "metadata": {},
   "source": [
    "- Create a boxplot of player salaries for each 'position'."
   ]
  },
  {
   "cell_type": "code",
   "execution_count": 41,
   "id": "79c9b3c4",
   "metadata": {
    "scrolled": false
   },
   "outputs": [
    {
     "data": {
      "image/png": "[encoded data removed]",
      "text/plain": [
       "<Figure size 1000x600 with 1 Axes>"
      ]
     },
     "metadata": {},
     "output_type": "display_data"
    }
   ],
   "source": [
    "sns.set(style=\"whitegrid\")\n",
    "plt.figure(figsize=(10, 6))\n",
    "sns.boxplot(x='Position', y='Salary', data=df, palette='Set3')\n",
    "plt.title('Boxplot of Player Salaries by Position')\n",
    "plt.show()"
   ]
  },
  {
   "cell_type": "markdown",
   "id": "4e9ff870",
   "metadata": {},
   "source": [
    "#### Observations :\n",
    "\n",
    "**1. Range of Salaries:** The boxplot illustrates the distribution of player salaries within each position. It's evident that each position, including point guard (PG), small forward (SF), shooting guard (SG), power forward (PF), and center (C), encompasses a diverse range of salaries.\n",
    "\n",
    "**2. Median Salaries:** The position of the median salary (denoted by the line within each box) varies across positions, indicating differences in the central tendency of salaries for each position.\n",
    "\n",
    "**3. Salary Disparities:** The length of the boxes and the position of the whiskers suggest variations in the spread and range of salaries among different positions. Some positions exhibit a wider spread of salaries, while others have a more compact distribution.\n",
    "\n",
    "**4. Outliers:** The presence of outliers, represented as individual points beyond the whiskers, indicates the existence of exceptional salary figures for specific players within each position.\n",
    "\n",
    "**5. Positional Disparities:** There are apparent differences in the distribution of salaries among the positions, with certain positions showing a generally higher or lower salary range compared to others.0"
   ]
  },
  {
   "cell_type": "markdown",
   "id": "2fa7efa2",
   "metadata": {},
   "source": [
    "- Plot a scatter plot of 'age' vs. 'salary' with a different color for each 'position'."
   ]
  },
  {
   "cell_type": "code",
   "execution_count": 42,
   "id": "f0764ca1",
   "metadata": {},
   "outputs": [
    {
     "data": {
      "image/png": "[encoded data removed]",
      "text/plain": [
       "<Figure size 1000x600 with 1 Axes>"
      ]
     },
     "metadata": {},
     "output_type": "display_data"
    }
   ],
   "source": [
    "plt.figure(figsize=(10, 6))\n",
    "sns.set_style(\"white\") \n",
    "sns.scatterplot(x='Age', y='Salary', hue='Position', data=df, palette='Set1')\n",
    "plt.title('Scatter Plot of Age vs. Salary with Different Colors for Each Position')\n",
    "plt.show()"
   ]
  },
  {
   "cell_type": "markdown",
   "id": "305b7cd9",
   "metadata": {},
   "source": [
    "#### Observations:\n",
    "\n",
    "**1. Age vs. Salary Distribution:** The scatter plot depicts the relationship between player age and salary, with each data point color-coded to represent the player's position (PG, SF, SG, PF, C). There is noticeable variability in both age and salary across all positions.\n",
    "\n",
    "**2. Positional Salary Ranges:** The plot reveals that players from different positions (PG, SF, SG, PF, C) demonstrate varying salary distributions at different ages. The spread of salaries and ages for each position varies, indicating that positions have distinct salary tendencies across different age groups.\n",
    "\n",
    "**3. Potential Outliers:** Some positions exhibit outliers in specific age groups, displaying exceptionally high or low salaries compared to the general trend within their position.\n",
    "\n",
    "**4. Salary Trends:** While there is visible dispersion, there may be discernible trends in salary changes as players age within each position, which could indicate potential career trajectories.\n",
    "\n",
    "**5. Positional Comparisons:** Comparing the distributions of salaries and ages across different player positions allows for insights into how salaries vary between positions at different age ranges."
   ]
  },
  {
   "cell_type": "markdown",
   "id": "54cb307d",
   "metadata": {},
   "source": [
    "#### 6. Top Players\n",
    "\n",
    "- Display the top 10 players with the highest salaries"
   ]
  },
  {
   "cell_type": "code",
   "execution_count": 43,
   "id": "773725b5",
   "metadata": {},
   "outputs": [
    {
     "name": "stdout",
     "output_type": "stream",
     "text": [
      "                  Name      Salary\n",
      "33     Carmelo Anthony  22875000.0\n",
      "339         Chris Bosh  22192730.0\n",
      "100         Chris Paul  21468695.0\n",
      "414       Kevin Durant  20158622.0\n",
      "164       Derrick Rose  20093064.0\n",
      "349        Dwyane Wade  20000000.0\n",
      "23         Brook Lopez  19689000.0\n",
      "98      DeAndre Jordan  19689000.0\n",
      "174         Kevin Love  19689000.0\n",
      "294  LaMarcus Aldridge  19689000.0\n"
     ]
    }
   ],
   "source": [
    "top_10_salaries = df.nlargest(10, 'Salary')\n",
    "\n",
    "print(top_10_salaries[['Name', 'Salary']])"
   ]
  },
  {
   "cell_type": "markdown",
   "id": "7c96e657",
   "metadata": {},
   "source": [
    "#### Observations:\n",
    "\n",
    "**1. Top Earners:** The provided players, including Carmelo Anthony, Chris Bosh, Chris Paul, Kevin Durant, and others, are among the highest-earning players in terms of salary in the NBA.\n",
    "\n",
    "**2. Salary Equality:** It's noteworthy that several players, such as Brook Lopez, DeAndre Jordan, and Kevin Love, are earning the same salary amount, indicating potential consistency in compensation among players."
   ]
  },
  {
   "cell_type": "markdown",
   "id": "3ae96f96",
   "metadata": {},
   "source": [
    "#### 7. College Analysis:\n",
    "\n",
    "- Determine the top 5 colleges with the most represented players.\n"
   ]
  },
  {
   "cell_type": "code",
   "execution_count": 44,
   "id": "b65451dc",
   "metadata": {
    "scrolled": false
   },
   "outputs": [
    {
     "name": "stdout",
     "output_type": "stream",
     "text": [
      "Kentucky          22\n",
      "Duke              20\n",
      "Kansas            18\n",
      "North Carolina    16\n",
      "UCLA              15\n",
      "Name: College, dtype: int64\n"
     ]
    }
   ],
   "source": [
    "top_5_college = df['College'].value_counts().head(5)\n",
    "\n",
    "print(top_5_college)"
   ]
  },
  {
   "cell_type": "markdown",
   "id": "37f9c93a",
   "metadata": {},
   "source": [
    "#### Observations:\n",
    "\n",
    "**1. Leading Colleges:** Kentucky and Duke stand out as the top two colleges with the highest number of represented players, boasting 22 and 20 players respectively.\n",
    "\n",
    "**2. Significant Representation:** Kansas, North Carolina, and UCLA also demonstrate substantial representation, with 18, 16, and 15 players respectively, showcasing their prominence in contributing players to the basketball league."
   ]
  },
  {
   "cell_type": "markdown",
   "id": "01608a90",
   "metadata": {},
   "source": [
    "#### 8. Position Distribution:\n",
    "\n",
    "- Plot a pie chart to show the distribution of players across different 'positions'."
   ]
  },
  {
   "cell_type": "code",
   "execution_count": 45,
   "id": "348d2607",
   "metadata": {},
   "outputs": [
    {
     "data": {
      "image/png": "[encoded data removed]",
      "text/plain": [
       "<Figure size 800x800 with 1 Axes>"
      ]
     },
     "metadata": {},
     "output_type": "display_data"
    }
   ],
   "source": [
    "position_counts = df['Position'].value_counts()\n",
    "plt.figure(figsize=(8, 8))\n",
    "plt.pie(position_counts, labels=position_counts.index, autopct='%1.1f%%', startangle=140)\n",
    "plt.axis('equal')\n",
    "plt.title('Distribution of Players Across Different Positions')\n",
    "plt.show()"
   ]
  },
  {
   "cell_type": "markdown",
   "id": "ea9bcff6",
   "metadata": {},
   "source": [
    "#### 9. Team Analysis:\n",
    "\n",
    "- Display the average salary of players for each 'team'.\n",
    "\n",
    "- Plot a bar chart to visualize the average salary of players for each 'team'."
   ]
  },
  {
   "cell_type": "code",
   "execution_count": 46,
   "id": "4defb1b1",
   "metadata": {},
   "outputs": [
    {
     "name": "stdout",
     "output_type": "stream",
     "text": [
      "Team\n",
      "Golden State Warriors     6711293\n",
      "Los Angeles Clippers      6707636\n",
      "Cleveland Cavaliers       6381969\n",
      "Miami Heat                6213960\n",
      "Chicago Bulls             6105483\n",
      "Oklahoma City Thunder     5822521\n",
      "Toronto Raptors           5737712\n",
      "San Antonio Spurs         5408293\n",
      "New York Knicks           5270654\n",
      "Utah Jazz                 5225649\n",
      "Atlanta Hawks             5125754\n",
      "Sacramento Kings          4829759\n",
      "Milwaukee Bucks           4771039\n",
      "Dallas Mavericks          4761692\n",
      "Detroit Pistons           4477884\n",
      "Houston Rockets           4404132\n",
      "New Orleans Pelicans      4262525\n",
      "Denver Nuggets            4240885\n",
      "Washington Wizards        4008557\n",
      "Indiana Pacers            4004800\n",
      "Charlotte Hornets         3978124\n",
      "Memphis Grizzlies         3936743\n",
      "Orlando Magic             3788728\n",
      "Brooklyn Nets             3654086\n",
      "Phoenix Suns              3457318\n",
      "Boston Celtics            3388962\n",
      "Los Angeles Lakers        3270444\n",
      "Portland Trail Blazers    3220121\n",
      "Minnesota Timberwolves    2647292\n",
      "Philadelphia 76ers        2233888\n",
      "Name: Salary, dtype: int32\n"
     ]
    }
   ],
   "source": [
    "average_salary_by_team = df.groupby('Team')['Salary'].mean().astype(int).sort_values(ascending=False)\n",
    "\n",
    "print(average_salary_by_team)"
   ]
  },
  {
   "cell_type": "code",
   "execution_count": 47,
   "id": "f96fa663",
   "metadata": {
    "scrolled": false
   },
   "outputs": [
    {
     "data": {
      "image/png": "[encoded data removed]",
      "text/plain": [
       "<Figure size 1200x800 with 1 Axes>"
      ]
     },
     "metadata": {},
     "output_type": "display_data"
    }
   ],
   "source": [
    "plt.figure(figsize=(12, 8))\n",
    "average_salary_by_team.plot(kind='bar', color='red')\n",
    "plt.title('Average Salary of Players for Each Team')\n",
    "plt.xlabel('Team')\n",
    "plt.ylabel('Average Salary')\n",
    "plt.xticks(rotation=45)\n",
    "plt.show()"
   ]
  },
  {
   "cell_type": "markdown",
   "id": "c2b3134e",
   "metadata": {},
   "source": [
    "#### Observations for Pie Chart:\n",
    "\n",
    "**1. Distribution of Salary Spending:** The pie chart represents the distribution of total average salaries across all NBA teams. It allows for a quick visual comparison of the relative spending of each team in relation to the total.\n",
    "\n",
    "**2. Top Spending Teams:** The pie chart highlights the top spending teams such as the Golden State Warriors, Los Angeles Clippers, and Cleveland Cavaliers, showcasing their relatively higher allocation of resources towards player salaries.\n",
    "\n",
    "**3. Concentrated Spending:** A few teams appear to account for a substantial portion of the total salary spending, while the majority of teams contribute smaller proportions to the overall pie.\n",
    "\n",
    "#### Observations for Bar Chart:\n",
    "\n",
    "**1. Salary Disparities:** The bar chart provides a detailed comparison of the average salaries of players for each NBA team. It illustrates the considerable differences in salary spending across the league, with some teams notably investing significantly more in player salaries compared to others.\n",
    "\n",
    "**2. High vs. Low Spenders:** The chart allows for clear identification of high-spending teams like the Golden State Warriors and Los Angeles Clippers, as well as lower-spending teams such as the Philadelphia 76ers and Minnesota Timberwolves.\n",
    "\n",
    "**3. Financial Strategies:** It indicates variations in the financial strategies of different teams and their willingness to invest in player salaries, potentially reflecting their competitiveness or financial objectives."
   ]
  },
  {
   "cell_type": "markdown",
   "id": "bb8d0453",
   "metadata": {},
   "source": [
    "#### 10. Extras\n",
    "\n",
    "\n",
    "- Get the index at which the minimum weight value is present.\n"
   ]
  },
  {
   "cell_type": "code",
   "execution_count": 48,
   "id": "2f01fd25",
   "metadata": {},
   "outputs": [
    {
     "name": "stdout",
     "output_type": "stream",
     "text": [
      "161\n"
     ]
    }
   ],
   "source": [
    "min_weight = df['Weight'].min()\n",
    "print(min_weight)"
   ]
  },
  {
   "cell_type": "code",
   "execution_count": 49,
   "id": "81ee7cdd",
   "metadata": {},
   "outputs": [
    {
     "name": "stdout",
     "output_type": "stream",
     "text": [
      "152\n"
     ]
    }
   ],
   "source": [
    "min_weight_index = df['Weight'].idxmin(axis=0)\n",
    "print(min_weight_index)"
   ]
  },
  {
   "cell_type": "markdown",
   "id": "73f609dc",
   "metadata": {},
   "source": [
    "- Sort values based on name in alphabetical order for the rows (the original Dataframe sorting should not change)"
   ]
  },
  {
   "cell_type": "code",
   "execution_count": 50,
   "id": "b05ed9bb",
   "metadata": {},
   "outputs": [
    {
     "data": {
      "text/html": [
       "<div>\n",
       "<style scoped>\n",
       "    .dataframe tbody tr th:only-of-type {\n",
       "        vertical-align: middle;\n",
       "    }\n",
       "\n",
       "    .dataframe tbody tr th {\n",
       "        vertical-align: top;\n",
       "    }\n",
       "\n",
       "    .dataframe thead th {\n",
       "        text-align: right;\n",
       "    }\n",
       "</style>\n",
       "<table border=\"1\" class=\"dataframe\">\n",
       "  <thead>\n",
       "    <tr style=\"text-align: right;\">\n",
       "      <th></th>\n",
       "      <th>Name</th>\n",
       "      <th>Team</th>\n",
       "      <th>Number</th>\n",
       "      <th>Position</th>\n",
       "      <th>Age</th>\n",
       "      <th>Weight</th>\n",
       "      <th>College</th>\n",
       "      <th>Salary</th>\n",
       "      <th>BMI</th>\n",
       "    </tr>\n",
       "  </thead>\n",
       "  <tbody>\n",
       "    <tr>\n",
       "      <th>152</th>\n",
       "      <td>Aaron Brooks</td>\n",
       "      <td>Chicago Bulls</td>\n",
       "      <td>0</td>\n",
       "      <td>PG</td>\n",
       "      <td>31</td>\n",
       "      <td>161</td>\n",
       "      <td>Oregon</td>\n",
       "      <td>2250000.0</td>\n",
       "      <td>23.098571</td>\n",
       "    </tr>\n",
       "    <tr>\n",
       "      <th>356</th>\n",
       "      <td>Aaron Gordon</td>\n",
       "      <td>Orlando Magic</td>\n",
       "      <td>0</td>\n",
       "      <td>PF</td>\n",
       "      <td>20</td>\n",
       "      <td>220</td>\n",
       "      <td>Arizona</td>\n",
       "      <td>4171680.0</td>\n",
       "      <td>31.563265</td>\n",
       "    </tr>\n",
       "    <tr>\n",
       "      <th>328</th>\n",
       "      <td>Aaron Harrison</td>\n",
       "      <td>Charlotte Hornets</td>\n",
       "      <td>9</td>\n",
       "      <td>SG</td>\n",
       "      <td>21</td>\n",
       "      <td>210</td>\n",
       "      <td>Kentucky</td>\n",
       "      <td>525093.0</td>\n",
       "      <td>30.128571</td>\n",
       "    </tr>\n",
       "    <tr>\n",
       "      <th>404</th>\n",
       "      <td>Adreian Payne</td>\n",
       "      <td>Minnesota Timberwolves</td>\n",
       "      <td>33</td>\n",
       "      <td>PF</td>\n",
       "      <td>25</td>\n",
       "      <td>237</td>\n",
       "      <td>Michigan State</td>\n",
       "      <td>1938840.0</td>\n",
       "      <td>34.002245</td>\n",
       "    </tr>\n",
       "    <tr>\n",
       "      <th>312</th>\n",
       "      <td>Al Horford</td>\n",
       "      <td>Atlanta Hawks</td>\n",
       "      <td>15</td>\n",
       "      <td>C</td>\n",
       "      <td>30</td>\n",
       "      <td>245</td>\n",
       "      <td>Florida</td>\n",
       "      <td>12000000.0</td>\n",
       "      <td>35.150000</td>\n",
       "    </tr>\n",
       "    <tr>\n",
       "      <th>...</th>\n",
       "      <td>...</td>\n",
       "      <td>...</td>\n",
       "      <td>...</td>\n",
       "      <td>...</td>\n",
       "      <td>...</td>\n",
       "      <td>...</td>\n",
       "      <td>...</td>\n",
       "      <td>...</td>\n",
       "      <td>...</td>\n",
       "    </tr>\n",
       "    <tr>\n",
       "      <th>25</th>\n",
       "      <td>Willie Reed</td>\n",
       "      <td>Brooklyn Nets</td>\n",
       "      <td>33</td>\n",
       "      <td>PF</td>\n",
       "      <td>26</td>\n",
       "      <td>220</td>\n",
       "      <td>Saint Louis</td>\n",
       "      <td>947276.0</td>\n",
       "      <td>31.563265</td>\n",
       "    </tr>\n",
       "    <tr>\n",
       "      <th>386</th>\n",
       "      <td>Wilson Chandler</td>\n",
       "      <td>Denver Nuggets</td>\n",
       "      <td>21</td>\n",
       "      <td>SF</td>\n",
       "      <td>29</td>\n",
       "      <td>225</td>\n",
       "      <td>DePaul</td>\n",
       "      <td>10449438.0</td>\n",
       "      <td>32.280612</td>\n",
       "    </tr>\n",
       "    <tr>\n",
       "      <th>270</th>\n",
       "      <td>Xavier Munford</td>\n",
       "      <td>Memphis Grizzlies</td>\n",
       "      <td>14</td>\n",
       "      <td>PG</td>\n",
       "      <td>24</td>\n",
       "      <td>180</td>\n",
       "      <td>Rhode Island</td>\n",
       "      <td>2515440.0</td>\n",
       "      <td>25.824490</td>\n",
       "    </tr>\n",
       "    <tr>\n",
       "      <th>402</th>\n",
       "      <td>Zach LaVine</td>\n",
       "      <td>Minnesota Timberwolves</td>\n",
       "      <td>8</td>\n",
       "      <td>PG</td>\n",
       "      <td>21</td>\n",
       "      <td>189</td>\n",
       "      <td>UCLA</td>\n",
       "      <td>2148360.0</td>\n",
       "      <td>27.115714</td>\n",
       "    </tr>\n",
       "    <tr>\n",
       "      <th>271</th>\n",
       "      <td>Zach Randolph</td>\n",
       "      <td>Memphis Grizzlies</td>\n",
       "      <td>50</td>\n",
       "      <td>PF</td>\n",
       "      <td>34</td>\n",
       "      <td>260</td>\n",
       "      <td>Michigan State</td>\n",
       "      <td>9638555.0</td>\n",
       "      <td>37.302041</td>\n",
       "    </tr>\n",
       "  </tbody>\n",
       "</table>\n",
       "<p>373 rows × 9 columns</p>\n",
       "</div>"
      ],
      "text/plain": [
       "                Name                    Team  Number Position  Age  Weight  \\\n",
       "152     Aaron Brooks           Chicago Bulls       0       PG   31     161   \n",
       "356     Aaron Gordon           Orlando Magic       0       PF   20     220   \n",
       "328   Aaron Harrison       Charlotte Hornets       9       SG   21     210   \n",
       "404    Adreian Payne  Minnesota Timberwolves      33       PF   25     237   \n",
       "312       Al Horford           Atlanta Hawks      15        C   30     245   \n",
       "..               ...                     ...     ...      ...  ...     ...   \n",
       "25       Willie Reed           Brooklyn Nets      33       PF   26     220   \n",
       "386  Wilson Chandler          Denver Nuggets      21       SF   29     225   \n",
       "270   Xavier Munford       Memphis Grizzlies      14       PG   24     180   \n",
       "402      Zach LaVine  Minnesota Timberwolves       8       PG   21     189   \n",
       "271    Zach Randolph       Memphis Grizzlies      50       PF   34     260   \n",
       "\n",
       "            College      Salary        BMI  \n",
       "152          Oregon   2250000.0  23.098571  \n",
       "356         Arizona   4171680.0  31.563265  \n",
       "328        Kentucky    525093.0  30.128571  \n",
       "404  Michigan State   1938840.0  34.002245  \n",
       "312         Florida  12000000.0  35.150000  \n",
       "..              ...         ...        ...  \n",
       "25      Saint Louis    947276.0  31.563265  \n",
       "386          DePaul  10449438.0  32.280612  \n",
       "270    Rhode Island   2515440.0  25.824490  \n",
       "402            UCLA   2148360.0  27.115714  \n",
       "271  Michigan State   9638555.0  37.302041  \n",
       "\n",
       "[373 rows x 9 columns]"
      ]
     },
     "execution_count": 50,
     "metadata": {},
     "output_type": "execute_result"
    }
   ],
   "source": [
    "sorted_df = df.sort_values('Name')\n",
    "pd.DataFrame(sorted_df)"
   ]
  },
  {
   "cell_type": "markdown",
   "id": "595fdf26",
   "metadata": {},
   "source": [
    "- Create a series from given dataframe on “name” column and display top and last 10"
   ]
  },
  {
   "cell_type": "code",
   "execution_count": 51,
   "id": "55cfa746",
   "metadata": {},
   "outputs": [],
   "source": [
    "name_series = df['Name']"
   ]
  },
  {
   "cell_type": "code",
   "execution_count": 52,
   "id": "4988afea",
   "metadata": {},
   "outputs": [
    {
     "name": "stdout",
     "output_type": "stream",
     "text": [
      "0       Avery Bradley\n",
      "1         Jae Crowder\n",
      "2        John Holland\n",
      "3         R.J. Hunter\n",
      "6       Jordan Mickey\n",
      "7        Kelly Olynyk\n",
      "8        Terry Rozier\n",
      "9        Marcus Smart\n",
      "10    Jared Sullinger\n",
      "11      Isaiah Thomas\n",
      "Name: Name, dtype: object\n"
     ]
    }
   ],
   "source": [
    "print(name_series.head(10))"
   ]
  },
  {
   "cell_type": "code",
   "execution_count": 53,
   "id": "f53b2969",
   "metadata": {},
   "outputs": [
    {
     "name": "stdout",
     "output_type": "stream",
     "text": [
      "442     Trevor Booker\n",
      "443        Trey Burke\n",
      "444        Alec Burks\n",
      "446    Derrick Favors\n",
      "448    Gordon Hayward\n",
      "449       Rodney Hood\n",
      "451     Chris Johnson\n",
      "452        Trey Lyles\n",
      "453      Shelvin Mack\n",
      "456       Jeff Withey\n",
      "Name: Name, dtype: object\n"
     ]
    }
   ],
   "source": [
    "print(name_series.tail(10))"
   ]
  }
 ],
 "metadata": {
  "kernelspec": {
   "display_name": "Python 3 (ipykernel)",
   "language": "python",
   "name": "python3"
  }
 },
 "nbformat": 4,
 "nbformat_minor": 5
}
