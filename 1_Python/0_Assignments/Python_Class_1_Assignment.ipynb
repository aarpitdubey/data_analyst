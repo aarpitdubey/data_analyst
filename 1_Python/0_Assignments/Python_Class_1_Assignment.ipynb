{
 "cells": [
  {
   "cell_type": "markdown",
   "id": "785042c2-73a4-4be7-9da2-e19a2852663c",
   "metadata": {},
   "source": [
    "# Python Class 1 Assignment\n",
    "\n",
    "## 1. String Replace\n",
    "\n",
    "The **string.replace()** method in Python replaces all occurrences of a specified \n",
    "substring with a new value. It does not replace just the first occurrence; \n",
    "rather, it replaces all instances found within the string.\n",
    "\n",
    "\n",
    "Here is the syntax for the **replace()** function in Python:\n",
    "\n",
    "```python\n",
    "string.replace(old, new, count)\n",
    "```\n",
    "\n",
    "**old:** The substring to be replaced.\n",
    "**new:** The new substring that will replace the occurrences of old.\n",
    "**count (optional):** The maximum number of occurrences to replace. If not \n",
    "specified, all occurrences will be replaced.\n",
    "\n",
    "\n",
    "If count is provided, the **replace()** method will replace the first count \n",
    "occurrences of the old substring with the new substring. If count is not \n",
    "provided, all occurrences of the old substring in the string will be \n",
    "replaced with the new substring."
   ]
  },
  {
   "cell_type": "code",
   "execution_count": 1,
   "id": "7ef662fa-1018-4923-be56-2e533f932e11",
   "metadata": {
    "tags": []
   },
   "outputs": [
    {
     "name": "stdout",
     "output_type": "stream",
     "text": [
      "Hello, hi, hi, world!\n"
     ]
    }
   ],
   "source": [
    "my_string = \"Hello, hello, hello, world!\"\n",
    "\n",
    "new_string = my_string.replace(\"hello\", \"hi\")\n",
    "\n",
    "print(new_string)"
   ]
  },
  {
   "cell_type": "code",
   "execution_count": 2,
   "id": "f93b48a5-969f-4f3a-b7b7-eadd28e42b91",
   "metadata": {
    "tags": []
   },
   "outputs": [
    {
     "name": "stdout",
     "output_type": "stream",
     "text": [
      "hi, hi, hi, world!\n"
     ]
    }
   ],
   "source": [
    "my_string = \"hello, hello, hello, world!\"\n",
    "\n",
    "new_string = my_string.replace(\"hello\", \"hi\")\n",
    "\n",
    "print(new_string)"
   ]
  },
  {
   "cell_type": "code",
   "execution_count": 3,
   "id": "65cbfa5a-06fa-43f1-82a0-218608467e7b",
   "metadata": {
    "tags": []
   },
   "outputs": [
    {
     "name": "stdout",
     "output_type": "stream",
     "text": [
      "hi, hi, hello, world!\n"
     ]
    }
   ],
   "source": [
    "my_string = \"hello, hello, hello, world!\"\n",
    "\n",
    "new_string = my_string.replace(\"hello\", \"hi\", 2)\n",
    "\n",
    "print(new_string)"
   ]
  },
  {
   "cell_type": "code",
   "execution_count": 4,
   "id": "606a904e-f742-483d-a7c0-bff09d82a1a9",
   "metadata": {
    "tags": []
   },
   "outputs": [
    {
     "name": "stdout",
     "output_type": "stream",
     "text": [
      "hi, hello, hello, world!\n"
     ]
    }
   ],
   "source": [
    "my_string = \"hello, hello, hello, world!\"\n",
    "\n",
    "new_string = my_string.replace(\"hello\", \"hi\", 1)\n",
    "\n",
    "print(new_string)"
   ]
  },
  {
   "cell_type": "markdown",
   "id": "a9216ee8-d751-4d31-b482-f69c988e6ee4",
   "metadata": {},
   "source": [
    "## Questions:\n",
    "\n",
    "### Q1: Given the following string, remove all the spaces using the replace() function.\n",
    "\n",
    "```python\n",
    "input_string = \"Hello, how are you doing?\"\n",
    "# Write code here to remove spaces from the string\n",
    "# Output should be: \"Hello,howareyoudoing?\"\n",
    "```"
   ]
  },
  {
   "cell_type": "code",
   "execution_count": 5,
   "id": "e73399c9-9ec8-4137-8bb9-374c337c686d",
   "metadata": {
    "tags": []
   },
   "outputs": [
    {
     "name": "stdout",
     "output_type": "stream",
     "text": [
      "Hello,howareyoudoing?\n"
     ]
    }
   ],
   "source": [
    "input_string = \"Hello, how are you doing?\"\n",
    "input_string = input_string.replace(\" \", \"\")\n",
    "print(input_string)"
   ]
  },
  {
   "cell_type": "markdown",
   "id": "33918c1e-94a7-478d-9a75-5148339ec44c",
   "metadata": {},
   "source": [
    "### Q2: Given a string with multiple occurrences of the word \"book,\" write a Python program to replace only the first two occurrences with \"notebook.\"\n",
    "\n",
    "```python\n",
    "input_string = \"I have a book, a pen, and another book in my bag and book.\"\n",
    "# Output should be: \"I have a notebook, a pen, and another notebook in my bag and book.\"\n",
    "```"
   ]
  },
  {
   "cell_type": "code",
   "execution_count": 6,
   "id": "223ec511-322f-4798-bd6b-1c355cc90cde",
   "metadata": {
    "tags": []
   },
   "outputs": [
    {
     "name": "stdout",
     "output_type": "stream",
     "text": [
      "I have a notebook, a pen, and another notebook in my bag and book.\n"
     ]
    }
   ],
   "source": [
    "input_string = \"I have a book, a pen, and another book in my bag and book.\"\n",
    "input_string = input_string.replace(\"book\", \"notebook\", 2)\n",
    "print(input_string)"
   ]
  },
  {
   "cell_type": "markdown",
   "id": "1932720b-8437-4066-8319-9d7fe47bccea",
   "metadata": {},
   "source": [
    "## 2. String len()\n",
    "\n",
    "- The **len()** function in Python is used to determine the length of a sequence, \n",
    "such as a string, list, tuple, or other iterable. It returns the number of \n",
    "elements present in the given sequence.\n",
    "\n",
    "\n",
    "### Q1. What happens when you pass an empty string to the len() function?"
   ]
  },
  {
   "cell_type": "code",
   "execution_count": 7,
   "id": "5535f9a9-2504-4de1-964d-a8e0061cc983",
   "metadata": {
    "tags": []
   },
   "outputs": [
    {
     "name": "stdout",
     "output_type": "stream",
     "text": [
      "0\n"
     ]
    }
   ],
   "source": [
    "input_string = \"\"\n",
    "length_input_string = len(input_string)\n",
    "print(length_input_string)"
   ]
  },
  {
   "cell_type": "markdown",
   "id": "d3a2196c-1daa-4ab9-bfd9-86a1eb521ad3",
   "metadata": {},
   "source": [
    "Hence, We can observe that whenever we pass a empty string to the **len()** function, it will always return 0 since the length of an empty string is zero."
   ]
  },
  {
   "cell_type": "markdown",
   "id": "9397e317-590f-41e4-9b13-ef63484f606f",
   "metadata": {},
   "source": [
    "### Q2. How len() works in case of multi-line string?\n"
   ]
  },
  {
   "cell_type": "code",
   "execution_count": 8,
   "id": "5fb2783a-7517-494c-b0d6-1c7812176d14",
   "metadata": {
    "tags": []
   },
   "outputs": [
    {
     "name": "stdout",
     "output_type": "stream",
     "text": [
      "87\n"
     ]
    }
   ],
   "source": [
    "doctype = \"\"\"\n",
    "This is a multi-line string\n",
    "presented by Arpit Dubey\n",
    "and spans across\n",
    "multiple lines.\n",
    "\"\"\"\n",
    "\n",
    "length_of_doctype = len(doctype)\n",
    "print(length_of_doctype)"
   ]
  },
  {
   "cell_type": "markdown",
   "id": "8b40a5c2-cbd1-4b22-b62c-873368c0a856",
   "metadata": {},
   "source": [
    "- **len()** function works the same way for multi-line strings as it does for single-line strings. It returns the number of characters in the string, including newline characters (\\n) for each line break."
   ]
  },
  {
   "cell_type": "markdown",
   "id": "6520815c-1924-4b81-81f5-d7e864add97b",
   "metadata": {},
   "source": [
    "## 3. String\n",
    "\n",
    "### Q1: Can you concatenate strings and variables in Python? If yes, how?"
   ]
  },
  {
   "cell_type": "code",
   "execution_count": 9,
   "id": "cc8de241-c4a0-451a-90ad-e71ace50f49d",
   "metadata": {
    "tags": []
   },
   "outputs": [
    {
     "name": "stdout",
     "output_type": "stream",
     "text": [
      "Hello, Arpit Dubey!\n"
     ]
    }
   ],
   "source": [
    "name = \"Arpit Dubey\"\n",
    "message = \"Hello, \"+name+\"!\"\n",
    "print(message)"
   ]
  },
  {
   "cell_type": "code",
   "execution_count": 10,
   "id": "c667c0b0-ecdc-4322-9a74-a6780262b967",
   "metadata": {
    "tags": []
   },
   "outputs": [
    {
     "ename": "TypeError",
     "evalue": "can only concatenate str (not \"int\") to str",
     "output_type": "error",
     "traceback": [
      "\u001b[1;31m---------------------------------------------------------------------------\u001b[0m",
      "\u001b[1;31mTypeError\u001b[0m                                 Traceback (most recent call last)",
      "Cell \u001b[1;32mIn[10], line 3\u001b[0m\n\u001b[0;32m      1\u001b[0m name        \u001b[38;5;241m=\u001b[39m \u001b[38;5;124m\"\u001b[39m\u001b[38;5;124mArpit Dubey\u001b[39m\u001b[38;5;124m\"\u001b[39m\n\u001b[0;32m      2\u001b[0m roll_number \u001b[38;5;241m=\u001b[39m \u001b[38;5;241m7\u001b[39m\n\u001b[1;32m----> 3\u001b[0m message     \u001b[38;5;241m=\u001b[39m \u001b[38;5;124;43m\"\u001b[39;49m\u001b[38;5;124;43mHello, \u001b[39;49m\u001b[38;5;124;43m\"\u001b[39;49m\u001b[38;5;241;43m+\u001b[39;49m\u001b[43mname\u001b[49m\u001b[38;5;241;43m+\u001b[39;49m\u001b[38;5;124;43m\"\u001b[39;49m\u001b[38;5;124;43m!\u001b[39;49m\u001b[38;5;124;43m\"\u001b[39;49m\u001b[38;5;241;43m+\u001b[39;49m\u001b[38;5;124;43m\"\u001b[39;49m\u001b[38;5;124;43m. My roll number is\u001b[39;49m\u001b[38;5;124;43m\"\u001b[39;49m\u001b[38;5;241;43m+\u001b[39;49m\u001b[43mroll_number\u001b[49m\u001b[38;5;241m+\u001b[39m\u001b[38;5;124m\"\u001b[39m\u001b[38;5;124m.\u001b[39m\u001b[38;5;124m\"\u001b[39m\n\u001b[0;32m      4\u001b[0m \u001b[38;5;28mprint\u001b[39m(message)\n",
      "\u001b[1;31mTypeError\u001b[0m: can only concatenate str (not \"int\") to str"
     ]
    }
   ],
   "source": [
    "name        = \"Arpit Dubey\"\n",
    "roll_number = 7\n",
    "message     = \"Hello, \"+name+\"!\"+\". My roll number is\"+roll_number+\".\"\n",
    "print(message)"
   ]
  },
  {
   "cell_type": "code",
   "execution_count": 11,
   "id": "66a0139c-931b-43f3-bdff-6d215c924bf2",
   "metadata": {
    "tags": []
   },
   "outputs": [
    {
     "name": "stdout",
     "output_type": "stream",
     "text": [
      "Hello, Arpit Dubey!. My roll number is 7.\n"
     ]
    }
   ],
   "source": [
    "name        = \"Arpit Dubey\"\n",
    "roll_number = 7\n",
    "message     = \"Hello, \"+name+\"!\"+\". My roll number is \"+str(roll_number)+\".\"\n",
    "print(message)"
   ]
  },
  {
   "cell_type": "markdown",
   "id": "1084313c-79c9-41f6-ac42-72f59a100473",
   "metadata": {},
   "source": [
    "- Yes, we can concatenate string and variables in python using the `+` operator but only if the data type of the data is string otherwise we have to convert it to string data type using **str()** function."
   ]
  },
  {
   "cell_type": "markdown",
   "id": "126a6062-fb26-4fd1-8173-52a0c5420f45",
   "metadata": {},
   "source": [
    "### Q2: How do you format strings in Python to include variables or expressions?"
   ]
  },
  {
   "cell_type": "code",
   "execution_count": 12,
   "id": "31206208-92a8-491f-969b-2683e30ed95a",
   "metadata": {
    "tags": []
   },
   "outputs": [
    {
     "name": "stdout",
     "output_type": "stream",
     "text": [
      "My name is Arpit and I am 28 years old.\n"
     ]
    }
   ],
   "source": [
    "name    = \"Arpit\"\n",
    "age     = 28\n",
    "message = f\"My name is {name} and I am {age} years old.\"\n",
    "print(message)"
   ]
  },
  {
   "cell_type": "code",
   "execution_count": 13,
   "id": "2839ec9b-1c8e-4cae-bca8-0071591c3d0c",
   "metadata": {
    "tags": []
   },
   "outputs": [
    {
     "name": "stdout",
     "output_type": "stream",
     "text": [
      "My name is Arpit and I am 28 years old.\n"
     ]
    }
   ],
   "source": [
    "name    = \"Arpit\"\n",
    "age     = 28\n",
    "message = \"My name is {name} and I am {age} years old.\"\n",
    "print(message.format(name=name, age=age))"
   ]
  },
  {
   "cell_type": "markdown",
   "id": "8aaede95-fcc9-4363-94a9-803036a5a7cd",
   "metadata": {},
   "source": [
    "### Q3: Input- abcd and Output- A_b_c_d"
   ]
  },
  {
   "cell_type": "code",
   "execution_count": 14,
   "id": "dc1088ad-8544-46c6-bb5f-8546de8a6528",
   "metadata": {
    "tags": []
   },
   "outputs": [
    {
     "name": "stdout",
     "output_type": "stream",
     "text": [
      "A_b_c_d\n"
     ]
    }
   ],
   "source": [
    "input_string  = \"abcd\"\n",
    "input_string  = input_string.capitalize()\n",
    "output_string = \"_\".join(input_string)\n",
    "print(output_string)"
   ]
  },
  {
   "cell_type": "markdown",
   "id": "5b95e519-2864-4710-a819-e08aad485015",
   "metadata": {},
   "source": [
    "### Q4. How can you limit the number of splits using the maxsplit parameter?"
   ]
  },
  {
   "cell_type": "code",
   "execution_count": 15,
   "id": "11bf54a0-77ec-4cfd-a3a6-f068d7b39dc8",
   "metadata": {
    "tags": []
   },
   "outputs": [
    {
     "name": "stdout",
     "output_type": "stream",
     "text": [
      "['10', '20', '30 40 50']\n"
     ]
    }
   ],
   "source": [
    "input_string   = \"10 20 30 40 50\"\n",
    "limited_splits = input_string.split(\" \", 2)\n",
    "print(limited_splits)"
   ]
  }
 ],
 "metadata": {
  "kernelspec": {
   "display_name": "Python 3 (ipykernel)",
   "language": "python",
   "name": "python3"
  },
  "language_info": {
   "codemirror_mode": {
    "name": "ipython",
    "version": 3
   },
   "file_extension": ".py",
   "mimetype": "text/x-python",
   "name": "python",
   "nbconvert_exporter": "python",
   "pygments_lexer": "ipython3",
   "version": "3.11.3"
  }
 },
 "nbformat": 4,
 "nbformat_minor": 5
}
