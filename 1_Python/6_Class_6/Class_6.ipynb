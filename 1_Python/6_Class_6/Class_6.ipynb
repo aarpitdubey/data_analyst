{
 "cells": [
  {
   "cell_type": "markdown",
   "id": "0c4726d2",
   "metadata": {},
   "source": [
    "## Searching and Sorting"
   ]
  },
  {
   "cell_type": "code",
   "execution_count": 1,
   "id": "42222d79",
   "metadata": {},
   "outputs": [],
   "source": [
    "numbers = [4, 2, 7, 1, 9, 5]"
   ]
  },
  {
   "cell_type": "code",
   "execution_count": 2,
   "id": "2c55f812",
   "metadata": {},
   "outputs": [
    {
     "data": {
      "text/plain": [
       "2"
      ]
     },
     "execution_count": 2,
     "metadata": {},
     "output_type": "execute_result"
    }
   ],
   "source": [
    "numbers.index(7)"
   ]
  },
  {
   "cell_type": "code",
   "execution_count": 3,
   "id": "22b9ea12",
   "metadata": {},
   "outputs": [
    {
     "name": "stdout",
     "output_type": "stream",
     "text": [
      "5 is in the list\n"
     ]
    }
   ],
   "source": [
    "if 7 in numbers:\n",
    "    print(\"5 is in the list\")"
   ]
  },
  {
   "cell_type": "code",
   "execution_count": 4,
   "id": "b1c0a195",
   "metadata": {},
   "outputs": [
    {
     "data": {
      "text/plain": [
       "[1, 2, 4, 5, 7, 9]"
      ]
     },
     "execution_count": 4,
     "metadata": {},
     "output_type": "execute_result"
    }
   ],
   "source": [
    "sorted(numbers)"
   ]
  },
  {
   "cell_type": "code",
   "execution_count": 5,
   "id": "8c9000a7",
   "metadata": {},
   "outputs": [
    {
     "data": {
      "text/plain": [
       "[4, 2, 7, 1, 9, 5]"
      ]
     },
     "execution_count": 5,
     "metadata": {},
     "output_type": "execute_result"
    }
   ],
   "source": [
    "numbers # hence after sorted() function numbers are not sorted permanently"
   ]
  },
  {
   "cell_type": "code",
   "execution_count": 6,
   "id": "d6982f14",
   "metadata": {},
   "outputs": [],
   "source": [
    "numbers.sort()"
   ]
  },
  {
   "cell_type": "code",
   "execution_count": 7,
   "id": "3929173c",
   "metadata": {},
   "outputs": [
    {
     "data": {
      "text/plain": [
       "[1, 2, 4, 5, 7, 9]"
      ]
     },
     "execution_count": 7,
     "metadata": {},
     "output_type": "execute_result"
    }
   ],
   "source": [
    "numbers # now, the numbers list is permanently sorted using list.sort() function"
   ]
  },
  {
   "cell_type": "code",
   "execution_count": 8,
   "id": "7607567b",
   "metadata": {},
   "outputs": [
    {
     "data": {
      "text/plain": [
       "[9, 7, 5, 4, 2, 1]"
      ]
     },
     "execution_count": 8,
     "metadata": {},
     "output_type": "execute_result"
    }
   ],
   "source": [
    "sorted(numbers, reverse=True) # sort in reverse order"
   ]
  },
  {
   "cell_type": "markdown",
   "id": "099e63be",
   "metadata": {},
   "source": [
    "## input() function\n",
    "\n",
    "- input() function use to take the input from user"
   ]
  },
  {
   "cell_type": "code",
   "execution_count": 9,
   "id": "f73cf4d3",
   "metadata": {},
   "outputs": [
    {
     "name": "stdout",
     "output_type": "stream",
     "text": [
      "My name is Arpit\n"
     ]
    }
   ],
   "source": [
    "name = \"Arpit\"\n",
    "\n",
    "print(f\"My name is {name}\")"
   ]
  },
  {
   "cell_type": "code",
   "execution_count": 10,
   "id": "6a18b785",
   "metadata": {},
   "outputs": [
    {
     "name": "stdout",
     "output_type": "stream",
     "text": [
      "Please enter your name: Arpit\n",
      "Hello, Arpit! Welcome to the program.\n"
     ]
    }
   ],
   "source": [
    "name = input(\"Please enter your name: \")\n",
    "print(\"Hello, \" + name + \"! Welcome to the program.\")"
   ]
  },
  {
   "cell_type": "markdown",
   "id": "108d5a43",
   "metadata": {},
   "source": [
    "#### String formatting in python"
   ]
  },
  {
   "cell_type": "code",
   "execution_count": 11,
   "id": "3e54cd99",
   "metadata": {},
   "outputs": [],
   "source": [
    "name = 'Alice'\n",
    "age = 30"
   ]
  },
  {
   "cell_type": "code",
   "execution_count": 12,
   "id": "1c7277d3",
   "metadata": {},
   "outputs": [
    {
     "data": {
      "text/plain": [
       "'My name is Alice and I am 30 years old.'"
      ]
     },
     "execution_count": 12,
     "metadata": {},
     "output_type": "execute_result"
    }
   ],
   "source": [
    "message = \"My name is \" + name + \" and I am \" + str(age) + \" years old.\"\n",
    "message"
   ]
  },
  {
   "cell_type": "code",
   "execution_count": 13,
   "id": "3cdcd860",
   "metadata": {},
   "outputs": [
    {
     "data": {
      "text/plain": [
       "'My name is Alice and I am 30 years old.'"
      ]
     },
     "execution_count": 13,
     "metadata": {},
     "output_type": "execute_result"
    }
   ],
   "source": [
    "message = \"My name is {} and I am {} years old.\".format(name, age)\n",
    "message"
   ]
  },
  {
   "cell_type": "code",
   "execution_count": 14,
   "id": "b684e3f3",
   "metadata": {},
   "outputs": [
    {
     "name": "stdout",
     "output_type": "stream",
     "text": [
      "[ True False  True]\n",
      "bool\n"
     ]
    }
   ],
   "source": [
    "import numpy as np\n",
    "\n",
    "arr = np.array([1, 0, 3])\n",
    "\n",
    "newarr = arr.astype(bool)\n",
    "\n",
    "print(newarr)\n",
    "print(newarr.dtype)"
   ]
  },
  {
   "cell_type": "markdown",
   "id": "944eae94",
   "metadata": {},
   "source": [
    "#### Inheritance"
   ]
  },
  {
   "cell_type": "code",
   "execution_count": 15,
   "id": "d6cd8a13-cf52-440c-b020-55bac73b2c08",
   "metadata": {
    "tags": []
   },
   "outputs": [],
   "source": [
    "class Vehicle:\n",
    "    def __init__(self, make, model):\n",
    "        self.make  = make\n",
    "        self.model = model\n",
    "        \n",
    "    def display_info(self):\n",
    "        return f\"This is a {self.make} {self.model}.\""
   ]
  },
  {
   "cell_type": "code",
   "execution_count": 16,
   "id": "e165e1b7-7be8-48dc-a4a5-1bbba12dc60a",
   "metadata": {
    "tags": []
   },
   "outputs": [],
   "source": [
    "class car(Vehicle):\n",
    "    def drive(self):\n",
    "        return \"car is driving\""
   ]
  },
  {
   "cell_type": "code",
   "execution_count": 17,
   "id": "8a4fdb91-8c5b-4106-a965-25e10d4af51f",
   "metadata": {
    "tags": []
   },
   "outputs": [],
   "source": [
    "class Motorcycle(Vehicle):\n",
    "    def ride(self):\n",
    "        return \"Motorcycle is riding\""
   ]
  },
  {
   "cell_type": "code",
   "execution_count": 18,
   "id": "9663304a-88e8-4d8c-8102-73e19bb7646d",
   "metadata": {
    "tags": []
   },
   "outputs": [],
   "source": [
    "c = car(\"Toyota\", \"Camry\")"
   ]
  },
  {
   "cell_type": "code",
   "execution_count": 19,
   "id": "d02e493a-2f4d-4fbb-9ff8-1bc3502f1dbf",
   "metadata": {
    "tags": []
   },
   "outputs": [
    {
     "data": {
      "text/plain": [
       "'car is driving'"
      ]
     },
     "execution_count": 19,
     "metadata": {},
     "output_type": "execute_result"
    }
   ],
   "source": [
    "c.drive()"
   ]
  },
  {
   "cell_type": "code",
   "execution_count": 20,
   "id": "8b4858d9-c4d7-4720-b3b0-6bf419cd7b88",
   "metadata": {
    "tags": []
   },
   "outputs": [
    {
     "data": {
      "text/plain": [
       "'This is a Toyota Camry.'"
      ]
     },
     "execution_count": 20,
     "metadata": {},
     "output_type": "execute_result"
    }
   ],
   "source": [
    "c.display_info()"
   ]
  },
  {
   "cell_type": "code",
   "execution_count": 21,
   "id": "cd85afa5-46dd-4e8b-99ea-d66fb5eff65f",
   "metadata": {
    "tags": []
   },
   "outputs": [
    {
     "name": "stdout",
     "output_type": "stream",
     "text": [
      "This is a Harley-Davidson Sportster.\n"
     ]
    }
   ],
   "source": [
    "m = Motorcycle(\"Harley-Davidson\", \"Sportster\")\n",
    "print(m.display_info())"
   ]
  },
  {
   "cell_type": "code",
   "execution_count": 22,
   "id": "dbe815f5-f4ce-4dbc-ba5c-7274bb7c4797",
   "metadata": {
    "tags": []
   },
   "outputs": [
    {
     "name": "stdout",
     "output_type": "stream",
     "text": [
      "Motorcycle is riding\n"
     ]
    }
   ],
   "source": [
    "print(m.ride())"
   ]
  },
  {
   "cell_type": "markdown",
   "id": "be1f67e3",
   "metadata": {},
   "source": [
    "#### Access Modifiers - Public, Private(__, double underscore) and Protected(_, single underscore)\n",
    "\n",
    "- private can only be used within the class\n",
    "\n",
    "- protected can be used within class and it's sub-classes"
   ]
  },
  {
   "cell_type": "code",
   "execution_count": 23,
   "id": "c59b8277-3475-40ca-841e-6acb60643433",
   "metadata": {},
   "outputs": [],
   "source": [
    "class Person:\n",
    "    def __init__(self, name, age):\n",
    "        self.name = name           # public\n",
    "        self._age = age            # protected\n",
    "        self.__bank_balance = 0    # private\n",
    "        \n",
    "    def get_bankbalance(self):\n",
    "        return self.__bank_balance\n",
    "    \n",
    "    def get_age(age):\n",
    "        return age"
   ]
  },
  {
   "cell_type": "code",
   "execution_count": 24,
   "id": "0a29fea3-9833-42f9-98e3-05e511a2ce45",
   "metadata": {
    "tags": []
   },
   "outputs": [],
   "source": [
    "employee = Person(\"Arpit\", 28)"
   ]
  },
  {
   "cell_type": "code",
   "execution_count": 25,
   "id": "e2f61872-15ce-4e6a-8afc-e730519c2c10",
   "metadata": {
    "tags": []
   },
   "outputs": [
    {
     "name": "stdout",
     "output_type": "stream",
     "text": [
      "Arpit\n"
     ]
    }
   ],
   "source": [
    "print(employee.name)"
   ]
  },
  {
   "cell_type": "code",
   "execution_count": 26,
   "id": "620abed2-e2de-4008-a308-a3ffabb8039d",
   "metadata": {
    "tags": []
   },
   "outputs": [
    {
     "name": "stdout",
     "output_type": "stream",
     "text": [
      "<__main__.Person object at 0x000001EF0EC0ABD0>\n"
     ]
    }
   ],
   "source": [
    "print(employee.get_age())"
   ]
  },
  {
   "cell_type": "code",
   "execution_count": 27,
   "id": "e3811a71-ec40-437a-a77a-491331da8828",
   "metadata": {},
   "outputs": [
    {
     "ename": "AttributeError",
     "evalue": "'Person' object has no attribute '__bank_balance'",
     "output_type": "error",
     "traceback": [
      "\u001b[1;31m---------------------------------------------------------------------------\u001b[0m",
      "\u001b[1;31mAttributeError\u001b[0m                            Traceback (most recent call last)",
      "Cell \u001b[1;32mIn[27], line 1\u001b[0m\n\u001b[1;32m----> 1\u001b[0m \u001b[38;5;28mprint\u001b[39m(\u001b[43memployee\u001b[49m\u001b[38;5;241;43m.\u001b[39;49m\u001b[43m__bank_balance\u001b[49m)\n",
      "\u001b[1;31mAttributeError\u001b[0m: 'Person' object has no attribute '__bank_balance'"
     ]
    }
   ],
   "source": [
    "print(employee.__bank_balance)"
   ]
  },
  {
   "cell_type": "code",
   "execution_count": 28,
   "id": "47aee0eb-1479-4dae-a13a-67f38175fc33",
   "metadata": {},
   "outputs": [
    {
     "name": "stdout",
     "output_type": "stream",
     "text": [
      "0\n"
     ]
    }
   ],
   "source": [
    "print(employee.get_bankbalance())"
   ]
  },
  {
   "cell_type": "code",
   "execution_count": 29,
   "id": "685b98cc",
   "metadata": {},
   "outputs": [],
   "source": [
    "import pandas as pd\n",
    "\n",
    "data = {\n",
    "    'Category': ['A', 'A', 'B', 'B', 'A', 'B'],\n",
    "    'Value': [10, 15, 20, 30, 25, 35]\n",
    "}\n",
    "\n",
    "df = pd.DataFrame(data) "
   ]
  },
  {
   "cell_type": "code",
   "execution_count": 30,
   "id": "40323eb6",
   "metadata": {},
   "outputs": [
    {
     "data": {
      "text/html": [
       "<div>\n",
       "<style scoped>\n",
       "    .dataframe tbody tr th:only-of-type {\n",
       "        vertical-align: middle;\n",
       "    }\n",
       "\n",
       "    .dataframe tbody tr th {\n",
       "        vertical-align: top;\n",
       "    }\n",
       "\n",
       "    .dataframe thead th {\n",
       "        text-align: right;\n",
       "    }\n",
       "</style>\n",
       "<table border=\"1\" class=\"dataframe\">\n",
       "  <thead>\n",
       "    <tr style=\"text-align: right;\">\n",
       "      <th></th>\n",
       "      <th>Category</th>\n",
       "      <th>Value</th>\n",
       "    </tr>\n",
       "  </thead>\n",
       "  <tbody>\n",
       "    <tr>\n",
       "      <th>0</th>\n",
       "      <td>A</td>\n",
       "      <td>10</td>\n",
       "    </tr>\n",
       "    <tr>\n",
       "      <th>1</th>\n",
       "      <td>A</td>\n",
       "      <td>15</td>\n",
       "    </tr>\n",
       "    <tr>\n",
       "      <th>2</th>\n",
       "      <td>B</td>\n",
       "      <td>20</td>\n",
       "    </tr>\n",
       "    <tr>\n",
       "      <th>3</th>\n",
       "      <td>B</td>\n",
       "      <td>30</td>\n",
       "    </tr>\n",
       "    <tr>\n",
       "      <th>4</th>\n",
       "      <td>A</td>\n",
       "      <td>25</td>\n",
       "    </tr>\n",
       "    <tr>\n",
       "      <th>5</th>\n",
       "      <td>B</td>\n",
       "      <td>35</td>\n",
       "    </tr>\n",
       "  </tbody>\n",
       "</table>\n",
       "</div>"
      ],
      "text/plain": [
       "  Category  Value\n",
       "0        A     10\n",
       "1        A     15\n",
       "2        B     20\n",
       "3        B     30\n",
       "4        A     25\n",
       "5        B     35"
      ]
     },
     "execution_count": 30,
     "metadata": {},
     "output_type": "execute_result"
    }
   ],
   "source": [
    "df"
   ]
  },
  {
   "cell_type": "code",
   "execution_count": 31,
   "id": "95cb5e21",
   "metadata": {},
   "outputs": [],
   "source": [
    "d = df.groupby('Category')['Value'].transform('mean')"
   ]
  },
  {
   "cell_type": "code",
   "execution_count": 32,
   "id": "014f0e49",
   "metadata": {},
   "outputs": [
    {
     "name": "stdout",
     "output_type": "stream",
     "text": [
      "  Category  Value  Mean_Value\n",
      "0        A     10   16.666667\n",
      "1        A     15   16.666667\n",
      "2        B     20   28.333333\n",
      "3        B     30   28.333333\n",
      "4        A     25   16.666667\n",
      "5        B     35   28.333333\n"
     ]
    }
   ],
   "source": [
    "df['Mean_Value'] = d\n",
    "\n",
    "print(df)"
   ]
  },
  {
   "cell_type": "markdown",
   "id": "d4188c7e",
   "metadata": {},
   "source": [
    "#### Enumerate"
   ]
  },
  {
   "cell_type": "code",
   "execution_count": 33,
   "id": "b4291f03",
   "metadata": {},
   "outputs": [],
   "source": [
    "my_list = ['apple', 'banana', 'orange', 'grape']"
   ]
  },
  {
   "cell_type": "code",
   "execution_count": 34,
   "id": "47242a29",
   "metadata": {},
   "outputs": [
    {
     "name": "stdout",
     "output_type": "stream",
     "text": [
      "Index: 0, Value: apple\n",
      "Index: 1, Value: banana\n",
      "Index: 2, Value: orange\n",
      "Index: 3, Value: grape\n"
     ]
    }
   ],
   "source": [
    "for index, value in enumerate(my_list):\n",
    "    print(f'Index: {index}, Value: {value}')"
   ]
  },
  {
   "cell_type": "code",
   "execution_count": 35,
   "id": "23de354b",
   "metadata": {},
   "outputs": [
    {
     "name": "stdout",
     "output_type": "stream",
     "text": [
      "Index: 1, Value: apple\n",
      "Index: 2, Value: banana\n",
      "Index: 3, Value: orange\n",
      "Index: 4, Value: grape\n"
     ]
    }
   ],
   "source": [
    "for index, value in enumerate(my_list, start=1):\n",
    "    print(f'Index: {index}, Value: {value}')"
   ]
  },
  {
   "cell_type": "code",
   "execution_count": 36,
   "id": "73384318",
   "metadata": {},
   "outputs": [
    {
     "name": "stdout",
     "output_type": "stream",
     "text": [
      "Original DataFrame:\n",
      "  Category  Value\n",
      "0        A      1\n",
      "1        A      2\n",
      "2        B      2\n",
      "3        B      3\n",
      "4        C      3\n",
      "5        C      4\n"
     ]
    }
   ],
   "source": [
    "import pandas as pd\n",
    "\n",
    "data = {\n",
    "    'Category': ['A', 'A', 'B', 'B', 'C', 'C'],\n",
    "    'Value': [1, 2, 2, 3, 3, 4]\n",
    "}\n",
    "\n",
    "df = pd.DataFrame(data)\n",
    "print('Original DataFrame:')\n",
    "print(df)"
   ]
  },
  {
   "cell_type": "code",
   "execution_count": 37,
   "id": "2fe0e119",
   "metadata": {},
   "outputs": [],
   "source": [
    "df_no_duplicates = df.drop_duplicates(subset='Value', keep='first')"
   ]
  },
  {
   "cell_type": "code",
   "execution_count": 38,
   "id": "3f39077a",
   "metadata": {},
   "outputs": [
    {
     "data": {
      "text/html": [
       "<div>\n",
       "<style scoped>\n",
       "    .dataframe tbody tr th:only-of-type {\n",
       "        vertical-align: middle;\n",
       "    }\n",
       "\n",
       "    .dataframe tbody tr th {\n",
       "        vertical-align: top;\n",
       "    }\n",
       "\n",
       "    .dataframe thead th {\n",
       "        text-align: right;\n",
       "    }\n",
       "</style>\n",
       "<table border=\"1\" class=\"dataframe\">\n",
       "  <thead>\n",
       "    <tr style=\"text-align: right;\">\n",
       "      <th></th>\n",
       "      <th>Category</th>\n",
       "      <th>Value</th>\n",
       "    </tr>\n",
       "  </thead>\n",
       "  <tbody>\n",
       "    <tr>\n",
       "      <th>0</th>\n",
       "      <td>A</td>\n",
       "      <td>1</td>\n",
       "    </tr>\n",
       "    <tr>\n",
       "      <th>1</th>\n",
       "      <td>A</td>\n",
       "      <td>2</td>\n",
       "    </tr>\n",
       "    <tr>\n",
       "      <th>3</th>\n",
       "      <td>B</td>\n",
       "      <td>3</td>\n",
       "    </tr>\n",
       "    <tr>\n",
       "      <th>5</th>\n",
       "      <td>C</td>\n",
       "      <td>4</td>\n",
       "    </tr>\n",
       "  </tbody>\n",
       "</table>\n",
       "</div>"
      ],
      "text/plain": [
       "  Category  Value\n",
       "0        A      1\n",
       "1        A      2\n",
       "3        B      3\n",
       "5        C      4"
      ]
     },
     "execution_count": 38,
     "metadata": {},
     "output_type": "execute_result"
    }
   ],
   "source": [
    "df_no_duplicates"
   ]
  }
 ],
 "metadata": {
  "kernelspec": {
   "display_name": "Python 3 (ipykernel)",
   "language": "python",
   "name": "python3"
  },
  "language_info": {
   "codemirror_mode": {
    "name": "ipython",
    "version": 3
   },
   "file_extension": ".py",
   "mimetype": "text/x-python",
   "name": "python",
   "nbconvert_exporter": "python",
   "pygments_lexer": "ipython3",
   "version": "3.11.3"
  }
 },
 "nbformat": 4,
 "nbformat_minor": 5
}
