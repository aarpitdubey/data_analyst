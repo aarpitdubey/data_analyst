{
 "cells": [
  {
   "cell_type": "markdown",
   "id": "c99853fe",
   "metadata": {},
   "source": [
    "# Assignment 6\n",
    "\n",
    "\n",
    "\n",
    "## PANDAS \n",
    "\n",
    "\n",
    "### Q1- Create a Pandas Data frame from the given data and create a new column “Voter” based on voter age, i.e., if age >18 then voter column should be “Yes” otherwise if age <18 then voter column should be “No”\n",
    "\n",
    "```python\n",
    "raw_Data = {'Voter_name': ['Geek1', 'Geek2', 'Geek3', 'Geek4',\n",
    "'Geek5', 'Geek6', 'Geek7', 'Geek8'],\n",
    "'Voter_age': [15, 23, 25, 9, 67, 54, 42, np.NaN]}\n",
    "```"
   ]
  },
  {
   "cell_type": "markdown",
   "id": "bfc644ea",
   "metadata": {},
   "source": [
    "#### Import Libraries"
   ]
  },
  {
   "cell_type": "code",
   "execution_count": 1,
   "id": "9a26f55e",
   "metadata": {},
   "outputs": [],
   "source": [
    "import pandas as pd\n",
    "import numpy as np\n",
    "import warnings\n",
    "warnings.filterwarnings(\"ignore\") # To ignore unnecessary warnings"
   ]
  },
  {
   "cell_type": "code",
   "execution_count": 2,
   "id": "57ce5ae3",
   "metadata": {},
   "outputs": [
    {
     "data": {
      "text/html": [
       "<div>\n",
       "<style scoped>\n",
       "    .dataframe tbody tr th:only-of-type {\n",
       "        vertical-align: middle;\n",
       "    }\n",
       "\n",
       "    .dataframe tbody tr th {\n",
       "        vertical-align: top;\n",
       "    }\n",
       "\n",
       "    .dataframe thead th {\n",
       "        text-align: right;\n",
       "    }\n",
       "</style>\n",
       "<table border=\"1\" class=\"dataframe\">\n",
       "  <thead>\n",
       "    <tr style=\"text-align: right;\">\n",
       "      <th></th>\n",
       "      <th>Voter_name</th>\n",
       "      <th>Voter_age</th>\n",
       "    </tr>\n",
       "  </thead>\n",
       "  <tbody>\n",
       "    <tr>\n",
       "      <th>0</th>\n",
       "      <td>Geek1</td>\n",
       "      <td>15.0</td>\n",
       "    </tr>\n",
       "    <tr>\n",
       "      <th>1</th>\n",
       "      <td>Geek2</td>\n",
       "      <td>23.0</td>\n",
       "    </tr>\n",
       "    <tr>\n",
       "      <th>2</th>\n",
       "      <td>Geek3</td>\n",
       "      <td>25.0</td>\n",
       "    </tr>\n",
       "    <tr>\n",
       "      <th>3</th>\n",
       "      <td>Geek4</td>\n",
       "      <td>9.0</td>\n",
       "    </tr>\n",
       "    <tr>\n",
       "      <th>4</th>\n",
       "      <td>Geek5</td>\n",
       "      <td>67.0</td>\n",
       "    </tr>\n",
       "    <tr>\n",
       "      <th>5</th>\n",
       "      <td>Geek6</td>\n",
       "      <td>54.0</td>\n",
       "    </tr>\n",
       "    <tr>\n",
       "      <th>6</th>\n",
       "      <td>Geek7</td>\n",
       "      <td>42.0</td>\n",
       "    </tr>\n",
       "    <tr>\n",
       "      <th>7</th>\n",
       "      <td>Geek8</td>\n",
       "      <td>NaN</td>\n",
       "    </tr>\n",
       "  </tbody>\n",
       "</table>\n",
       "</div>"
      ],
      "text/plain": [
       "  Voter_name  Voter_age\n",
       "0      Geek1       15.0\n",
       "1      Geek2       23.0\n",
       "2      Geek3       25.0\n",
       "3      Geek4        9.0\n",
       "4      Geek5       67.0\n",
       "5      Geek6       54.0\n",
       "6      Geek7       42.0\n",
       "7      Geek8        NaN"
      ]
     },
     "execution_count": 2,
     "metadata": {},
     "output_type": "execute_result"
    }
   ],
   "source": [
    "raw_Data = {'Voter_name': ['Geek1', 'Geek2', 'Geek3', 'Geek4',\n",
    "'Geek5', 'Geek6', 'Geek7', 'Geek8'],\n",
    "'Voter_age': [15, 23, 25, 9, 67, 54, 42, np.NaN]}\n",
    "\n",
    "df = pd.DataFrame(raw_Data) # convert dictionary raw_Data into a Data Frame.\n",
    "\n",
    "df"
   ]
  },
  {
   "cell_type": "markdown",
   "id": "ab185541",
   "metadata": {},
   "source": [
    "#### Handling Missing Values"
   ]
  },
  {
   "cell_type": "code",
   "execution_count": 3,
   "id": "e7c3e63a",
   "metadata": {},
   "outputs": [
    {
     "name": "stdout",
     "output_type": "stream",
     "text": [
      "<class 'pandas.core.frame.DataFrame'>\n",
      "RangeIndex: 8 entries, 0 to 7\n",
      "Data columns (total 2 columns):\n",
      " #   Column      Non-Null Count  Dtype  \n",
      "---  ------      --------------  -----  \n",
      " 0   Voter_name  8 non-null      object \n",
      " 1   Voter_age   7 non-null      float64\n",
      "dtypes: float64(1), object(1)\n",
      "memory usage: 260.0+ bytes\n"
     ]
    }
   ],
   "source": [
    "df.info() # Check count of not-null values"
   ]
  },
  {
   "cell_type": "code",
   "execution_count": 4,
   "id": "af7db996",
   "metadata": {},
   "outputs": [
    {
     "data": {
      "text/html": [
       "<div>\n",
       "<style scoped>\n",
       "    .dataframe tbody tr th:only-of-type {\n",
       "        vertical-align: middle;\n",
       "    }\n",
       "\n",
       "    .dataframe tbody tr th {\n",
       "        vertical-align: top;\n",
       "    }\n",
       "\n",
       "    .dataframe thead th {\n",
       "        text-align: right;\n",
       "    }\n",
       "</style>\n",
       "<table border=\"1\" class=\"dataframe\">\n",
       "  <thead>\n",
       "    <tr style=\"text-align: right;\">\n",
       "      <th></th>\n",
       "      <th>Voter_name</th>\n",
       "      <th>Voter_age</th>\n",
       "    </tr>\n",
       "  </thead>\n",
       "  <tbody>\n",
       "    <tr>\n",
       "      <th>7</th>\n",
       "      <td>Geek8</td>\n",
       "      <td>NaN</td>\n",
       "    </tr>\n",
       "  </tbody>\n",
       "</table>\n",
       "</div>"
      ],
      "text/plain": [
       "  Voter_name  Voter_age\n",
       "7      Geek8        NaN"
      ]
     },
     "execution_count": 4,
     "metadata": {},
     "output_type": "execute_result"
    }
   ],
   "source": [
    "row_with_NaN = df[df['Voter_age'].isnull()] # finding the row with null values\n",
    "row_with_NaN"
   ]
  },
  {
   "cell_type": "markdown",
   "id": "07b53594",
   "metadata": {},
   "source": [
    "#### 1. DROP MISSING VALUE (or) NAN"
   ]
  },
  {
   "cell_type": "code",
   "execution_count": 5,
   "id": "620f6c35",
   "metadata": {},
   "outputs": [
    {
     "data": {
      "text/html": [
       "<div>\n",
       "<style scoped>\n",
       "    .dataframe tbody tr th:only-of-type {\n",
       "        vertical-align: middle;\n",
       "    }\n",
       "\n",
       "    .dataframe tbody tr th {\n",
       "        vertical-align: top;\n",
       "    }\n",
       "\n",
       "    .dataframe thead th {\n",
       "        text-align: right;\n",
       "    }\n",
       "</style>\n",
       "<table border=\"1\" class=\"dataframe\">\n",
       "  <thead>\n",
       "    <tr style=\"text-align: right;\">\n",
       "      <th></th>\n",
       "      <th>Voter_name</th>\n",
       "      <th>Voter_age</th>\n",
       "    </tr>\n",
       "  </thead>\n",
       "  <tbody>\n",
       "    <tr>\n",
       "      <th>0</th>\n",
       "      <td>Geek1</td>\n",
       "      <td>15.0</td>\n",
       "    </tr>\n",
       "    <tr>\n",
       "      <th>1</th>\n",
       "      <td>Geek2</td>\n",
       "      <td>23.0</td>\n",
       "    </tr>\n",
       "    <tr>\n",
       "      <th>2</th>\n",
       "      <td>Geek3</td>\n",
       "      <td>25.0</td>\n",
       "    </tr>\n",
       "    <tr>\n",
       "      <th>3</th>\n",
       "      <td>Geek4</td>\n",
       "      <td>9.0</td>\n",
       "    </tr>\n",
       "    <tr>\n",
       "      <th>4</th>\n",
       "      <td>Geek5</td>\n",
       "      <td>67.0</td>\n",
       "    </tr>\n",
       "    <tr>\n",
       "      <th>5</th>\n",
       "      <td>Geek6</td>\n",
       "      <td>54.0</td>\n",
       "    </tr>\n",
       "    <tr>\n",
       "      <th>6</th>\n",
       "      <td>Geek7</td>\n",
       "      <td>42.0</td>\n",
       "    </tr>\n",
       "  </tbody>\n",
       "</table>\n",
       "</div>"
      ],
      "text/plain": [
       "  Voter_name  Voter_age\n",
       "0      Geek1       15.0\n",
       "1      Geek2       23.0\n",
       "2      Geek3       25.0\n",
       "3      Geek4        9.0\n",
       "4      Geek5       67.0\n",
       "5      Geek6       54.0\n",
       "6      Geek7       42.0"
      ]
     },
     "execution_count": 5,
     "metadata": {},
     "output_type": "execute_result"
    }
   ],
   "source": [
    "df_droppedValue = df.dropna() # save the Data Frame after droping null values\n",
    "df_droppedValue"
   ]
  },
  {
   "cell_type": "code",
   "execution_count": 6,
   "id": "c016e9d2",
   "metadata": {},
   "outputs": [],
   "source": [
    "# Create a function for checking out the Voting_age is above 18 or below\n",
    "\n",
    "def voting_age(age):\n",
    "    if age > 18:\n",
    "        return 'Yes'\n",
    "    else:\n",
    "        return 'No'"
   ]
  },
  {
   "cell_type": "code",
   "execution_count": 7,
   "id": "3d9563b7",
   "metadata": {},
   "outputs": [
    {
     "data": {
      "text/html": [
       "<div>\n",
       "<style scoped>\n",
       "    .dataframe tbody tr th:only-of-type {\n",
       "        vertical-align: middle;\n",
       "    }\n",
       "\n",
       "    .dataframe tbody tr th {\n",
       "        vertical-align: top;\n",
       "    }\n",
       "\n",
       "    .dataframe thead th {\n",
       "        text-align: right;\n",
       "    }\n",
       "</style>\n",
       "<table border=\"1\" class=\"dataframe\">\n",
       "  <thead>\n",
       "    <tr style=\"text-align: right;\">\n",
       "      <th></th>\n",
       "      <th>Voter_name</th>\n",
       "      <th>Voter_age</th>\n",
       "      <th>Voter</th>\n",
       "    </tr>\n",
       "  </thead>\n",
       "  <tbody>\n",
       "    <tr>\n",
       "      <th>0</th>\n",
       "      <td>Geek1</td>\n",
       "      <td>15.0</td>\n",
       "      <td>No</td>\n",
       "    </tr>\n",
       "    <tr>\n",
       "      <th>1</th>\n",
       "      <td>Geek2</td>\n",
       "      <td>23.0</td>\n",
       "      <td>Yes</td>\n",
       "    </tr>\n",
       "    <tr>\n",
       "      <th>2</th>\n",
       "      <td>Geek3</td>\n",
       "      <td>25.0</td>\n",
       "      <td>Yes</td>\n",
       "    </tr>\n",
       "    <tr>\n",
       "      <th>3</th>\n",
       "      <td>Geek4</td>\n",
       "      <td>9.0</td>\n",
       "      <td>No</td>\n",
       "    </tr>\n",
       "    <tr>\n",
       "      <th>4</th>\n",
       "      <td>Geek5</td>\n",
       "      <td>67.0</td>\n",
       "      <td>Yes</td>\n",
       "    </tr>\n",
       "    <tr>\n",
       "      <th>5</th>\n",
       "      <td>Geek6</td>\n",
       "      <td>54.0</td>\n",
       "      <td>Yes</td>\n",
       "    </tr>\n",
       "    <tr>\n",
       "      <th>6</th>\n",
       "      <td>Geek7</td>\n",
       "      <td>42.0</td>\n",
       "      <td>Yes</td>\n",
       "    </tr>\n",
       "  </tbody>\n",
       "</table>\n",
       "</div>"
      ],
      "text/plain": [
       "  Voter_name  Voter_age Voter\n",
       "0      Geek1       15.0    No\n",
       "1      Geek2       23.0   Yes\n",
       "2      Geek3       25.0   Yes\n",
       "3      Geek4        9.0    No\n",
       "4      Geek5       67.0   Yes\n",
       "5      Geek6       54.0   Yes\n",
       "6      Geek7       42.0   Yes"
      ]
     },
     "execution_count": 7,
     "metadata": {},
     "output_type": "execute_result"
    }
   ],
   "source": [
    "# Creating another column 'Voter' to save Yes or No according to their age\n",
    "df_droppedValue['Voter'] = df_droppedValue['Voter_age'].apply(voting_age)\n",
    "df_droppedValue"
   ]
  },
  {
   "cell_type": "markdown",
   "id": "738e63df",
   "metadata": {},
   "source": [
    "#### 2. Impute Missing Value (or) NaN with the mean()"
   ]
  },
  {
   "cell_type": "code",
   "execution_count": 8,
   "id": "6204ecb2",
   "metadata": {},
   "outputs": [
    {
     "data": {
      "text/html": [
       "<div>\n",
       "<style scoped>\n",
       "    .dataframe tbody tr th:only-of-type {\n",
       "        vertical-align: middle;\n",
       "    }\n",
       "\n",
       "    .dataframe tbody tr th {\n",
       "        vertical-align: top;\n",
       "    }\n",
       "\n",
       "    .dataframe thead th {\n",
       "        text-align: right;\n",
       "    }\n",
       "</style>\n",
       "<table border=\"1\" class=\"dataframe\">\n",
       "  <thead>\n",
       "    <tr style=\"text-align: right;\">\n",
       "      <th></th>\n",
       "      <th>Voter_name</th>\n",
       "      <th>Voter_age</th>\n",
       "      <th>Voter</th>\n",
       "    </tr>\n",
       "  </thead>\n",
       "  <tbody>\n",
       "    <tr>\n",
       "      <th>0</th>\n",
       "      <td>Geek1</td>\n",
       "      <td>15.000000</td>\n",
       "      <td>No</td>\n",
       "    </tr>\n",
       "    <tr>\n",
       "      <th>1</th>\n",
       "      <td>Geek2</td>\n",
       "      <td>23.000000</td>\n",
       "      <td>Yes</td>\n",
       "    </tr>\n",
       "    <tr>\n",
       "      <th>2</th>\n",
       "      <td>Geek3</td>\n",
       "      <td>25.000000</td>\n",
       "      <td>Yes</td>\n",
       "    </tr>\n",
       "    <tr>\n",
       "      <th>3</th>\n",
       "      <td>Geek4</td>\n",
       "      <td>9.000000</td>\n",
       "      <td>No</td>\n",
       "    </tr>\n",
       "    <tr>\n",
       "      <th>4</th>\n",
       "      <td>Geek5</td>\n",
       "      <td>67.000000</td>\n",
       "      <td>Yes</td>\n",
       "    </tr>\n",
       "    <tr>\n",
       "      <th>5</th>\n",
       "      <td>Geek6</td>\n",
       "      <td>54.000000</td>\n",
       "      <td>Yes</td>\n",
       "    </tr>\n",
       "    <tr>\n",
       "      <th>6</th>\n",
       "      <td>Geek7</td>\n",
       "      <td>42.000000</td>\n",
       "      <td>Yes</td>\n",
       "    </tr>\n",
       "    <tr>\n",
       "      <th>7</th>\n",
       "      <td>Geek8</td>\n",
       "      <td>33.571429</td>\n",
       "      <td>Yes</td>\n",
       "    </tr>\n",
       "  </tbody>\n",
       "</table>\n",
       "</div>"
      ],
      "text/plain": [
       "  Voter_name  Voter_age Voter\n",
       "0      Geek1  15.000000    No\n",
       "1      Geek2  23.000000   Yes\n",
       "2      Geek3  25.000000   Yes\n",
       "3      Geek4   9.000000    No\n",
       "4      Geek5  67.000000   Yes\n",
       "5      Geek6  54.000000   Yes\n",
       "6      Geek7  42.000000   Yes\n",
       "7      Geek8  33.571429   Yes"
      ]
     },
     "execution_count": 8,
     "metadata": {},
     "output_type": "execute_result"
    }
   ],
   "source": [
    "# coping the data frame in other variable df_mean for experimentation impute with mean() \n",
    "df_mean = df\n",
    "mean_age = df_mean['Voter_age'].mean()\n",
    "\n",
    "# fill the null value (or) missing value with the median value\n",
    "df_mean['Voter_age'] = df_mean['Voter_age'].fillna(mean_age)\n",
    "\n",
    "# Creating another column 'Voter' to save Yes or No according to their age\n",
    "df_mean['Voter'] = df_mean['Voter_age'].apply(voting_age)\n",
    "df_mean"
   ]
  },
  {
   "cell_type": "markdown",
   "id": "349369ad",
   "metadata": {},
   "source": [
    "#### 3. Impute Missing Value (or) NaN with median()"
   ]
  },
  {
   "cell_type": "code",
   "execution_count": 9,
   "id": "2e6c259d",
   "metadata": {},
   "outputs": [
    {
     "data": {
      "text/html": [
       "<div>\n",
       "<style scoped>\n",
       "    .dataframe tbody tr th:only-of-type {\n",
       "        vertical-align: middle;\n",
       "    }\n",
       "\n",
       "    .dataframe tbody tr th {\n",
       "        vertical-align: top;\n",
       "    }\n",
       "\n",
       "    .dataframe thead th {\n",
       "        text-align: right;\n",
       "    }\n",
       "</style>\n",
       "<table border=\"1\" class=\"dataframe\">\n",
       "  <thead>\n",
       "    <tr style=\"text-align: right;\">\n",
       "      <th></th>\n",
       "      <th>Voter_name</th>\n",
       "      <th>Voter_age</th>\n",
       "      <th>Voter</th>\n",
       "    </tr>\n",
       "  </thead>\n",
       "  <tbody>\n",
       "    <tr>\n",
       "      <th>0</th>\n",
       "      <td>Geek1</td>\n",
       "      <td>15.000000</td>\n",
       "      <td>No</td>\n",
       "    </tr>\n",
       "    <tr>\n",
       "      <th>1</th>\n",
       "      <td>Geek2</td>\n",
       "      <td>23.000000</td>\n",
       "      <td>Yes</td>\n",
       "    </tr>\n",
       "    <tr>\n",
       "      <th>2</th>\n",
       "      <td>Geek3</td>\n",
       "      <td>25.000000</td>\n",
       "      <td>Yes</td>\n",
       "    </tr>\n",
       "    <tr>\n",
       "      <th>3</th>\n",
       "      <td>Geek4</td>\n",
       "      <td>9.000000</td>\n",
       "      <td>No</td>\n",
       "    </tr>\n",
       "    <tr>\n",
       "      <th>4</th>\n",
       "      <td>Geek5</td>\n",
       "      <td>67.000000</td>\n",
       "      <td>Yes</td>\n",
       "    </tr>\n",
       "    <tr>\n",
       "      <th>5</th>\n",
       "      <td>Geek6</td>\n",
       "      <td>54.000000</td>\n",
       "      <td>Yes</td>\n",
       "    </tr>\n",
       "    <tr>\n",
       "      <th>6</th>\n",
       "      <td>Geek7</td>\n",
       "      <td>42.000000</td>\n",
       "      <td>Yes</td>\n",
       "    </tr>\n",
       "    <tr>\n",
       "      <th>7</th>\n",
       "      <td>Geek8</td>\n",
       "      <td>33.571429</td>\n",
       "      <td>Yes</td>\n",
       "    </tr>\n",
       "  </tbody>\n",
       "</table>\n",
       "</div>"
      ],
      "text/plain": [
       "  Voter_name  Voter_age Voter\n",
       "0      Geek1  15.000000    No\n",
       "1      Geek2  23.000000   Yes\n",
       "2      Geek3  25.000000   Yes\n",
       "3      Geek4   9.000000    No\n",
       "4      Geek5  67.000000   Yes\n",
       "5      Geek6  54.000000   Yes\n",
       "6      Geek7  42.000000   Yes\n",
       "7      Geek8  33.571429   Yes"
      ]
     },
     "execution_count": 9,
     "metadata": {},
     "output_type": "execute_result"
    }
   ],
   "source": [
    "# coping the data frame in other variable df_median for experimentation impute with median() \n",
    "df_median = df\n",
    "median_age = df_median['Voter_age'].median()\n",
    "\n",
    "# fill the null value (or) missing value with the median value\n",
    "df_median['Voter_age'] = df_median['Voter_age'].fillna(median_age)\n",
    "\n",
    "# Creating another column 'Voter' to save Yes or No according to their age\n",
    "df_median['Voter'] = df_median['Voter_age'].apply(voting_age)\n",
    "df_median"
   ]
  },
  {
   "cell_type": "markdown",
   "id": "e9f2380e",
   "metadata": {},
   "source": [
    "### Q2 – Create a Pandas Data frame from the given data and collapse First and Last column into one column as Full Name, so the output contains Full Name and Age, then convert column age to index\n",
    "\n",
    "```python\n",
    "raw_Data = {'First': ['Manan ', 'Raghav ', 'Sunny '],\n",
    "'Last': ['Goel', 'Sharma', 'Chawla'],\n",
    "'Age' : [12, 24, 56]}\n",
    "```"
   ]
  },
  {
   "cell_type": "markdown",
   "id": "ca1ffd99",
   "metadata": {},
   "source": [
    "#### Step 1: Creating DataFrame()"
   ]
  },
  {
   "cell_type": "code",
   "execution_count": 10,
   "id": "1f849d89",
   "metadata": {},
   "outputs": [
    {
     "data": {
      "text/html": [
       "<div>\n",
       "<style scoped>\n",
       "    .dataframe tbody tr th:only-of-type {\n",
       "        vertical-align: middle;\n",
       "    }\n",
       "\n",
       "    .dataframe tbody tr th {\n",
       "        vertical-align: top;\n",
       "    }\n",
       "\n",
       "    .dataframe thead th {\n",
       "        text-align: right;\n",
       "    }\n",
       "</style>\n",
       "<table border=\"1\" class=\"dataframe\">\n",
       "  <thead>\n",
       "    <tr style=\"text-align: right;\">\n",
       "      <th></th>\n",
       "      <th>First</th>\n",
       "      <th>Last</th>\n",
       "      <th>Age</th>\n",
       "    </tr>\n",
       "  </thead>\n",
       "  <tbody>\n",
       "    <tr>\n",
       "      <th>0</th>\n",
       "      <td>Manan</td>\n",
       "      <td>Goel</td>\n",
       "      <td>12</td>\n",
       "    </tr>\n",
       "    <tr>\n",
       "      <th>1</th>\n",
       "      <td>Raghav</td>\n",
       "      <td>Sharma</td>\n",
       "      <td>24</td>\n",
       "    </tr>\n",
       "    <tr>\n",
       "      <th>2</th>\n",
       "      <td>Sunny</td>\n",
       "      <td>Chawla</td>\n",
       "      <td>56</td>\n",
       "    </tr>\n",
       "  </tbody>\n",
       "</table>\n",
       "</div>"
      ],
      "text/plain": [
       "     First    Last  Age\n",
       "0   Manan     Goel   12\n",
       "1  Raghav   Sharma   24\n",
       "2   Sunny   Chawla   56"
      ]
     },
     "execution_count": 10,
     "metadata": {},
     "output_type": "execute_result"
    }
   ],
   "source": [
    "raw_Data = {'First': ['Manan ', 'Raghav ', 'Sunny '],\n",
    "'Last': ['Goel', 'Sharma', 'Chawla'],\n",
    "'Age' : [12, 24, 56]}\n",
    "\n",
    "df = pd.DataFrame(raw_Data)\n",
    "\n",
    "df"
   ]
  },
  {
   "cell_type": "markdown",
   "id": "9a1d968f",
   "metadata": {},
   "source": [
    "#### Step 2: Checking Null values (or) Missing values"
   ]
  },
  {
   "cell_type": "code",
   "execution_count": 11,
   "id": "2f8ea428",
   "metadata": {},
   "outputs": [
    {
     "name": "stdout",
     "output_type": "stream",
     "text": [
      "<class 'pandas.core.frame.DataFrame'>\n",
      "RangeIndex: 3 entries, 0 to 2\n",
      "Data columns (total 3 columns):\n",
      " #   Column  Non-Null Count  Dtype \n",
      "---  ------  --------------  ----- \n",
      " 0   First   3 non-null      object\n",
      " 1   Last    3 non-null      object\n",
      " 2   Age     3 non-null      int64 \n",
      "dtypes: int64(1), object(2)\n",
      "memory usage: 204.0+ bytes\n"
     ]
    }
   ],
   "source": [
    "df.info()"
   ]
  },
  {
   "cell_type": "code",
   "execution_count": 12,
   "id": "a2a85a76",
   "metadata": {},
   "outputs": [
    {
     "data": {
      "text/plain": [
       "First    0\n",
       "Last     0\n",
       "Age      0\n",
       "dtype: int64"
      ]
     },
     "execution_count": 12,
     "metadata": {},
     "output_type": "execute_result"
    }
   ],
   "source": [
    "df.isnull().sum()"
   ]
  },
  {
   "cell_type": "markdown",
   "id": "8866b2a7",
   "metadata": {},
   "source": [
    "#### Step 3: Collapse columns 'First' and 'Last' into new column 'Full Name'"
   ]
  },
  {
   "cell_type": "code",
   "execution_count": 13,
   "id": "1233de35",
   "metadata": {},
   "outputs": [
    {
     "data": {
      "text/html": [
       "<div>\n",
       "<style scoped>\n",
       "    .dataframe tbody tr th:only-of-type {\n",
       "        vertical-align: middle;\n",
       "    }\n",
       "\n",
       "    .dataframe tbody tr th {\n",
       "        vertical-align: top;\n",
       "    }\n",
       "\n",
       "    .dataframe thead th {\n",
       "        text-align: right;\n",
       "    }\n",
       "</style>\n",
       "<table border=\"1\" class=\"dataframe\">\n",
       "  <thead>\n",
       "    <tr style=\"text-align: right;\">\n",
       "      <th></th>\n",
       "      <th>First</th>\n",
       "      <th>Last</th>\n",
       "      <th>Age</th>\n",
       "      <th>Full Name</th>\n",
       "    </tr>\n",
       "  </thead>\n",
       "  <tbody>\n",
       "    <tr>\n",
       "      <th>0</th>\n",
       "      <td>Manan</td>\n",
       "      <td>Goel</td>\n",
       "      <td>12</td>\n",
       "      <td>Manan  Goel</td>\n",
       "    </tr>\n",
       "    <tr>\n",
       "      <th>1</th>\n",
       "      <td>Raghav</td>\n",
       "      <td>Sharma</td>\n",
       "      <td>24</td>\n",
       "      <td>Raghav  Sharma</td>\n",
       "    </tr>\n",
       "    <tr>\n",
       "      <th>2</th>\n",
       "      <td>Sunny</td>\n",
       "      <td>Chawla</td>\n",
       "      <td>56</td>\n",
       "      <td>Sunny  Chawla</td>\n",
       "    </tr>\n",
       "  </tbody>\n",
       "</table>\n",
       "</div>"
      ],
      "text/plain": [
       "     First    Last  Age       Full Name\n",
       "0   Manan     Goel   12     Manan  Goel\n",
       "1  Raghav   Sharma   24  Raghav  Sharma\n",
       "2   Sunny   Chawla   56   Sunny  Chawla"
      ]
     },
     "execution_count": 13,
     "metadata": {},
     "output_type": "execute_result"
    }
   ],
   "source": [
    "df['Full Name'] = df['First'] + ' ' + df['Last']\n",
    "\n",
    "df"
   ]
  },
  {
   "cell_type": "markdown",
   "id": "7a4a7673",
   "metadata": {},
   "source": [
    "#### Step 4: Drop the columns 'First' and 'Last' (they are of no use)"
   ]
  },
  {
   "cell_type": "code",
   "execution_count": 14,
   "id": "56dc6cc1",
   "metadata": {},
   "outputs": [
    {
     "data": {
      "text/html": [
       "<div>\n",
       "<style scoped>\n",
       "    .dataframe tbody tr th:only-of-type {\n",
       "        vertical-align: middle;\n",
       "    }\n",
       "\n",
       "    .dataframe tbody tr th {\n",
       "        vertical-align: top;\n",
       "    }\n",
       "\n",
       "    .dataframe thead th {\n",
       "        text-align: right;\n",
       "    }\n",
       "</style>\n",
       "<table border=\"1\" class=\"dataframe\">\n",
       "  <thead>\n",
       "    <tr style=\"text-align: right;\">\n",
       "      <th></th>\n",
       "      <th>Age</th>\n",
       "      <th>Full Name</th>\n",
       "    </tr>\n",
       "  </thead>\n",
       "  <tbody>\n",
       "    <tr>\n",
       "      <th>0</th>\n",
       "      <td>12</td>\n",
       "      <td>Manan  Goel</td>\n",
       "    </tr>\n",
       "    <tr>\n",
       "      <th>1</th>\n",
       "      <td>24</td>\n",
       "      <td>Raghav  Sharma</td>\n",
       "    </tr>\n",
       "    <tr>\n",
       "      <th>2</th>\n",
       "      <td>56</td>\n",
       "      <td>Sunny  Chawla</td>\n",
       "    </tr>\n",
       "  </tbody>\n",
       "</table>\n",
       "</div>"
      ],
      "text/plain": [
       "   Age       Full Name\n",
       "0   12     Manan  Goel\n",
       "1   24  Raghav  Sharma\n",
       "2   56   Sunny  Chawla"
      ]
     },
     "execution_count": 14,
     "metadata": {},
     "output_type": "execute_result"
    }
   ],
   "source": [
    "df.drop(['First', 'Last'], axis=1, inplace=True)\n",
    "df"
   ]
  },
  {
   "cell_type": "markdown",
   "id": "75d85d5f",
   "metadata": {},
   "source": [
    "#### Step 5: Set column 'Age' as index"
   ]
  },
  {
   "cell_type": "code",
   "execution_count": 15,
   "id": "f9b9610b",
   "metadata": {},
   "outputs": [],
   "source": [
    "df.set_index('Age', inplace=True)"
   ]
  },
  {
   "cell_type": "code",
   "execution_count": 16,
   "id": "30999581",
   "metadata": {},
   "outputs": [
    {
     "data": {
      "text/html": [
       "<div>\n",
       "<style scoped>\n",
       "    .dataframe tbody tr th:only-of-type {\n",
       "        vertical-align: middle;\n",
       "    }\n",
       "\n",
       "    .dataframe tbody tr th {\n",
       "        vertical-align: top;\n",
       "    }\n",
       "\n",
       "    .dataframe thead th {\n",
       "        text-align: right;\n",
       "    }\n",
       "</style>\n",
       "<table border=\"1\" class=\"dataframe\">\n",
       "  <thead>\n",
       "    <tr style=\"text-align: right;\">\n",
       "      <th></th>\n",
       "      <th>Full Name</th>\n",
       "    </tr>\n",
       "    <tr>\n",
       "      <th>Age</th>\n",
       "      <th></th>\n",
       "    </tr>\n",
       "  </thead>\n",
       "  <tbody>\n",
       "    <tr>\n",
       "      <th>12</th>\n",
       "      <td>Manan  Goel</td>\n",
       "    </tr>\n",
       "    <tr>\n",
       "      <th>24</th>\n",
       "      <td>Raghav  Sharma</td>\n",
       "    </tr>\n",
       "    <tr>\n",
       "      <th>56</th>\n",
       "      <td>Sunny  Chawla</td>\n",
       "    </tr>\n",
       "  </tbody>\n",
       "</table>\n",
       "</div>"
      ],
      "text/plain": [
       "          Full Name\n",
       "Age                \n",
       "12      Manan  Goel\n",
       "24   Raghav  Sharma\n",
       "56    Sunny  Chawla"
      ]
     },
     "execution_count": 16,
     "metadata": {},
     "output_type": "execute_result"
    }
   ],
   "source": [
    "df"
   ]
  },
  {
   "cell_type": "markdown",
   "id": "fce0de3a",
   "metadata": {},
   "source": [
    "### Q3- Create a Pandas Data frame from the given data -\n",
    "\n",
    "```python\n",
    "raw_Data = {'Date':['10/2/2011', '11/2/2011', '12/2/2011', '13/2/2011'],\n",
    "'Product':['Umbrella', 'Matress', 'Badminton','Shuttle'],\n",
    "'Price':[1250, 1450, 1550, 400],\n",
    "'Expense': [ 21525220.653, 31125840.875, 23135428.768, 56245263.942]}\n",
    "```"
   ]
  },
  {
   "cell_type": "code",
   "execution_count": 17,
   "id": "75188e4a",
   "metadata": {},
   "outputs": [
    {
     "data": {
      "text/html": [
       "<div>\n",
       "<style scoped>\n",
       "    .dataframe tbody tr th:only-of-type {\n",
       "        vertical-align: middle;\n",
       "    }\n",
       "\n",
       "    .dataframe tbody tr th {\n",
       "        vertical-align: top;\n",
       "    }\n",
       "\n",
       "    .dataframe thead th {\n",
       "        text-align: right;\n",
       "    }\n",
       "</style>\n",
       "<table border=\"1\" class=\"dataframe\">\n",
       "  <thead>\n",
       "    <tr style=\"text-align: right;\">\n",
       "      <th></th>\n",
       "      <th>Date</th>\n",
       "      <th>Product</th>\n",
       "      <th>Price</th>\n",
       "      <th>Expense</th>\n",
       "    </tr>\n",
       "  </thead>\n",
       "  <tbody>\n",
       "    <tr>\n",
       "      <th>0</th>\n",
       "      <td>10/2/2011</td>\n",
       "      <td>Umbrella</td>\n",
       "      <td>1250</td>\n",
       "      <td>2.152522e+07</td>\n",
       "    </tr>\n",
       "    <tr>\n",
       "      <th>1</th>\n",
       "      <td>11/2/2011</td>\n",
       "      <td>Matress</td>\n",
       "      <td>1450</td>\n",
       "      <td>3.112584e+07</td>\n",
       "    </tr>\n",
       "    <tr>\n",
       "      <th>2</th>\n",
       "      <td>12/2/2011</td>\n",
       "      <td>Badminton</td>\n",
       "      <td>1550</td>\n",
       "      <td>2.313543e+07</td>\n",
       "    </tr>\n",
       "    <tr>\n",
       "      <th>3</th>\n",
       "      <td>13/2/2011</td>\n",
       "      <td>Shuttle</td>\n",
       "      <td>400</td>\n",
       "      <td>5.624526e+07</td>\n",
       "    </tr>\n",
       "  </tbody>\n",
       "</table>\n",
       "</div>"
      ],
      "text/plain": [
       "        Date    Product  Price       Expense\n",
       "0  10/2/2011   Umbrella   1250  2.152522e+07\n",
       "1  11/2/2011    Matress   1450  3.112584e+07\n",
       "2  12/2/2011  Badminton   1550  2.313543e+07\n",
       "3  13/2/2011    Shuttle    400  5.624526e+07"
      ]
     },
     "execution_count": 17,
     "metadata": {},
     "output_type": "execute_result"
    }
   ],
   "source": [
    "raw_Data = {'Date':['10/2/2011', '11/2/2011', '12/2/2011', '13/2/2011'],\n",
    "'Product':['Umbrella', 'Matress', 'Badminton','Shuttle'],\n",
    "'Price':[1250, 1450, 1550, 400],\n",
    "'Expense': [ 21525220.653, 31125840.875, 23135428.768, 56245263.942]}\n",
    "\n",
    "df = pd.DataFrame(raw_Data)\n",
    "\n",
    "df"
   ]
  },
  {
   "cell_type": "markdown",
   "id": "34ad35c2",
   "metadata": {},
   "source": [
    "#### a)  Add Index as Item1, Item2, Item3, Item4"
   ]
  },
  {
   "cell_type": "code",
   "execution_count": 18,
   "id": "eb902236",
   "metadata": {},
   "outputs": [
    {
     "data": {
      "text/html": [
       "<div>\n",
       "<style scoped>\n",
       "    .dataframe tbody tr th:only-of-type {\n",
       "        vertical-align: middle;\n",
       "    }\n",
       "\n",
       "    .dataframe tbody tr th {\n",
       "        vertical-align: top;\n",
       "    }\n",
       "\n",
       "    .dataframe thead th {\n",
       "        text-align: right;\n",
       "    }\n",
       "</style>\n",
       "<table border=\"1\" class=\"dataframe\">\n",
       "  <thead>\n",
       "    <tr style=\"text-align: right;\">\n",
       "      <th></th>\n",
       "      <th>Date</th>\n",
       "      <th>Product</th>\n",
       "      <th>Price</th>\n",
       "      <th>Expense</th>\n",
       "    </tr>\n",
       "  </thead>\n",
       "  <tbody>\n",
       "    <tr>\n",
       "      <th>Item1</th>\n",
       "      <td>10/2/2011</td>\n",
       "      <td>Umbrella</td>\n",
       "      <td>1250</td>\n",
       "      <td>2.152522e+07</td>\n",
       "    </tr>\n",
       "    <tr>\n",
       "      <th>Item2</th>\n",
       "      <td>11/2/2011</td>\n",
       "      <td>Matress</td>\n",
       "      <td>1450</td>\n",
       "      <td>3.112584e+07</td>\n",
       "    </tr>\n",
       "    <tr>\n",
       "      <th>Item3</th>\n",
       "      <td>12/2/2011</td>\n",
       "      <td>Badminton</td>\n",
       "      <td>1550</td>\n",
       "      <td>2.313543e+07</td>\n",
       "    </tr>\n",
       "    <tr>\n",
       "      <th>Item4</th>\n",
       "      <td>13/2/2011</td>\n",
       "      <td>Shuttle</td>\n",
       "      <td>400</td>\n",
       "      <td>5.624526e+07</td>\n",
       "    </tr>\n",
       "  </tbody>\n",
       "</table>\n",
       "</div>"
      ],
      "text/plain": [
       "            Date    Product  Price       Expense\n",
       "Item1  10/2/2011   Umbrella   1250  2.152522e+07\n",
       "Item2  11/2/2011    Matress   1450  3.112584e+07\n",
       "Item3  12/2/2011  Badminton   1550  2.313543e+07\n",
       "Item4  13/2/2011    Shuttle    400  5.624526e+07"
      ]
     },
     "execution_count": 18,
     "metadata": {},
     "output_type": "execute_result"
    }
   ],
   "source": [
    "# Add Index as Item1, Item2, Item3, Item4\n",
    "df.index = ['Item1', 'Item2', 'Item3', 'Item4']\n",
    "df"
   ]
  },
  {
   "cell_type": "markdown",
   "id": "53f91ffb",
   "metadata": {},
   "source": [
    "#### b)  Find the index labels of all items whose ‘Price’ is greater than 1000."
   ]
  },
  {
   "cell_type": "code",
   "execution_count": 19,
   "id": "c17b31cf",
   "metadata": {},
   "outputs": [
    {
     "data": {
      "text/plain": [
       "Index(['Item1', 'Item2', 'Item3'], dtype='object')"
      ]
     },
     "execution_count": 19,
     "metadata": {},
     "output_type": "execute_result"
    }
   ],
   "source": [
    "# Index labels of items whose ‘Price’ is greater than 1000\n",
    "high_price_items = df[df['Price'] > 1000].index\n",
    "\n",
    "high_price_items"
   ]
  },
  {
   "cell_type": "markdown",
   "id": "0a248bef",
   "metadata": {},
   "source": [
    "#### c) Replace products using Map() with respective codes- Umbrella : ‘U’, Matress : 'M', Badminton : 'B', Shuttle: 'S'"
   ]
  },
  {
   "cell_type": "code",
   "execution_count": 20,
   "id": "33f791a2",
   "metadata": {},
   "outputs": [
    {
     "data": {
      "text/html": [
       "<div>\n",
       "<style scoped>\n",
       "    .dataframe tbody tr th:only-of-type {\n",
       "        vertical-align: middle;\n",
       "    }\n",
       "\n",
       "    .dataframe tbody tr th {\n",
       "        vertical-align: top;\n",
       "    }\n",
       "\n",
       "    .dataframe thead th {\n",
       "        text-align: right;\n",
       "    }\n",
       "</style>\n",
       "<table border=\"1\" class=\"dataframe\">\n",
       "  <thead>\n",
       "    <tr style=\"text-align: right;\">\n",
       "      <th></th>\n",
       "      <th>Date</th>\n",
       "      <th>Product</th>\n",
       "      <th>Price</th>\n",
       "      <th>Expense</th>\n",
       "    </tr>\n",
       "  </thead>\n",
       "  <tbody>\n",
       "    <tr>\n",
       "      <th>Item1</th>\n",
       "      <td>10/2/2011</td>\n",
       "      <td>U</td>\n",
       "      <td>1250</td>\n",
       "      <td>2.152522e+07</td>\n",
       "    </tr>\n",
       "    <tr>\n",
       "      <th>Item2</th>\n",
       "      <td>11/2/2011</td>\n",
       "      <td>M</td>\n",
       "      <td>1450</td>\n",
       "      <td>3.112584e+07</td>\n",
       "    </tr>\n",
       "    <tr>\n",
       "      <th>Item3</th>\n",
       "      <td>12/2/2011</td>\n",
       "      <td>B</td>\n",
       "      <td>1550</td>\n",
       "      <td>2.313543e+07</td>\n",
       "    </tr>\n",
       "    <tr>\n",
       "      <th>Item4</th>\n",
       "      <td>13/2/2011</td>\n",
       "      <td>S</td>\n",
       "      <td>400</td>\n",
       "      <td>5.624526e+07</td>\n",
       "    </tr>\n",
       "  </tbody>\n",
       "</table>\n",
       "</div>"
      ],
      "text/plain": [
       "            Date Product  Price       Expense\n",
       "Item1  10/2/2011       U   1250  2.152522e+07\n",
       "Item2  11/2/2011       M   1450  3.112584e+07\n",
       "Item3  12/2/2011       B   1550  2.313543e+07\n",
       "Item4  13/2/2011       S    400  5.624526e+07"
      ]
     },
     "execution_count": 20,
     "metadata": {},
     "output_type": "execute_result"
    }
   ],
   "source": [
    "# Replace products using Map() with respective codes\n",
    "product_map = {'Umbrella': 'U', 'Matress': 'M', 'Badminton': 'B', 'Shuttle': 'S'}\n",
    "df['Product'] = df['Product'].map(product_map)\n",
    "df"
   ]
  },
  {
   "cell_type": "markdown",
   "id": "05245e8a",
   "metadata": {},
   "source": [
    "#### d) Round off the Expense column values to two decimal places."
   ]
  },
  {
   "cell_type": "code",
   "execution_count": 21,
   "id": "946ddd1b",
   "metadata": {},
   "outputs": [
    {
     "data": {
      "text/html": [
       "<div>\n",
       "<style scoped>\n",
       "    .dataframe tbody tr th:only-of-type {\n",
       "        vertical-align: middle;\n",
       "    }\n",
       "\n",
       "    .dataframe tbody tr th {\n",
       "        vertical-align: top;\n",
       "    }\n",
       "\n",
       "    .dataframe thead th {\n",
       "        text-align: right;\n",
       "    }\n",
       "</style>\n",
       "<table border=\"1\" class=\"dataframe\">\n",
       "  <thead>\n",
       "    <tr style=\"text-align: right;\">\n",
       "      <th></th>\n",
       "      <th>Date</th>\n",
       "      <th>Product</th>\n",
       "      <th>Price</th>\n",
       "      <th>Expense</th>\n",
       "    </tr>\n",
       "  </thead>\n",
       "  <tbody>\n",
       "    <tr>\n",
       "      <th>Item1</th>\n",
       "      <td>10/2/2011</td>\n",
       "      <td>U</td>\n",
       "      <td>1250</td>\n",
       "      <td>21525220.65</td>\n",
       "    </tr>\n",
       "    <tr>\n",
       "      <th>Item2</th>\n",
       "      <td>11/2/2011</td>\n",
       "      <td>M</td>\n",
       "      <td>1450</td>\n",
       "      <td>31125840.88</td>\n",
       "    </tr>\n",
       "    <tr>\n",
       "      <th>Item3</th>\n",
       "      <td>12/2/2011</td>\n",
       "      <td>B</td>\n",
       "      <td>1550</td>\n",
       "      <td>23135428.77</td>\n",
       "    </tr>\n",
       "    <tr>\n",
       "      <th>Item4</th>\n",
       "      <td>13/2/2011</td>\n",
       "      <td>S</td>\n",
       "      <td>400</td>\n",
       "      <td>56245263.94</td>\n",
       "    </tr>\n",
       "  </tbody>\n",
       "</table>\n",
       "</div>"
      ],
      "text/plain": [
       "            Date Product  Price      Expense\n",
       "Item1  10/2/2011       U   1250  21525220.65\n",
       "Item2  11/2/2011       M   1450  31125840.88\n",
       "Item3  12/2/2011       B   1550  23135428.77\n",
       "Item4  13/2/2011       S    400  56245263.94"
      ]
     },
     "execution_count": 21,
     "metadata": {},
     "output_type": "execute_result"
    }
   ],
   "source": [
    "# Round off the Expense column values to two decimal places\n",
    "df['Expense'] = df['Expense'].round(2)\n",
    "df"
   ]
  },
  {
   "cell_type": "markdown",
   "id": "754eef37",
   "metadata": {},
   "source": [
    "#### e) Create a new column called ‘Discounted_Price’ after applying a 10% discount on the existing‘price’ column. (try using lambda function)\n"
   ]
  },
  {
   "cell_type": "code",
   "execution_count": 22,
   "id": "27a9c834",
   "metadata": {},
   "outputs": [
    {
     "data": {
      "text/html": [
       "<div>\n",
       "<style scoped>\n",
       "    .dataframe tbody tr th:only-of-type {\n",
       "        vertical-align: middle;\n",
       "    }\n",
       "\n",
       "    .dataframe tbody tr th {\n",
       "        vertical-align: top;\n",
       "    }\n",
       "\n",
       "    .dataframe thead th {\n",
       "        text-align: right;\n",
       "    }\n",
       "</style>\n",
       "<table border=\"1\" class=\"dataframe\">\n",
       "  <thead>\n",
       "    <tr style=\"text-align: right;\">\n",
       "      <th></th>\n",
       "      <th>Date</th>\n",
       "      <th>Product</th>\n",
       "      <th>Price</th>\n",
       "      <th>Expense</th>\n",
       "      <th>Discounted_Price</th>\n",
       "    </tr>\n",
       "  </thead>\n",
       "  <tbody>\n",
       "    <tr>\n",
       "      <th>Item1</th>\n",
       "      <td>10/2/2011</td>\n",
       "      <td>U</td>\n",
       "      <td>1250</td>\n",
       "      <td>21525220.65</td>\n",
       "      <td>1125.0</td>\n",
       "    </tr>\n",
       "    <tr>\n",
       "      <th>Item2</th>\n",
       "      <td>11/2/2011</td>\n",
       "      <td>M</td>\n",
       "      <td>1450</td>\n",
       "      <td>31125840.88</td>\n",
       "      <td>1305.0</td>\n",
       "    </tr>\n",
       "    <tr>\n",
       "      <th>Item3</th>\n",
       "      <td>12/2/2011</td>\n",
       "      <td>B</td>\n",
       "      <td>1550</td>\n",
       "      <td>23135428.77</td>\n",
       "      <td>1395.0</td>\n",
       "    </tr>\n",
       "    <tr>\n",
       "      <th>Item4</th>\n",
       "      <td>13/2/2011</td>\n",
       "      <td>S</td>\n",
       "      <td>400</td>\n",
       "      <td>56245263.94</td>\n",
       "      <td>360.0</td>\n",
       "    </tr>\n",
       "  </tbody>\n",
       "</table>\n",
       "</div>"
      ],
      "text/plain": [
       "            Date Product  Price      Expense  Discounted_Price\n",
       "Item1  10/2/2011       U   1250  21525220.65            1125.0\n",
       "Item2  11/2/2011       M   1450  31125840.88            1305.0\n",
       "Item3  12/2/2011       B   1550  23135428.77            1395.0\n",
       "Item4  13/2/2011       S    400  56245263.94             360.0"
      ]
     },
     "execution_count": 22,
     "metadata": {},
     "output_type": "execute_result"
    }
   ],
   "source": [
    "# Create a new column called ‘Discounted_Price’ after applying a 10% discount\n",
    "df['Discounted_Price'] = df['Price'].apply(lambda x: x * 0.9)\n",
    "df"
   ]
  },
  {
   "cell_type": "markdown",
   "id": "735325fe",
   "metadata": {},
   "source": [
    "#### f) Convert the column type of “Date” to datetime format"
   ]
  },
  {
   "cell_type": "code",
   "execution_count": 23,
   "id": "600369e4",
   "metadata": {},
   "outputs": [
    {
     "data": {
      "text/html": [
       "<div>\n",
       "<style scoped>\n",
       "    .dataframe tbody tr th:only-of-type {\n",
       "        vertical-align: middle;\n",
       "    }\n",
       "\n",
       "    .dataframe tbody tr th {\n",
       "        vertical-align: top;\n",
       "    }\n",
       "\n",
       "    .dataframe thead th {\n",
       "        text-align: right;\n",
       "    }\n",
       "</style>\n",
       "<table border=\"1\" class=\"dataframe\">\n",
       "  <thead>\n",
       "    <tr style=\"text-align: right;\">\n",
       "      <th></th>\n",
       "      <th>Date</th>\n",
       "      <th>Product</th>\n",
       "      <th>Price</th>\n",
       "      <th>Expense</th>\n",
       "      <th>Discounted_Price</th>\n",
       "    </tr>\n",
       "  </thead>\n",
       "  <tbody>\n",
       "    <tr>\n",
       "      <th>Item1</th>\n",
       "      <td>2011-10-02</td>\n",
       "      <td>U</td>\n",
       "      <td>1250</td>\n",
       "      <td>21525220.65</td>\n",
       "      <td>1125.0</td>\n",
       "    </tr>\n",
       "    <tr>\n",
       "      <th>Item2</th>\n",
       "      <td>2011-11-02</td>\n",
       "      <td>M</td>\n",
       "      <td>1450</td>\n",
       "      <td>31125840.88</td>\n",
       "      <td>1305.0</td>\n",
       "    </tr>\n",
       "    <tr>\n",
       "      <th>Item3</th>\n",
       "      <td>2011-12-02</td>\n",
       "      <td>B</td>\n",
       "      <td>1550</td>\n",
       "      <td>23135428.77</td>\n",
       "      <td>1395.0</td>\n",
       "    </tr>\n",
       "    <tr>\n",
       "      <th>Item4</th>\n",
       "      <td>2011-02-13</td>\n",
       "      <td>S</td>\n",
       "      <td>400</td>\n",
       "      <td>56245263.94</td>\n",
       "      <td>360.0</td>\n",
       "    </tr>\n",
       "  </tbody>\n",
       "</table>\n",
       "</div>"
      ],
      "text/plain": [
       "            Date Product  Price      Expense  Discounted_Price\n",
       "Item1 2011-10-02       U   1250  21525220.65            1125.0\n",
       "Item2 2011-11-02       M   1450  31125840.88            1305.0\n",
       "Item3 2011-12-02       B   1550  23135428.77            1395.0\n",
       "Item4 2011-02-13       S    400  56245263.94             360.0"
      ]
     },
     "execution_count": 23,
     "metadata": {},
     "output_type": "execute_result"
    }
   ],
   "source": [
    "# Convert the column type of “Date” to datetime format\n",
    "df['Date'] = pd.to_datetime(df['Date'])\n",
    "df"
   ]
  },
  {
   "cell_type": "markdown",
   "id": "53e37b8a",
   "metadata": {},
   "source": [
    "#### g) Create a column rank which ranks the products based on the price (one with the highest price will be rank 1)."
   ]
  },
  {
   "cell_type": "code",
   "execution_count": 24,
   "id": "e1fac8b1",
   "metadata": {},
   "outputs": [
    {
     "data": {
      "text/html": [
       "<div>\n",
       "<style scoped>\n",
       "    .dataframe tbody tr th:only-of-type {\n",
       "        vertical-align: middle;\n",
       "    }\n",
       "\n",
       "    .dataframe tbody tr th {\n",
       "        vertical-align: top;\n",
       "    }\n",
       "\n",
       "    .dataframe thead th {\n",
       "        text-align: right;\n",
       "    }\n",
       "</style>\n",
       "<table border=\"1\" class=\"dataframe\">\n",
       "  <thead>\n",
       "    <tr style=\"text-align: right;\">\n",
       "      <th></th>\n",
       "      <th>Date</th>\n",
       "      <th>Product</th>\n",
       "      <th>Price</th>\n",
       "      <th>Expense</th>\n",
       "      <th>Discounted_Price</th>\n",
       "      <th>Rank</th>\n",
       "    </tr>\n",
       "  </thead>\n",
       "  <tbody>\n",
       "    <tr>\n",
       "      <th>Item1</th>\n",
       "      <td>2011-10-02</td>\n",
       "      <td>U</td>\n",
       "      <td>1250</td>\n",
       "      <td>21525220.65</td>\n",
       "      <td>1125.0</td>\n",
       "      <td>3</td>\n",
       "    </tr>\n",
       "    <tr>\n",
       "      <th>Item2</th>\n",
       "      <td>2011-11-02</td>\n",
       "      <td>M</td>\n",
       "      <td>1450</td>\n",
       "      <td>31125840.88</td>\n",
       "      <td>1305.0</td>\n",
       "      <td>2</td>\n",
       "    </tr>\n",
       "    <tr>\n",
       "      <th>Item3</th>\n",
       "      <td>2011-12-02</td>\n",
       "      <td>B</td>\n",
       "      <td>1550</td>\n",
       "      <td>23135428.77</td>\n",
       "      <td>1395.0</td>\n",
       "      <td>1</td>\n",
       "    </tr>\n",
       "    <tr>\n",
       "      <th>Item4</th>\n",
       "      <td>2011-02-13</td>\n",
       "      <td>S</td>\n",
       "      <td>400</td>\n",
       "      <td>56245263.94</td>\n",
       "      <td>360.0</td>\n",
       "      <td>4</td>\n",
       "    </tr>\n",
       "  </tbody>\n",
       "</table>\n",
       "</div>"
      ],
      "text/plain": [
       "            Date Product  Price      Expense  Discounted_Price  Rank\n",
       "Item1 2011-10-02       U   1250  21525220.65            1125.0     3\n",
       "Item2 2011-11-02       M   1450  31125840.88            1305.0     2\n",
       "Item3 2011-12-02       B   1550  23135428.77            1395.0     1\n",
       "Item4 2011-02-13       S    400  56245263.94             360.0     4"
      ]
     },
     "execution_count": 24,
     "metadata": {},
     "output_type": "execute_result"
    }
   ],
   "source": [
    "# Create a column rank which ranks the products based on the price\n",
    "df['Rank'] = df['Price'].rank(ascending=False).astype(int)\n",
    "df"
   ]
  },
  {
   "cell_type": "markdown",
   "id": "afc6f263",
   "metadata": {},
   "source": [
    "# Assignment: Exploring NBA Player Data\n",
    "\n",
    "Download the nba.csv file containing NBA player data Complete the following tasks using\n",
    "Python, Pandas, and data visualization libraries:\n",
    "\n",
    "#### 1. Load Data:\n",
    "    ● Load the nba.csv data into a Pandas DataFrame.\n",
    "    ● Display basic information about the DataFrame.\n",
    "#### 2. Data Cleaning:\n",
    "    ● Handle missing values by either removing or imputing them.\n",
    "    ● Remove duplicate rows.\n",
    "#### 3. Data Transformation:\n",
    "    ● Create a new column 'BMI' (Body Mass Index) using the formula: BMI = (weight in pounds / (height in inches)^2) * 703.(Assuming a fixed height value of 70 inches (5 feet 10 inches)\n",
    "#### 4. Exploratory Data Analysis (EDA):\n",
    "    ● Display summary statistics of the 'age', 'weight', and 'salary' columns.\n",
    "    ● Calculate the average age, weight, and salary of players in each 'position' category.\n",
    "#### 5. Data Visualization:\n",
    "    ● Create a histogram of player ages.\n",
    "    ● Create a boxplot of player salaries for each 'position'.\n",
    "    ● Plot a scatter plot of 'age' vs. 'salary' with a different color for each 'position'.\n",
    "#### 6. Top Players:\n",
    "    ● Display the top 10 players with the highest salaries.\n",
    "#### 7. College Analysis:\n",
    "    ● Determine the top 5 colleges with the most represented players.\n",
    "#### 8. Position Distribution:\n",
    "    ● Plot a pie chart to show the distribution of players across different 'positions'.\n",
    "#### 9. Team Analysis:\n",
    "    ● Display the average salary of players for each 'team'.\n",
    "    ● Plot a bar chart to visualize the average salary of players for each 'team'.\n",
    "    \n",
    "#### 10. Extras\n",
    "    ● Get the index at which the minimum weight value is present.\n",
    "    ● Sort values based on name in alphabetical order for the rows (the original Dataframe sorting should not change)\n",
    "    ● Create a series from given dataframe on “name” column and display top and last 10"
   ]
  },
  {
   "cell_type": "code",
   "execution_count": 25,
   "id": "79ab0d71",
   "metadata": {},
   "outputs": [],
   "source": [
    "# Import Libraries\n",
    "\n",
    "import pandas as pd\n",
    "import numpy as np\n",
    "import matplotlib.pyplot as plt\n",
    "import seaborn as sns\n",
    "import warnings\n",
    "warnings.filterwarnings(\"ignore\") # To ignore unnecessary warnings"
   ]
  },
  {
   "cell_type": "markdown",
   "id": "10e89881",
   "metadata": {},
   "source": [
    "#### 1. Load Data:\n",
    "\n",
    "● Load the nba.csv data into a Pandas DataFrame."
   ]
  },
  {
   "cell_type": "code",
   "execution_count": 28,
   "id": "6c094120",
   "metadata": {
    "scrolled": true
   },
   "outputs": [
    {
     "data": {
      "text/html": [
       "<div>\n",
       "<style scoped>\n",
       "    .dataframe tbody tr th:only-of-type {\n",
       "        vertical-align: middle;\n",
       "    }\n",
       "\n",
       "    .dataframe tbody tr th {\n",
       "        vertical-align: top;\n",
       "    }\n",
       "\n",
       "    .dataframe thead th {\n",
       "        text-align: right;\n",
       "    }\n",
       "</style>\n",
       "<table border=\"1\" class=\"dataframe\">\n",
       "  <thead>\n",
       "    <tr style=\"text-align: right;\">\n",
       "      <th></th>\n",
       "      <th>Name</th>\n",
       "      <th>Team</th>\n",
       "      <th>Number</th>\n",
       "      <th>Position</th>\n",
       "      <th>Age</th>\n",
       "      <th>Weight</th>\n",
       "      <th>College</th>\n",
       "      <th>Salary</th>\n",
       "    </tr>\n",
       "  </thead>\n",
       "  <tbody>\n",
       "    <tr>\n",
       "      <th>0</th>\n",
       "      <td>Avery Bradley</td>\n",
       "      <td>Boston Celtics</td>\n",
       "      <td>0</td>\n",
       "      <td>PG</td>\n",
       "      <td>25</td>\n",
       "      <td>180</td>\n",
       "      <td>Texas</td>\n",
       "      <td>7730337.0</td>\n",
       "    </tr>\n",
       "    <tr>\n",
       "      <th>1</th>\n",
       "      <td>Jae Crowder</td>\n",
       "      <td>Boston Celtics</td>\n",
       "      <td>99</td>\n",
       "      <td>SF</td>\n",
       "      <td>25</td>\n",
       "      <td>235</td>\n",
       "      <td>Marquette</td>\n",
       "      <td>6796117.0</td>\n",
       "    </tr>\n",
       "    <tr>\n",
       "      <th>2</th>\n",
       "      <td>John Holland</td>\n",
       "      <td>Boston Celtics</td>\n",
       "      <td>30</td>\n",
       "      <td>SG</td>\n",
       "      <td>27</td>\n",
       "      <td>205</td>\n",
       "      <td>Boston University</td>\n",
       "      <td>NaN</td>\n",
       "    </tr>\n",
       "    <tr>\n",
       "      <th>3</th>\n",
       "      <td>R.J. Hunter</td>\n",
       "      <td>Boston Celtics</td>\n",
       "      <td>28</td>\n",
       "      <td>SG</td>\n",
       "      <td>22</td>\n",
       "      <td>185</td>\n",
       "      <td>Georgia State</td>\n",
       "      <td>1148640.0</td>\n",
       "    </tr>\n",
       "    <tr>\n",
       "      <th>4</th>\n",
       "      <td>Jonas Jerebko</td>\n",
       "      <td>Boston Celtics</td>\n",
       "      <td>8</td>\n",
       "      <td>PF</td>\n",
       "      <td>29</td>\n",
       "      <td>231</td>\n",
       "      <td>NaN</td>\n",
       "      <td>5000000.0</td>\n",
       "    </tr>\n",
       "  </tbody>\n",
       "</table>\n",
       "</div>"
      ],
      "text/plain": [
       "            Name            Team  Number Position  Age  Weight  \\\n",
       "0  Avery Bradley  Boston Celtics       0       PG   25     180   \n",
       "1    Jae Crowder  Boston Celtics      99       SF   25     235   \n",
       "2   John Holland  Boston Celtics      30       SG   27     205   \n",
       "3    R.J. Hunter  Boston Celtics      28       SG   22     185   \n",
       "4  Jonas Jerebko  Boston Celtics       8       PF   29     231   \n",
       "\n",
       "             College     Salary  \n",
       "0              Texas  7730337.0  \n",
       "1          Marquette  6796117.0  \n",
       "2  Boston University        NaN  \n",
       "3      Georgia State  1148640.0  \n",
       "4                NaN  5000000.0  "
      ]
     },
     "execution_count": 28,
     "metadata": {},
     "output_type": "execute_result"
    }
   ],
   "source": [
    "df = pd.read_csv('dataset/nba.csv')\n",
    "df.head()"
   ]
  },
  {
   "cell_type": "markdown",
   "id": "b5fd6bf3",
   "metadata": {},
   "source": [
    "● Display basic information about the DataFrame."
   ]
  },
  {
   "cell_type": "code",
   "execution_count": 29,
   "id": "58fb8923",
   "metadata": {},
   "outputs": [
    {
     "name": "stdout",
     "output_type": "stream",
     "text": [
      "<class 'pandas.core.frame.DataFrame'>\n",
      "RangeIndex: 457 entries, 0 to 456\n",
      "Data columns (total 8 columns):\n",
      " #   Column    Non-Null Count  Dtype  \n",
      "---  ------    --------------  -----  \n",
      " 0   Name      457 non-null    object \n",
      " 1   Team      457 non-null    object \n",
      " 2   Number    457 non-null    int64  \n",
      " 3   Position  457 non-null    object \n",
      " 4   Age       457 non-null    int64  \n",
      " 5   Weight    457 non-null    int64  \n",
      " 6   College   373 non-null    object \n",
      " 7   Salary    446 non-null    float64\n",
      "dtypes: float64(1), int64(3), object(4)\n",
      "memory usage: 28.7+ KB\n"
     ]
    }
   ],
   "source": [
    "df.info()"
   ]
  },
  {
   "cell_type": "markdown",
   "id": "0857b1d0",
   "metadata": {},
   "source": [
    "#### Observations:\n",
    "\n",
    "1. The dataset contains 457 entries and 8 columns, including 'Name', 'Team', 'Number', 'Position', 'Age', 'Weight', 'College', and 'Salary'.\n",
    "<br>\n",
    "\n",
    "2. Some entries have missing values, particularly in the 'College' and 'Salary' columns. There are 373 non-null values in the 'College' column and 446 non-null values in the 'Salary' column.\n",
    "<br>\n",
    "\n",
    "3. The data types differ across the columns, with 'Name', 'Team', 'Position', and 'College' being of the object data type, 'Number', 'Age', and 'Weight' being of the int64 data type, and 'Salary' being of the float64 data type.\n",
    "<br>\n",
    "\n",
    "4. The dataset presents information related to player attributes such as age, weight, and position, as well as their respective salaries.\n",
    "<br>\n",
    "\n",
    "5. The 'Age' and 'Weight' columns are complete, containing 457 non-null entries, indicating that there are no missing values in these columns.\n",
    "<br>\n",
    "\n",
    "6. The 'Number' column seems to represent the jersey number of the players in the dataset.\n",
    "<br>\n",
    "\n",
    "7. The 'Salary' column has numeric values, indicating the players' salaries, while the 'College' column represents the college where the players attended."
   ]
  },
  {
   "cell_type": "markdown",
   "id": "484a455d",
   "metadata": {},
   "source": [
    "#### 2. Data Cleaning:\n",
    "\n",
    "● Handle missing values by either removing or imputing them."
   ]
  },
  {
   "cell_type": "code",
   "execution_count": null,
   "id": "50d0b8c8",
   "metadata": {},
   "outputs": [],
   "source": [
    "df."
   ]
  },
  {
   "cell_type": "markdown",
   "id": "e5774d6f",
   "metadata": {},
   "source": [
    "● Remove duplicate rows"
   ]
  },
  {
   "cell_type": "code",
   "execution_count": null,
   "id": "37e3b69b",
   "metadata": {},
   "outputs": [],
   "source": []
  }
 ],
 "metadata": {
  "kernelspec": {
   "display_name": "Python 3 (ipykernel)",
   "language": "python",
   "name": "python3"
  },
  "language_info": {
   "codemirror_mode": {
    "name": "ipython",
    "version": 3
   },
   "file_extension": ".py",
   "mimetype": "text/x-python",
   "name": "python",
   "nbconvert_exporter": "python",
   "pygments_lexer": "ipython3",
   "version": "3.11.3"
  }
 },
 "nbformat": 4,
 "nbformat_minor": 5
}
