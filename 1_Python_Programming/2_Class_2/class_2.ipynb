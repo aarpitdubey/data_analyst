{
 "cells": [
  {
   "cell_type": "code",
   "execution_count": 1,
   "id": "2d0f6633-7db9-495c-a0f8-59d1f46b794c",
   "metadata": {
    "tags": []
   },
   "outputs": [],
   "source": [
    "input_string = \"GrowDataSkills\""
   ]
  },
  {
   "cell_type": "code",
   "execution_count": 2,
   "id": "6a4824cc-d4ef-4aae-beb1-d895dc887538",
   "metadata": {
    "tags": []
   },
   "outputs": [
    {
     "data": {
      "text/plain": [
       "str"
      ]
     },
     "execution_count": 2,
     "metadata": {},
     "output_type": "execute_result"
    }
   ],
   "source": [
    "type(input_string)"
   ]
  },
  {
   "cell_type": "code",
   "execution_count": 3,
   "id": "5f865b59-1e8c-4033-af25-4523de9e71e7",
   "metadata": {
    "tags": []
   },
   "outputs": [
    {
     "ename": "TypeError",
     "evalue": "'str' object does not support item assignment",
     "output_type": "error",
     "traceback": [
      "\u001b[1;31m---------------------------------------------------------------------------\u001b[0m",
      "\u001b[1;31mTypeError\u001b[0m                                 Traceback (most recent call last)",
      "Cell \u001b[1;32mIn[3], line 1\u001b[0m\n\u001b[1;32m----> 1\u001b[0m \u001b[43minput_string\u001b[49m\u001b[43m[\u001b[49m\u001b[38;5;241;43m0\u001b[39;49m\u001b[43m]\u001b[49m \u001b[38;5;241m=\u001b[39m \u001b[38;5;124m\"\u001b[39m\u001b[38;5;124mC\u001b[39m\u001b[38;5;124m\"\u001b[39m\n",
      "\u001b[1;31mTypeError\u001b[0m: 'str' object does not support item assignment"
     ]
    }
   ],
   "source": [
    "input_string[0] = \"C\""
   ]
  },
  {
   "cell_type": "markdown",
   "id": "078af887-cc12-4026-a766-90b339a564ed",
   "metadata": {},
   "source": [
    "**str object does not support item assignment** that means, string object cannot be modify hence string object are **immutable**."
   ]
  },
  {
   "cell_type": "code",
   "execution_count": 4,
   "id": "0607fbff-8234-4890-b5df-b03e5a3b9516",
   "metadata": {
    "tags": []
   },
   "outputs": [
    {
     "data": {
      "text/plain": [
       "'Hello, Arpit!'"
      ]
     },
     "execution_count": 4,
     "metadata": {},
     "output_type": "execute_result"
    }
   ],
   "source": [
    "greeting = \"Hello, \"\n",
    "name     = \"Arpit\"\n",
    "message  = greeting + name + \"!\"\n",
    "message"
   ]
  },
  {
   "cell_type": "code",
   "execution_count": 5,
   "id": "cdc4dfdb-3244-4986-93ab-f9b37e3acec9",
   "metadata": {
    "tags": []
   },
   "outputs": [
    {
     "data": {
      "text/plain": [
       "'DataSkills'"
      ]
     },
     "execution_count": 5,
     "metadata": {},
     "output_type": "execute_result"
    }
   ],
   "source": [
    "input_string[4:]"
   ]
  },
  {
   "cell_type": "code",
   "execution_count": 6,
   "id": "0df3032a-ce34-4380-b1d3-3f4937cda7bf",
   "metadata": {
    "tags": []
   },
   "outputs": [
    {
     "data": {
      "text/plain": [
       "'sllikSataDworG'"
      ]
     },
     "execution_count": 6,
     "metadata": {},
     "output_type": "execute_result"
    }
   ],
   "source": [
    "# reverse\n",
    "\n",
    "input_string[::-1]"
   ]
  },
  {
   "cell_type": "code",
   "execution_count": 8,
   "id": "41b70ecf-df09-4ffa-a86f-451f6f2ce657",
   "metadata": {
    "tags": []
   },
   "outputs": [
    {
     "data": {
      "text/plain": [
       "'Da'"
      ]
     },
     "execution_count": 8,
     "metadata": {},
     "output_type": "execute_result"
    }
   ],
   "source": [
    "input_string[4:10:3]"
   ]
  },
  {
   "cell_type": "code",
   "execution_count": 9,
   "id": "6cf70f09-808f-44c5-ab7d-d3cb24243030",
   "metadata": {
    "tags": []
   },
   "outputs": [
    {
     "data": {
      "text/plain": [
       "'\\nThis is a multi-line\\ncomment.\\n'"
      ]
     },
     "execution_count": 9,
     "metadata": {},
     "output_type": "execute_result"
    }
   ],
   "source": [
    "# comment\n",
    "\n",
    "# This is a single-line comment\n",
    "\n",
    "'''\n",
    "This is a multi-line\n",
    "comment.\n",
    "'''"
   ]
  },
  {
   "cell_type": "code",
   "execution_count": 10,
   "id": "3123b328-8035-430f-97a4-fb8fc767ea75",
   "metadata": {
    "tags": []
   },
   "outputs": [],
   "source": [
    "# string.replace(oldvalue, newvalue, count)"
   ]
  },
  {
   "cell_type": "code",
   "execution_count": 11,
   "id": "5c7843e7-2746-4e27-85ca-59210e0e81f5",
   "metadata": {
    "tags": []
   },
   "outputs": [],
   "source": [
    "txt = \"one one was a race hourse, two two was one too.\""
   ]
  },
  {
   "cell_type": "code",
   "execution_count": 12,
   "id": "c6e08bce-ea12-4ecc-b3c8-4e00d9159cc4",
   "metadata": {
    "tags": []
   },
   "outputs": [
    {
     "data": {
      "text/plain": [
       "'three three was a race hourse, two two was three too.'"
      ]
     },
     "execution_count": 12,
     "metadata": {},
     "output_type": "execute_result"
    }
   ],
   "source": [
    "txt.replace(\"one\", \"three\")"
   ]
  },
  {
   "cell_type": "code",
   "execution_count": 13,
   "id": "07aec886-d8f7-456a-bcbf-a75b86d59492",
   "metadata": {
    "tags": []
   },
   "outputs": [
    {
     "data": {
      "text/plain": [
       "'three one was a race hourse, two two was one too.'"
      ]
     },
     "execution_count": 13,
     "metadata": {},
     "output_type": "execute_result"
    }
   ],
   "source": [
    "txt.replace(\"one\", \"three\", 1)"
   ]
  },
  {
   "cell_type": "code",
   "execution_count": 14,
   "id": "06edf2db-2a90-4687-9258-381176fe04d9",
   "metadata": {
    "tags": []
   },
   "outputs": [
    {
     "data": {
      "text/plain": [
       "'three three was a race hourse, two two was one too.'"
      ]
     },
     "execution_count": 14,
     "metadata": {},
     "output_type": "execute_result"
    }
   ],
   "source": [
    "txt.replace(\"one\", \"three\", 2)"
   ]
  },
  {
   "cell_type": "markdown",
   "id": "47200255-6c18-4d24-8258-74f39f6d882d",
   "metadata": {},
   "source": [
    "## Data Structure in Python"
   ]
  },
  {
   "cell_type": "code",
   "execution_count": null,
   "id": "97445766-cc18-486c-94f9-c3cdff37d4b2",
   "metadata": {},
   "outputs": [],
   "source": []
  }
 ],
 "metadata": {
  "kernelspec": {
   "display_name": "Python 3 (ipykernel)",
   "language": "python",
   "name": "python3"
  },
  "language_info": {
   "codemirror_mode": {
    "name": "ipython",
    "version": 3
   },
   "file_extension": ".py",
   "mimetype": "text/x-python",
   "name": "python",
   "nbconvert_exporter": "python",
   "pygments_lexer": "ipython3",
   "version": "3.11.3"
  }
 },
 "nbformat": 4,
 "nbformat_minor": 5
}
