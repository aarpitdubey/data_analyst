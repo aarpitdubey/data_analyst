{
 "cells": [
  {
   "cell_type": "code",
   "execution_count": 1,
   "id": "d6cd8a13-cf52-440c-b020-55bac73b2c08",
   "metadata": {
    "tags": []
   },
   "outputs": [],
   "source": [
    "class Vehicle:\n",
    "    def __init__(self, make, model):\n",
    "        self.make  = make\n",
    "        self.model = model\n",
    "        \n",
    "    def display_info(self):\n",
    "        return f\"This is a {self.make} {self.model}.\""
   ]
  },
  {
   "cell_type": "code",
   "execution_count": 2,
   "id": "e165e1b7-7be8-48dc-a4a5-1bbba12dc60a",
   "metadata": {
    "tags": []
   },
   "outputs": [],
   "source": [
    "class car(Vehicle):\n",
    "    def drive(self):\n",
    "        return \"car is driving\""
   ]
  },
  {
   "cell_type": "code",
   "execution_count": 3,
   "id": "8a4fdb91-8c5b-4106-a965-25e10d4af51f",
   "metadata": {
    "tags": []
   },
   "outputs": [],
   "source": [
    "class Motorcycle(Vehicle):\n",
    "    def ride(self):\n",
    "        return \"Motorcycle is riding\""
   ]
  },
  {
   "cell_type": "code",
   "execution_count": 4,
   "id": "9663304a-88e8-4d8c-8102-73e19bb7646d",
   "metadata": {
    "tags": []
   },
   "outputs": [],
   "source": [
    "c = car(\"Toyota\", \"Camry\")"
   ]
  },
  {
   "cell_type": "code",
   "execution_count": 5,
   "id": "d02e493a-2f4d-4fbb-9ff8-1bc3502f1dbf",
   "metadata": {
    "tags": []
   },
   "outputs": [
    {
     "data": {
      "text/plain": [
       "'car is driving'"
      ]
     },
     "execution_count": 5,
     "metadata": {},
     "output_type": "execute_result"
    }
   ],
   "source": [
    "c.drive()"
   ]
  },
  {
   "cell_type": "code",
   "execution_count": 6,
   "id": "8b4858d9-c4d7-4720-b3b0-6bf419cd7b88",
   "metadata": {
    "tags": []
   },
   "outputs": [
    {
     "data": {
      "text/plain": [
       "'This is a Toyota Camry.'"
      ]
     },
     "execution_count": 6,
     "metadata": {},
     "output_type": "execute_result"
    }
   ],
   "source": [
    "c.display_info()"
   ]
  },
  {
   "cell_type": "code",
   "execution_count": 7,
   "id": "cd85afa5-46dd-4e8b-99ea-d66fb5eff65f",
   "metadata": {
    "tags": []
   },
   "outputs": [
    {
     "name": "stdout",
     "output_type": "stream",
     "text": [
      "This is a Harley-Davidson Sportster.\n"
     ]
    }
   ],
   "source": [
    "m = Motorcycle(\"Harley-Davidson\", \"Sportster\")\n",
    "print(m.display_info())"
   ]
  },
  {
   "cell_type": "code",
   "execution_count": 8,
   "id": "dbe815f5-f4ce-4dbc-ba5c-7274bb7c4797",
   "metadata": {
    "tags": []
   },
   "outputs": [
    {
     "name": "stdout",
     "output_type": "stream",
     "text": [
      "Motorcycle is riding\n"
     ]
    }
   ],
   "source": [
    "print(m.ride())"
   ]
  },
  {
   "cell_type": "code",
   "execution_count": 18,
   "id": "c59b8277-3475-40ca-841e-6acb60643433",
   "metadata": {},
   "outputs": [],
   "source": [
    "class Person:\n",
    "    def __init__(self, name, age):\n",
    "        self.name = name\n",
    "        self._age = age\n",
    "        self.__bank_balance = 0\n",
    "        \n",
    "    def get_bankbalance():\n",
    "        return __bank_balance\n",
    "    \n",
    "    def get_age(age):\n",
    "        return age"
   ]
  },
  {
   "cell_type": "code",
   "execution_count": 19,
   "id": "0a29fea3-9833-42f9-98e3-05e511a2ce45",
   "metadata": {
    "tags": []
   },
   "outputs": [],
   "source": [
    "employee = Person(\"Arpit\", 28)"
   ]
  },
  {
   "cell_type": "code",
   "execution_count": 20,
   "id": "e2f61872-15ce-4e6a-8afc-e730519c2c10",
   "metadata": {
    "tags": []
   },
   "outputs": [
    {
     "name": "stdout",
     "output_type": "stream",
     "text": [
      "Arpit\n"
     ]
    }
   ],
   "source": [
    "print(employee.name)"
   ]
  },
  {
   "cell_type": "code",
   "execution_count": 21,
   "id": "620abed2-e2de-4008-a308-a3ffabb8039d",
   "metadata": {
    "tags": []
   },
   "outputs": [
    {
     "name": "stdout",
     "output_type": "stream",
     "text": [
      "<__main__.Person object at 0x0000024DF80B3750>\n"
     ]
    }
   ],
   "source": [
    "print(employee.get_age())"
   ]
  },
  {
   "cell_type": "code",
   "execution_count": null,
   "id": "e3811a71-ec40-437a-a77a-491331da8828",
   "metadata": {},
   "outputs": [],
   "source": []
  },
  {
   "cell_type": "code",
   "execution_count": null,
   "id": "47aee0eb-1479-4dae-a13a-67f38175fc33",
   "metadata": {},
   "outputs": [],
   "source": []
  }
 ],
 "metadata": {
  "kernelspec": {
   "display_name": "Python 3 (ipykernel)",
   "language": "python",
   "name": "python3"
  },
  "language_info": {
   "codemirror_mode": {
    "name": "ipython",
    "version": 3
   },
   "file_extension": ".py",
   "mimetype": "text/x-python",
   "name": "python",
   "nbconvert_exporter": "python",
   "pygments_lexer": "ipython3",
   "version": "3.11.3"
  }
 },
 "nbformat": 4,
 "nbformat_minor": 5
}
