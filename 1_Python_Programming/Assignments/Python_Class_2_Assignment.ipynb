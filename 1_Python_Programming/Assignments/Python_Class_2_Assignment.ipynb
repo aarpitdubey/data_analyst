{
 "cells": [
  {
   "cell_type": "markdown",
   "id": "1179c535-075f-4105-b9ae-7c3ac9528c38",
   "metadata": {},
   "source": [
    "# <center>Python Assignment</center>\n",
    "\n",
    "## <center>LIST</center>"
   ]
  },
  {
   "cell_type": "markdown",
   "id": "a5fcd39a-ccb3-4027-92f6-9e243d231e13",
   "metadata": {},
   "source": [
    "### Q1: Write a Python program to remove duplicates from a list.\n",
    "\n",
    "#### INPUT: a = [10,20,30,20,10,50,60,40,80,50,40]\n",
    "#### OUTPUT: {40, 10, 80, 50, 20, 60, 30}"
   ]
  },
  {
   "cell_type": "code",
   "execution_count": 1,
   "id": "cab3fa22-4e45-4cb9-a3ee-313820326356",
   "metadata": {
    "tags": []
   },
   "outputs": [],
   "source": [
    "# Method 1: Using generic method or loop to firstly sort the list and then match elements and remove which matched exactly\n",
    "a = [10,20,30,20,10,50,60,40,80,50,40]\n",
    "output = sorted(a)"
   ]
  },
  {
   "cell_type": "code",
   "execution_count": 2,
   "id": "d0366409-5a28-434e-8325-1994838d27d0",
   "metadata": {
    "tags": []
   },
   "outputs": [
    {
     "name": "stdout",
     "output_type": "stream",
     "text": [
      "[10, 20, 30, 40, 50, 60, 80]\n"
     ]
    }
   ],
   "source": [
    "for ele in range(len(output)-1):\n",
    "    if (ele+1 <= len(output)-1 and output[ele] == output[ele+1]):\n",
    "        output.remove(output[ele+1])\n",
    "print(output)"
   ]
  },
  {
   "cell_type": "code",
   "execution_count": 3,
   "id": "372bce7f-5797-46ea-934c-1d3a87dd3d6b",
   "metadata": {
    "tags": []
   },
   "outputs": [
    {
     "name": "stdout",
     "output_type": "stream",
     "text": [
      "[40, 10, 80, 50, 20, 60, 30]\n"
     ]
    }
   ],
   "source": [
    "# Method 2  we use set() method\n",
    "a      = [10,20,30,20,10,50,60,40,80,50,40]\n",
    "a_set  = set(a)\n",
    "output = list(a_set)\n",
    "print(output)"
   ]
  },
  {
   "cell_type": "markdown",
   "id": "62eae241-706b-439f-9a7a-b00bc8cec8b6",
   "metadata": {},
   "source": [
    "#### Method 1: \n",
    "- The code first sorts the list using the **sorted()** function. Then, it iterates over the sorted list using a for loop. \n",
    "- Within the loop, it checks if the current element is equal to the next element in the list. - If they are equal, it removes the next element using the **remove()** function. \n",
    "- This process continues until the end of the list. However, this method doesn't handle the removal of all duplicate elements accurately due to the modifying of the list while iterating over it.\n",
    "- Time Complexity : O(n<sup>2</sup>)\n",
    "\n",
    "#### Method 2: \n",
    "- In this method, the **set()** function is used to convert the list to a set. \n",
    "- A set is a collection of unique elements, so any duplicate elements in the list are automatically removed when converted to a set. \n",
    "- Then, the set is converted back to a list using the **list()** function, resulting in a list with duplicate elements removed.\n",
    "- Time Complexity : O(n)"
   ]
  },
  {
   "cell_type": "markdown",
   "id": "e7ae8997-e50c-40f4-befe-4ecbd1bb0f98",
   "metadata": {},
   "source": [
    "### Q2. Write a Python program to sum all the items in a list.\n",
    "#### INPUT: [1,2,-8]\n",
    "#### OUTPUT: -5\n"
   ]
  },
  {
   "cell_type": "code",
   "execution_count": 4,
   "id": "d5411159-b291-40ef-8d02-96ea2f93d064",
   "metadata": {
    "tags": []
   },
   "outputs": [
    {
     "name": "stdout",
     "output_type": "stream",
     "text": [
      "-5\n"
     ]
    }
   ],
   "source": [
    "# Method 1 : using generic element by element addition\n",
    "input_list = [1, 2, -8]\n",
    "output     = 0\n",
    "\n",
    "for ele in input_list:\n",
    "    output += ele\n",
    "print(output)"
   ]
  },
  {
   "cell_type": "code",
   "execution_count": 5,
   "id": "ca1e9059-ee0e-4341-9eb4-3bc78f32c973",
   "metadata": {
    "tags": []
   },
   "outputs": [
    {
     "name": "stdout",
     "output_type": "stream",
     "text": [
      "-5\n"
     ]
    }
   ],
   "source": [
    "# Method 2 : sum() function\n",
    "print(sum(input_list))"
   ]
  },
  {
   "cell_type": "code",
   "execution_count": 6,
   "id": "d0ebcff8-13f3-41b5-ad79-a7407784dc71",
   "metadata": {
    "tags": []
   },
   "outputs": [
    {
     "name": "stdout",
     "output_type": "stream",
     "text": [
      "-5\n"
     ]
    }
   ],
   "source": [
    "# Method 3 : Using reduce() and lambda function\n",
    "from functools import reduce\n",
    "print(reduce(lambda x, y: x + y, input_list))"
   ]
  },
  {
   "cell_type": "markdown",
   "id": "4415d9fe-8b09-4d41-9993-6e1437c5bf92",
   "metadata": {},
   "source": [
    "#### Method 1: Using a for loop\n",
    "\n",
    "- Iterate through the input list using a for loop.\n",
    "- Add each element to a running total to calculate the sum.\n",
    "- **Time Complexity:** O(n) - linear time complexity where n is the number of elements in the list.\n",
    "\n",
    "\n",
    "#### Method 2: Using the sum() function\n",
    "\n",
    "- Use the built-in **sum()** function in Python, which takes the input list as an argument and returns the sum of all the elements.\n",
    "- **Time Complexity:** O(n) - linear time complexity.\n",
    "\n",
    "#### Method 3: Using reduce() and lambda function\n",
    "\n",
    "- Use the **reduce()** function from the functools module along with a lambda function to iteratively sum the elements in the input list.\n",
    "- Provides a different approach using functional programming concepts.\n",
    "- **Time Complexity: O(n)** - linear time complexity."
   ]
  },
  {
   "cell_type": "markdown",
   "id": "1e914a69-35a5-4c9c-bf59-dbdadf4ba5ef",
   "metadata": {},
   "source": [
    "### Q3. Write a Python program to count the number of strings from a given list of strings with length 2 or more and the first and last characters are the same.\n",
    "\n",
    "#### INPUT: ['abc', 'xyz', 'aba', '1221']\n",
    "#### OUTPUT: 2\n"
   ]
  },
  {
   "cell_type": "code",
   "execution_count": 7,
   "id": "fb3fa9d9-6dc4-4845-b46c-bf4c5dc920a2",
   "metadata": {
    "tags": []
   },
   "outputs": [
    {
     "name": "stdout",
     "output_type": "stream",
     "text": [
      "for aba, first character : a and last character : a\n",
      "for 1221, first character : 1 and last character : 1\n",
      "\n",
      "count of elements with length greator or equal and\n",
      "the first and last characters are the same are : 2\n"
     ]
    }
   ],
   "source": [
    "# Method 1: Generic Approach or Brute Force Approach\n",
    "input_list = ['abc', 'xyz', 'aba', '1221']\n",
    "count = 0\n",
    "\n",
    "for ele in input_list:\n",
    "    if len(ele) >= 2 and ele[0] == ele[-1]:\n",
    "        # for 'abc' and 'xyz' it is condition is False and for 'aba' and '1221' it gives True\n",
    "        print(f\"for {ele}, first character : {ele[0]} and last character : {ele[-1]}\")\n",
    "        count += 1\n",
    "print(f\"\\ncount of elements with length greator or equal and\\nthe first and last characters are the same are : {count}\")"
   ]
  },
  {
   "cell_type": "code",
   "execution_count": 8,
   "id": "b5c38b8b-c111-4a29-8f7c-b4b9566d9739",
   "metadata": {
    "tags": []
   },
   "outputs": [
    {
     "name": "stdout",
     "output_type": "stream",
     "text": [
      "2\n"
     ]
    }
   ],
   "source": [
    "# Method 2: Using len(), list(), filter() and lambda function\n",
    "print(len(list(filter(lambda ele: len(ele) >= 2 and ele[0] == ele[-1], input_list))))"
   ]
  },
  {
   "cell_type": "markdown",
   "id": "09c6ecf5-8113-4f32-ad71-52838eaea072",
   "metadata": {},
   "source": [
    "**Brute Force Approach (Method 1):**\n",
    "- In the brute force approach, we iterate through each string in the input list and check if it satisfies the given conditions.\n",
    "- Iterating through the input list takes `O(n)` time, where n is the number of strings in the input list.\n",
    "- Checking the length and the first/last character of each string takes `O(1)` time. Therefore, the overall time complexity of the brute force approach is `O(n)` as we have a single loop that iterates through the entire input list.\n",
    "\n",
    "**Using Python's filter, len, list and lambda function (Method 2):** \n",
    "- Create a new filtered list of strings that satisfy the specified conditions\n",
    "- The `filter()` function, combined with the `lambda` function, iterates through each element of the input list. This operation takes `O(n)` time.\n",
    "- The `len()` function to obtain the count of filtered strings also takes `O(n)` time as it iterates through the filtered list once. Therefore, the overall time complexity of the optimal approach is `O(n)` as well."
   ]
  },
  {
   "cell_type": "markdown",
   "id": "81c5bfae-0848-4b3b-a55c-e0986174ba8f",
   "metadata": {},
   "source": [
    "### Q4. Write a Python program to print a specified list after removing the 0th, 4th and 5th elements.\n",
    "#### INPUT: ['Red', 'Green', 'White', 'Black', 'Pink', 'Yellow']\n",
    "#### OUTPUT: ['Green', 'White', 'Black']\n"
   ]
  },
  {
   "cell_type": "code",
   "execution_count": 9,
   "id": "cf63567c-81da-41c7-90c0-bcb0736e4943",
   "metadata": {
    "tags": []
   },
   "outputs": [
    {
     "data": {
      "text/plain": [
       "['Green', 'White', 'Black']"
      ]
     },
     "execution_count": 9,
     "metadata": {},
     "output_type": "execute_result"
    }
   ],
   "source": [
    "input_list = ['Red', 'Green', 'White', 'Black', 'Pink', 'Yellow']\n",
    "\n",
    "input_list.pop(0)\n",
    "input_list.pop()\n",
    "input_list.pop()\n",
    "\n",
    "input_list"
   ]
  },
  {
   "cell_type": "markdown",
   "id": "485b1280-4726-4304-b529-d44acd0ca31d",
   "metadata": {},
   "source": [
    "`input_list.pop(0)`: This removes the element at index `0` from the list. In this case, it removes the first element `'Red'` from the list.\n",
    "\n",
    "`input_list.pop()`: This removes the `last element` from the list. As a result, `'Yellow'` is removed from the list.\n",
    "\n",
    "`input_list.pop()`: This again removes the `last element` from the modified list. As a result, `'Pink'` is removed from the list."
   ]
  },
  {
   "cell_type": "markdown",
   "id": "ef5a2e08-c7bc-4366-a5aa-9defd6bb309b",
   "metadata": {},
   "source": [
    "### Q5. Write a Python program to print the numbers of a specified list after removing even numbers from it.\n",
    "#### INPUT: [7,8, 120, 25, 44, 20, 27]\n",
    "#### OUTPUT: [7,25,27]"
   ]
  },
  {
   "cell_type": "code",
   "execution_count": 10,
   "id": "4a0904cd-8c68-4cf1-87f6-595073ee1fab",
   "metadata": {
    "tags": []
   },
   "outputs": [
    {
     "name": "stdout",
     "output_type": "stream",
     "text": [
      "[7, 25, 27]\n"
     ]
    }
   ],
   "source": [
    "input_list = [7, 8, 120, 25, 44, 20, 27]\n",
    "print(list(filter(lambda ele: ele % 2 != 0, input_list)))"
   ]
  },
  {
   "cell_type": "markdown",
   "id": "a9f74fd7-a0f7-47fb-8d85-029b68a665b2",
   "metadata": {},
   "source": [
    "1. `input_list = [7, 8, 120, 25, 44, 20, 27]` This is the given input list containing integers.\n",
    "\n",
    "2. `filter(lambda ele: ele % 2 != 0, input_list)`: This part uses Python's filter function along with a `lambda` function to create a new list containing only the elements from `input_list` for which the `lambda` function `ele % 2 != 0` returns True. In other words, it filters out the even numbers and keeps the odd numbers from the input list.\n",
    "\n",
    "3. `print(list(...)`: This part converts the filtered result into a list and prints it.\n",
    "\n",
    "Now, let's apply the lambda function `ele % 2 != 0` to each element of the `input_list`:\n",
    "\n",
    "1. For the first element, `7`:\n",
    "\n",
    "`7 % 2` is not equal to `0`, so `7` satisfies the condition and is included in the filtered list.\n",
    "\n",
    "2. For the second element, `8`:\n",
    "\n",
    "`8 % 2 is equal to 0`, so `8` does not satisfy the condition and is excluded from the filtered list.\n",
    "\n",
    "3. For the third element, `120`:\n",
    "\n",
    "`120 % 2 is equal to 0`, so `120` does not satisfy the condition and is excluded from the filtered list.\n",
    "\n",
    "4. For the fourth element, `25`:\n",
    "\n",
    "`25 % 2 is not equal to 0`, so `25` satisfies the condition and is included in the filtered list.\n",
    "\n",
    "5. For the remaining elements, `44, 20, and 27`, the process is similar as for `8 and 120`.\n",
    "\n",
    "After the filtering is complete, the result will be a list containing the odd numbers: `[7, 25, 27]`."
   ]
  },
  {
   "cell_type": "markdown",
   "id": "47d7af7c-1b98-40cc-b1d8-c4c88539c651",
   "metadata": {},
   "source": [
    "### Q6. Write a Python program to get unique values from a list.\n",
    "#### INPUT: [10, 20, 30, 40, 20, 50, 60, 40]\n",
    "#### OUTPUT: [40, 10, 50, 20, 60, 30]"
   ]
  },
  {
   "cell_type": "code",
   "execution_count": 11,
   "id": "99ebccb0-0c5e-4144-a98f-5eee9fd909fe",
   "metadata": {
    "tags": []
   },
   "outputs": [
    {
     "data": {
      "text/plain": [
       "[40, 10, 50, 20, 60, 30]"
      ]
     },
     "execution_count": 11,
     "metadata": {},
     "output_type": "execute_result"
    }
   ],
   "source": [
    "input_list =  [10, 20, 30, 40, 20, 50, 60, 40]\n",
    "\n",
    "# To get unique values from a list we can use set() function\n",
    "# set() have no redundant values and have no order for data elements\n",
    "\n",
    "input_list = list(set(input_list))\n",
    "input_list"
   ]
  },
  {
   "cell_type": "markdown",
   "id": "85ceab2d-fe79-4dab-bbf4-c4902666701e",
   "metadata": {},
   "source": [
    "`set(input_list)`: This part creates a set from the elements of `input_list`. Since sets do not allow duplicate elements, this operation effectively removes any duplicates from the original list.\n",
    "\n",
    "`input_list` = `list()`: This part converts the set back into a list and assigns it to the variable input_list. The resulting list now contains only the unique elements from the original list.\n",
    "\n",
    "Creating a set from a list has a time complexity of `O(n)`, where n is the number of elements in the original list. \n",
    "This is because each element has to be `hashed` and added to the set."
   ]
  },
  {
   "cell_type": "markdown",
   "id": "ef5cfc54-bcfb-4b93-96ce-ccc6db6b1b56",
   "metadata": {},
   "source": [
    "### Q7. Write a Python program to convert a list of characters into a string.\n",
    "#### INPUT: ['a', 'b', 'c', 'd']\n",
    "#### OUTPUT: abcd"
   ]
  },
  {
   "cell_type": "code",
   "execution_count": 12,
   "id": "34ffedc9-892f-411b-adda-c4bdc27d72d6",
   "metadata": {
    "tags": []
   },
   "outputs": [
    {
     "name": "stdout",
     "output_type": "stream",
     "text": [
      "abcd\n"
     ]
    }
   ],
   "source": [
    "input_list =  ['a', 'b', 'c', 'd']\n",
    "print(''.join(input_list))"
   ]
  },
  {
   "cell_type": "markdown",
   "id": "91a2e098-d601-41ba-88aa-11c01e70d7ee",
   "metadata": {},
   "source": [
    "- The `join` method is used with an empty string `''` to concatenate all the characters from the `input_list` into a single string.\n",
    "- The resulting string is then printed, giving the `output:` abcd.  "
   ]
  },
  {
   "cell_type": "markdown",
   "id": "68497a94-fa8b-4614-8d3e-296ae865d1df",
   "metadata": {},
   "source": [
    "### Q8. Write a Python program to calculate the difference between the two lists.\n",
    "#### INPUT:\n",
    "#### list1 = [1, 3, 5, 7, 9]\n",
    "#### list2 = [1, 2, 4, 6, 7, 8]\n",
    "#### OUTPUT: [9, 3, 5, 8, 2, 4, 6]"
   ]
  },
  {
   "cell_type": "code",
   "execution_count": null,
   "id": "14123135-2943-427c-9dbb-4a913029c586",
   "metadata": {},
   "outputs": [],
   "source": [
    "list1 = [1, 3, 5, 7, 9]\n",
    "list2 = [1, 2, 4, 6, 7, 8]\n"
   ]
  }
 ],
 "metadata": {
  "kernelspec": {
   "display_name": "Python 3 (ipykernel)",
   "language": "python",
   "name": "python3"
  },
  "language_info": {
   "codemirror_mode": {
    "name": "ipython",
    "version": 3
   },
   "file_extension": ".py",
   "mimetype": "text/x-python",
   "name": "python",
   "nbconvert_exporter": "python",
   "pygments_lexer": "ipython3",
   "version": "3.11.3"
  }
 },
 "nbformat": 4,
 "nbformat_minor": 5
}
