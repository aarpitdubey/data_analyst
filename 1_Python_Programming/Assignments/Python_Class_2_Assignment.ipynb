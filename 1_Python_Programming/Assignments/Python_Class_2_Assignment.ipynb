{
 "cells": [
  {
   "cell_type": "markdown",
   "id": "1179c535-075f-4105-b9ae-7c3ac9528c38",
   "metadata": {},
   "source": [
    "# <center>Python Assignment</center>\n",
    "\n",
    "## <center>LIST</center>"
   ]
  },
  {
   "cell_type": "markdown",
   "id": "a5fcd39a-ccb3-4027-92f6-9e243d231e13",
   "metadata": {},
   "source": [
    "### Q1: Write a Python program to remove duplicates from a list.\n",
    "\n",
    "#### INPUT: a = [10,20,30,20,10,50,60,40,80,50,40]\n",
    "#### OUTPUT: {40, 10, 80, 50, 20, 60, 30}"
   ]
  },
  {
   "cell_type": "code",
   "execution_count": 1,
   "id": "cab3fa22-4e45-4cb9-a3ee-313820326356",
   "metadata": {
    "tags": []
   },
   "outputs": [],
   "source": [
    "# Method 1: Using generic method or loop to firstly sort the list and then match elements and remove which matched exactly\n",
    "a = [10,20,30,20,10,50,60,40,80,50,40]\n",
    "output = sorted(a)"
   ]
  },
  {
   "cell_type": "code",
   "execution_count": 2,
   "id": "d0366409-5a28-434e-8325-1994838d27d0",
   "metadata": {
    "tags": []
   },
   "outputs": [
    {
     "name": "stdout",
     "output_type": "stream",
     "text": [
      "[10, 20, 30, 40, 50, 60, 80]\n"
     ]
    }
   ],
   "source": [
    "for ele in range(len(output)-1):\n",
    "    if (ele+1 <= len(output)-1 and output[ele] == output[ele+1]):\n",
    "        output.remove(output[ele+1])\n",
    "print(output)"
   ]
  },
  {
   "cell_type": "code",
   "execution_count": 3,
   "id": "372bce7f-5797-46ea-934c-1d3a87dd3d6b",
   "metadata": {
    "tags": []
   },
   "outputs": [
    {
     "name": "stdout",
     "output_type": "stream",
     "text": [
      "[40, 10, 80, 50, 20, 60, 30]\n"
     ]
    }
   ],
   "source": [
    "# Method 2  we use set() method\n",
    "a      = [10,20,30,20,10,50,60,40,80,50,40]\n",
    "a_set  = set(a)\n",
    "output = list(a_set)\n",
    "print(output)"
   ]
  },
  {
   "cell_type": "markdown",
   "id": "62eae241-706b-439f-9a7a-b00bc8cec8b6",
   "metadata": {},
   "source": [
    "#### Method 1: \n",
    "- The code first sorts the list using the **sorted()** function. Then, it iterates over the sorted list using a for loop. \n",
    "- Within the loop, it checks if the current element is equal to the next element in the list. - If they are equal, it removes the next element using the **remove()** function. \n",
    "- This process continues until the end of the list. However, this method doesn't handle the removal of all duplicate elements accurately due to the modifying of the list while iterating over it.\n",
    "- Time Complexity : O(n<sup>2</sup>)\n",
    "\n",
    "#### Method 2: \n",
    "- In this method, the **set()** function is used to convert the list to a set. \n",
    "- A set is a collection of unique elements, so any duplicate elements in the list are automatically removed when converted to a set. \n",
    "- Then, the set is converted back to a list using the **list()** function, resulting in a list with duplicate elements removed.\n",
    "- Time Complexity : O(n)"
   ]
  },
  {
   "cell_type": "markdown",
   "id": "e7ae8997-e50c-40f4-befe-4ecbd1bb0f98",
   "metadata": {},
   "source": [
    "### Q2. Write a Python program to sum all the items in a list.\n",
    "#### INPUT: [1,2,-8]\n",
    "#### OUTPUT: -5\n"
   ]
  },
  {
   "cell_type": "code",
   "execution_count": 4,
   "id": "d5411159-b291-40ef-8d02-96ea2f93d064",
   "metadata": {
    "tags": []
   },
   "outputs": [
    {
     "name": "stdout",
     "output_type": "stream",
     "text": [
      "-5\n"
     ]
    }
   ],
   "source": [
    "# Method 1 : using generic element by element addition\n",
    "input_list = [1, 2, -8]\n",
    "output     = 0\n",
    "\n",
    "for ele in input_list:\n",
    "    output += ele\n",
    "print(output)"
   ]
  },
  {
   "cell_type": "code",
   "execution_count": 5,
   "id": "ca1e9059-ee0e-4341-9eb4-3bc78f32c973",
   "metadata": {
    "tags": []
   },
   "outputs": [
    {
     "name": "stdout",
     "output_type": "stream",
     "text": [
      "-5\n"
     ]
    }
   ],
   "source": [
    "# Method 2 : sum() function\n",
    "print(sum(input_list))"
   ]
  },
  {
   "cell_type": "code",
   "execution_count": 6,
   "id": "d0ebcff8-13f3-41b5-ad79-a7407784dc71",
   "metadata": {
    "tags": []
   },
   "outputs": [
    {
     "name": "stdout",
     "output_type": "stream",
     "text": [
      "-5\n"
     ]
    }
   ],
   "source": [
    "# Method 3 : Using reduce() and lambda function\n",
    "from functools import reduce\n",
    "print(reduce(lambda x, y: x + y, input_list))"
   ]
  },
  {
   "cell_type": "markdown",
   "id": "4415d9fe-8b09-4d41-9993-6e1437c5bf92",
   "metadata": {},
   "source": [
    "#### Method 1: Using a for loop\n",
    "\n",
    "- Iterate through the input list using a for loop.\n",
    "- Add each element to a running total to calculate the sum.\n",
    "- **Time Complexity:** O(n) - linear time complexity where n is the number of elements in the list.\n",
    "\n",
    "\n",
    "#### Method 2: Using the sum() function\n",
    "\n",
    "- Use the built-in **sum()** function in Python, which takes the input list as an argument and returns the sum of all the elements.\n",
    "- **Time Complexity:** O(n) - linear time complexity.\n",
    "\n",
    "#### Method 3: Using reduce() and lambda function\n",
    "\n",
    "- Use the **reduce()** function from the functools module along with a lambda function to iteratively sum the elements in the input list.\n",
    "- Provides a different approach using functional programming concepts.\n",
    "- **Time Complexity: O(n)** - linear time complexity."
   ]
  },
  {
   "cell_type": "code",
   "execution_count": null,
   "id": "e482735d-6154-488f-b670-71df74c110f1",
   "metadata": {},
   "outputs": [],
   "source": []
  }
 ],
 "metadata": {
  "kernelspec": {
   "display_name": "Python 3 (ipykernel)",
   "language": "python",
   "name": "python3"
  },
  "language_info": {
   "codemirror_mode": {
    "name": "ipython",
    "version": 3
   },
   "file_extension": ".py",
   "mimetype": "text/x-python",
   "name": "python",
   "nbconvert_exporter": "python",
   "pygments_lexer": "ipython3",
   "version": "3.11.3"
  }
 },
 "nbformat": 4,
 "nbformat_minor": 5
}
